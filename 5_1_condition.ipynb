{
  "nbformat": 4,
  "nbformat_minor": 0,
  "metadata": {
    "colab": {
      "provenance": []
    },
    "kernelspec": {
      "name": "python3",
      "display_name": "Python 3"
    },
    "language_info": {
      "name": "python"
    }
  },
  "cells": [
    {
      "cell_type": "code",
      "execution_count": null,
      "metadata": {
        "colab": {
          "base_uri": "https://localhost:8080/"
        },
        "id": "XInnbQ6CxLcJ",
        "outputId": "84bc96b6-53ae-4238-fd8b-0a394c47b1a3"
      },
      "outputs": [
        {
          "output_type": "stream",
          "name": "stdout",
          "text": [
            "name =  James\n"
          ]
        }
      ],
      "source": [
        "first_name = \"James\"\n",
        "print(\"name = \",first_name)"
      ]
    },
    {
      "cell_type": "code",
      "source": [
        "first_name = \"james\"\n",
        "last_name = \"william\"\n",
        "\n",
        "print(\"full_name=\",first_name,last_name)\n",
        "\n",
        "last_name = \"nickson\"\n",
        "print(\"full name =\",first_name,last_name)"
      ],
      "metadata": {
        "colab": {
          "base_uri": "https://localhost:8080/"
        },
        "id": "tdtN7c7MxgJi",
        "outputId": "b613a776-e251-40ed-9e18-0e1b102f4a41"
      },
      "execution_count": null,
      "outputs": [
        {
          "output_type": "stream",
          "name": "stdout",
          "text": [
            "full_name= james william\n",
            "full name = james nickson\n"
          ]
        }
      ]
    },
    {
      "cell_type": "code",
      "source": [
        "age=int(input(\"enter your age\"))\n",
        "\n",
        "if age>18:\n",
        "    print(\"adult\")\n",
        "else :\n",
        "    print(\"child\")\n"
      ],
      "metadata": {
        "colab": {
          "base_uri": "https://localhost:8080/"
        },
        "id": "pCaVrU7FzKbp",
        "outputId": "9b9d3002-fc9e-4b18-a1f7-611e29034976"
      },
      "execution_count": null,
      "outputs": [
        {
          "output_type": "stream",
          "name": "stdout",
          "text": [
            "enter your age34\n",
            "adult\n"
          ]
        }
      ]
    },
    {
      "cell_type": "markdown",
      "source": [
        "write the program to accect two nnumbers from the user and display the largest number"
      ],
      "metadata": {
        "id": "4VEWRPjy2QB2"
      }
    },
    {
      "cell_type": "code",
      "source": [
        "num_1 = int(input(\"Enter first number\"))\n",
        "num_2 = int(input(\"enter second number\"))\n",
        "\n",
        "if num_1 > num_2:\n",
        "   print(\"first number is the largest\")\n",
        "else :\n",
        "   print(\"second number is the largest\")"
      ],
      "metadata": {
        "colab": {
          "base_uri": "https://localhost:8080/"
        },
        "id": "sqXoeHrR2o-8",
        "outputId": "5f0e9429-e9fb-44a5-f622-2b6b7ab2a1d0"
      },
      "execution_count": null,
      "outputs": [
        {
          "output_type": "stream",
          "name": "stdout",
          "text": [
            "Enter first number23\n",
            "enter second number18\n",
            "first number is the largest\n"
          ]
        }
      ]
    },
    {
      "cell_type": "code",
      "source": [
        "num = int(input(\"Enter number\"))\n",
        "\n",
        "if num > 0:\n",
        "   print(\"positive\")\n",
        "else :\n",
        "    if num < 0:\n",
        "       print(\"negative\")\n",
        "    else:\n",
        "      print(\"zero\")\n",
        "\n"
      ],
      "metadata": {
        "colab": {
          "base_uri": "https://localhost:8080/"
        },
        "id": "W_aul1SN6giz",
        "outputId": "a9d1385a-5fe6-4f9a-d2a1-51ea4aed3a7a"
      },
      "execution_count": null,
      "outputs": [
        {
          "output_type": "stream",
          "name": "stdout",
          "text": [
            "Enter number5\n",
            "positive\n"
          ]
        }
      ]
    },
    {
      "cell_type": "code",
      "source": [
        "num = int(input(\"enter number\"))\n",
        "\n",
        "if num > 0:\n",
        "   print(\"positive\")\n",
        "elif num < 0:\n",
        "   print(\"negative\")\n",
        "else:\n",
        "  print(\"zero\")\n"
      ],
      "metadata": {
        "colab": {
          "base_uri": "https://localhost:8080/"
        },
        "id": "zGccLgMs_LhK",
        "outputId": "fcb326a0-f294-4e56-d477-b36be13b4f60"
      },
      "execution_count": null,
      "outputs": [
        {
          "output_type": "stream",
          "name": "stdout",
          "text": [
            "enter number-7\n",
            "negative\n"
          ]
        }
      ]
    },
    {
      "cell_type": "markdown",
      "source": [
        "write a program to give grades for your marks\n",
        "mark >= 90 ==> A\n",
        "90 > mark > 80 ==> B\n",
        "80 > mark > 70 ==> C\n",
        "70 > mark > 60 ==> D\n",
        "mark < 60 ==> f\n",
        "\n"
      ],
      "metadata": {
        "id": "PsxET1eDAVkq"
      }
    },
    {
      "cell_type": "code",
      "source": [
        "mark = int(input(\"enter mark\"))\n",
        "if mark<=100 and mark<0\n",
        "\n",
        "  if mark>=90:\n",
        "   print(\"A\")\n",
        "  elif mark>=80:\n",
        "    print(\"B\")\n",
        "  elif mark>=70:\n",
        "     print(\"C\")\n",
        "  elif mark>=60:\n",
        "    print(\"D\")\n",
        "  else :\n",
        "     print(\"F\")\n",
        "else :\n",
        "  print(\"invalid\")\n"
      ],
      "metadata": {
        "colab": {
          "base_uri": "https://localhost:8080/"
        },
        "id": "ZPFq30RgBcaJ",
        "outputId": "6f75697f-e086-447a-88d0-3ac449de4da2"
      },
      "execution_count": null,
      "outputs": [
        {
          "output_type": "stream",
          "name": "stdout",
          "text": [
            "enter mark-9\n",
            "invalid\n"
          ]
        }
      ]
    }
  ]
}