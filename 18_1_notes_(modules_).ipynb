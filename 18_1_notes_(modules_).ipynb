{
  "nbformat": 4,
  "nbformat_minor": 0,
  "metadata": {
    "colab": {
      "provenance": []
    },
    "kernelspec": {
      "name": "python3",
      "display_name": "Python 3"
    },
    "language_info": {
      "name": "python"
    }
  },
  "cells": [
    {
      "cell_type": "markdown",
      "source": [
        "in here we are going to how to get other functions or even classes"
      ],
      "metadata": {
        "id": "dqg9SLjupyzn"
      }
    },
    {
      "cell_type": "code",
      "execution_count": null,
      "metadata": {
        "id": "_-hKvzCjjI2B"
      },
      "outputs": [],
      "source": [
        "# open files ---> new files ---> rename(my_module.py to open python file)\n",
        "# to access this list inside of module use \"import(module name)\""
      ]
    },
    {
      "cell_type": "code",
      "source": [
        "# i thnk it's not working bcs i open python file in wron way"
      ],
      "metadata": {
        "id": "AkA8XNP690oG"
      },
      "execution_count": null,
      "outputs": []
    },
    {
      "cell_type": "code",
      "source": [
        "import my_module\n",
        "\n",
        "my_module.skill_list"
      ],
      "metadata": {
        "colab": {
          "base_uri": "https://localhost:8080/",
          "height": 109
        },
        "collapsed": true,
        "id": "moOReoqXsuHH",
        "outputId": "c0763c84-90a4-48b9-b8c8-d4ddc6d317a9"
      },
      "execution_count": null,
      "outputs": [
        {
          "output_type": "error",
          "ename": "SyntaxError",
          "evalue": "invalid syntax (<ipython-input-4-025a61709021>, line 1)",
          "traceback": [
            "\u001b[0;36m  File \u001b[0;32m\"<ipython-input-4-025a61709021>\"\u001b[0;36m, line \u001b[0;32m1\u001b[0m\n\u001b[0;31m    import *\u001b[0m\n\u001b[0m           ^\u001b[0m\n\u001b[0;31mSyntaxError\u001b[0m\u001b[0;31m:\u001b[0m invalid syntax\n"
          ]
        }
      ]
    },
    {
      "cell_type": "code",
      "source": [
        "# calling a module function syntex \"modul_name.function_name()\""
      ],
      "metadata": {
        "id": "DC70pNMWtcc3"
      },
      "execution_count": null,
      "outputs": []
    },
    {
      "cell_type": "code",
      "source": [
        "my_module.skill(\"python\")"
      ],
      "metadata": {
        "collapsed": true,
        "id": "FenIegNlzlwV"
      },
      "execution_count": null,
      "outputs": []
    },
    {
      "cell_type": "code",
      "source": [
        "#the updated content whenever we imported it in are not upadated inside of this jupiter notebook\n",
        "# so we need to restart and run all"
      ],
      "metadata": {
        "id": "rvwbrNLS0Df0"
      },
      "execution_count": null,
      "outputs": []
    },
    {
      "cell_type": "code",
      "source": [],
      "metadata": {
        "id": "X-bV-BIQ21Jy"
      },
      "execution_count": null,
      "outputs": []
    }
  ]
}