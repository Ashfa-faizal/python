{
  "nbformat": 4,
  "nbformat_minor": 0,
  "metadata": {
    "colab": {
      "provenance": []
    },
    "kernelspec": {
      "name": "python3",
      "display_name": "Python 3"
    },
    "language_info": {
      "name": "python"
    }
  },
  "cells": [
    {
      "cell_type": "markdown",
      "source": [
        "#Common Data Analysis Methods\n",
        "* Notes\n",
        "* But there are other methods like:\n",
        "\n",
        "1. df.sum() - Sum of values\n",
        "2. df.cumsum() - Cummulative sum of values\n",
        "3. df.min()/df.max() - Minimum/maximum values\n",
        "4. df.idxmin()/df.idxmax() - Indexes of minimum/Maximum value\n",
        "5. df.mean() - Mean of values\n",
        "6. df.median() - Median of values\n",
        "7. df.mode() - Mode of the values\n",
        "8. series.value_counts() - Counts of unique values for a Series (aka a column)\n",
        "\n",
        "\n",
        "---\n",
        "\n",
        "\n",
        "* Typically used for counting unique occurrences within a single column.\n",
        "* It's not applicable to an entire DataFrame without specifying a column.\n",
        "* Depending on the method, you can apply it directly to a DataFrame or a Series."
      ],
      "metadata": {
        "id": "G5nVR5SQSnSe"
      }
    },
    {
      "cell_type": "code",
      "source": [
        "import pandas as pd"
      ],
      "metadata": {
        "id": "Xnh2fow1QOIY"
      },
      "execution_count": null,
      "outputs": []
    },
    {
      "cell_type": "code",
      "source": [
        "df = pd.read_csv(\"/content/data_jobs.csv\")"
      ],
      "metadata": {
        "id": "TYiyJmMHQ7MR"
      },
      "execution_count": null,
      "outputs": []
    },
    {
      "cell_type": "code",
      "source": [
        "df['job_posted_date'] = pd.to_datetime(df['job_posted_date'])"
      ],
      "metadata": {
        "id": "Kalz9B8LRfdq"
      },
      "execution_count": null,
      "outputs": []
    },
    {
      "cell_type": "code",
      "source": [
        "df.describe()"
      ],
      "metadata": {
        "colab": {
          "base_uri": "https://localhost:8080/",
          "height": 300
        },
        "id": "dUyau1LyUHu0",
        "outputId": "144f907d-7215-474a-833d-2dc5dae8b70b"
      },
      "execution_count": null,
      "outputs": [
        {
          "output_type": "execute_result",
          "data": {
            "text/plain": [
              "                     job_posted_date  salary_year_avg  salary_hour_avg\n",
              "count                           6866       238.000000       100.000000\n",
              "mean   2023-06-23 06:26:18.448441344    130473.224708        54.327900\n",
              "min              2023-01-01 13:02:08     34288.574219         9.500000\n",
              "25%    2023-03-17 14:05:57.750000128     96945.375000        38.410001\n",
              "50%              2023-06-21 13:50:29    125000.000000        56.545000\n",
              "75%    2023-09-25 13:54:20.750000128    157500.000000        66.375000\n",
              "max              2023-12-31 13:32:38    375000.000000       115.000000\n",
              "std                              NaN     51989.856520        21.027555"
            ],
            "text/html": [
              "\n",
              "  <div id=\"df-646f6e40-7406-4bbb-afcb-3cd8c0b8595a\" class=\"colab-df-container\">\n",
              "    <div>\n",
              "<style scoped>\n",
              "    .dataframe tbody tr th:only-of-type {\n",
              "        vertical-align: middle;\n",
              "    }\n",
              "\n",
              "    .dataframe tbody tr th {\n",
              "        vertical-align: top;\n",
              "    }\n",
              "\n",
              "    .dataframe thead th {\n",
              "        text-align: right;\n",
              "    }\n",
              "</style>\n",
              "<table border=\"1\" class=\"dataframe\">\n",
              "  <thead>\n",
              "    <tr style=\"text-align: right;\">\n",
              "      <th></th>\n",
              "      <th>job_posted_date</th>\n",
              "      <th>salary_year_avg</th>\n",
              "      <th>salary_hour_avg</th>\n",
              "    </tr>\n",
              "  </thead>\n",
              "  <tbody>\n",
              "    <tr>\n",
              "      <th>count</th>\n",
              "      <td>6866</td>\n",
              "      <td>238.000000</td>\n",
              "      <td>100.000000</td>\n",
              "    </tr>\n",
              "    <tr>\n",
              "      <th>mean</th>\n",
              "      <td>2023-06-23 06:26:18.448441344</td>\n",
              "      <td>130473.224708</td>\n",
              "      <td>54.327900</td>\n",
              "    </tr>\n",
              "    <tr>\n",
              "      <th>min</th>\n",
              "      <td>2023-01-01 13:02:08</td>\n",
              "      <td>34288.574219</td>\n",
              "      <td>9.500000</td>\n",
              "    </tr>\n",
              "    <tr>\n",
              "      <th>25%</th>\n",
              "      <td>2023-03-17 14:05:57.750000128</td>\n",
              "      <td>96945.375000</td>\n",
              "      <td>38.410001</td>\n",
              "    </tr>\n",
              "    <tr>\n",
              "      <th>50%</th>\n",
              "      <td>2023-06-21 13:50:29</td>\n",
              "      <td>125000.000000</td>\n",
              "      <td>56.545000</td>\n",
              "    </tr>\n",
              "    <tr>\n",
              "      <th>75%</th>\n",
              "      <td>2023-09-25 13:54:20.750000128</td>\n",
              "      <td>157500.000000</td>\n",
              "      <td>66.375000</td>\n",
              "    </tr>\n",
              "    <tr>\n",
              "      <th>max</th>\n",
              "      <td>2023-12-31 13:32:38</td>\n",
              "      <td>375000.000000</td>\n",
              "      <td>115.000000</td>\n",
              "    </tr>\n",
              "    <tr>\n",
              "      <th>std</th>\n",
              "      <td>NaN</td>\n",
              "      <td>51989.856520</td>\n",
              "      <td>21.027555</td>\n",
              "    </tr>\n",
              "  </tbody>\n",
              "</table>\n",
              "</div>\n",
              "    <div class=\"colab-df-buttons\">\n",
              "\n",
              "  <div class=\"colab-df-container\">\n",
              "    <button class=\"colab-df-convert\" onclick=\"convertToInteractive('df-646f6e40-7406-4bbb-afcb-3cd8c0b8595a')\"\n",
              "            title=\"Convert this dataframe to an interactive table.\"\n",
              "            style=\"display:none;\">\n",
              "\n",
              "  <svg xmlns=\"http://www.w3.org/2000/svg\" height=\"24px\" viewBox=\"0 -960 960 960\">\n",
              "    <path d=\"M120-120v-720h720v720H120Zm60-500h600v-160H180v160Zm220 220h160v-160H400v160Zm0 220h160v-160H400v160ZM180-400h160v-160H180v160Zm440 0h160v-160H620v160ZM180-180h160v-160H180v160Zm440 0h160v-160H620v160Z\"/>\n",
              "  </svg>\n",
              "    </button>\n",
              "\n",
              "  <style>\n",
              "    .colab-df-container {\n",
              "      display:flex;\n",
              "      gap: 12px;\n",
              "    }\n",
              "\n",
              "    .colab-df-convert {\n",
              "      background-color: #E8F0FE;\n",
              "      border: none;\n",
              "      border-radius: 50%;\n",
              "      cursor: pointer;\n",
              "      display: none;\n",
              "      fill: #1967D2;\n",
              "      height: 32px;\n",
              "      padding: 0 0 0 0;\n",
              "      width: 32px;\n",
              "    }\n",
              "\n",
              "    .colab-df-convert:hover {\n",
              "      background-color: #E2EBFA;\n",
              "      box-shadow: 0px 1px 2px rgba(60, 64, 67, 0.3), 0px 1px 3px 1px rgba(60, 64, 67, 0.15);\n",
              "      fill: #174EA6;\n",
              "    }\n",
              "\n",
              "    .colab-df-buttons div {\n",
              "      margin-bottom: 4px;\n",
              "    }\n",
              "\n",
              "    [theme=dark] .colab-df-convert {\n",
              "      background-color: #3B4455;\n",
              "      fill: #D2E3FC;\n",
              "    }\n",
              "\n",
              "    [theme=dark] .colab-df-convert:hover {\n",
              "      background-color: #434B5C;\n",
              "      box-shadow: 0px 1px 3px 1px rgba(0, 0, 0, 0.15);\n",
              "      filter: drop-shadow(0px 1px 2px rgba(0, 0, 0, 0.3));\n",
              "      fill: #FFFFFF;\n",
              "    }\n",
              "  </style>\n",
              "\n",
              "    <script>\n",
              "      const buttonEl =\n",
              "        document.querySelector('#df-646f6e40-7406-4bbb-afcb-3cd8c0b8595a button.colab-df-convert');\n",
              "      buttonEl.style.display =\n",
              "        google.colab.kernel.accessAllowed ? 'block' : 'none';\n",
              "\n",
              "      async function convertToInteractive(key) {\n",
              "        const element = document.querySelector('#df-646f6e40-7406-4bbb-afcb-3cd8c0b8595a');\n",
              "        const dataTable =\n",
              "          await google.colab.kernel.invokeFunction('convertToInteractive',\n",
              "                                                    [key], {});\n",
              "        if (!dataTable) return;\n",
              "\n",
              "        const docLinkHtml = 'Like what you see? Visit the ' +\n",
              "          '<a target=\"_blank\" href=https://colab.research.google.com/notebooks/data_table.ipynb>data table notebook</a>'\n",
              "          + ' to learn more about interactive tables.';\n",
              "        element.innerHTML = '';\n",
              "        dataTable['output_type'] = 'display_data';\n",
              "        await google.colab.output.renderOutput(dataTable, element);\n",
              "        const docLink = document.createElement('div');\n",
              "        docLink.innerHTML = docLinkHtml;\n",
              "        element.appendChild(docLink);\n",
              "      }\n",
              "    </script>\n",
              "  </div>\n",
              "\n",
              "\n",
              "    <div id=\"df-b9d776df-e085-493b-bec3-29f7b898c8ea\">\n",
              "      <button class=\"colab-df-quickchart\" onclick=\"quickchart('df-b9d776df-e085-493b-bec3-29f7b898c8ea')\"\n",
              "                title=\"Suggest charts\"\n",
              "                style=\"display:none;\">\n",
              "\n",
              "<svg xmlns=\"http://www.w3.org/2000/svg\" height=\"24px\"viewBox=\"0 0 24 24\"\n",
              "     width=\"24px\">\n",
              "    <g>\n",
              "        <path d=\"M19 3H5c-1.1 0-2 .9-2 2v14c0 1.1.9 2 2 2h14c1.1 0 2-.9 2-2V5c0-1.1-.9-2-2-2zM9 17H7v-7h2v7zm4 0h-2V7h2v10zm4 0h-2v-4h2v4z\"/>\n",
              "    </g>\n",
              "</svg>\n",
              "      </button>\n",
              "\n",
              "<style>\n",
              "  .colab-df-quickchart {\n",
              "      --bg-color: #E8F0FE;\n",
              "      --fill-color: #1967D2;\n",
              "      --hover-bg-color: #E2EBFA;\n",
              "      --hover-fill-color: #174EA6;\n",
              "      --disabled-fill-color: #AAA;\n",
              "      --disabled-bg-color: #DDD;\n",
              "  }\n",
              "\n",
              "  [theme=dark] .colab-df-quickchart {\n",
              "      --bg-color: #3B4455;\n",
              "      --fill-color: #D2E3FC;\n",
              "      --hover-bg-color: #434B5C;\n",
              "      --hover-fill-color: #FFFFFF;\n",
              "      --disabled-bg-color: #3B4455;\n",
              "      --disabled-fill-color: #666;\n",
              "  }\n",
              "\n",
              "  .colab-df-quickchart {\n",
              "    background-color: var(--bg-color);\n",
              "    border: none;\n",
              "    border-radius: 50%;\n",
              "    cursor: pointer;\n",
              "    display: none;\n",
              "    fill: var(--fill-color);\n",
              "    height: 32px;\n",
              "    padding: 0;\n",
              "    width: 32px;\n",
              "  }\n",
              "\n",
              "  .colab-df-quickchart:hover {\n",
              "    background-color: var(--hover-bg-color);\n",
              "    box-shadow: 0 1px 2px rgba(60, 64, 67, 0.3), 0 1px 3px 1px rgba(60, 64, 67, 0.15);\n",
              "    fill: var(--button-hover-fill-color);\n",
              "  }\n",
              "\n",
              "  .colab-df-quickchart-complete:disabled,\n",
              "  .colab-df-quickchart-complete:disabled:hover {\n",
              "    background-color: var(--disabled-bg-color);\n",
              "    fill: var(--disabled-fill-color);\n",
              "    box-shadow: none;\n",
              "  }\n",
              "\n",
              "  .colab-df-spinner {\n",
              "    border: 2px solid var(--fill-color);\n",
              "    border-color: transparent;\n",
              "    border-bottom-color: var(--fill-color);\n",
              "    animation:\n",
              "      spin 1s steps(1) infinite;\n",
              "  }\n",
              "\n",
              "  @keyframes spin {\n",
              "    0% {\n",
              "      border-color: transparent;\n",
              "      border-bottom-color: var(--fill-color);\n",
              "      border-left-color: var(--fill-color);\n",
              "    }\n",
              "    20% {\n",
              "      border-color: transparent;\n",
              "      border-left-color: var(--fill-color);\n",
              "      border-top-color: var(--fill-color);\n",
              "    }\n",
              "    30% {\n",
              "      border-color: transparent;\n",
              "      border-left-color: var(--fill-color);\n",
              "      border-top-color: var(--fill-color);\n",
              "      border-right-color: var(--fill-color);\n",
              "    }\n",
              "    40% {\n",
              "      border-color: transparent;\n",
              "      border-right-color: var(--fill-color);\n",
              "      border-top-color: var(--fill-color);\n",
              "    }\n",
              "    60% {\n",
              "      border-color: transparent;\n",
              "      border-right-color: var(--fill-color);\n",
              "    }\n",
              "    80% {\n",
              "      border-color: transparent;\n",
              "      border-right-color: var(--fill-color);\n",
              "      border-bottom-color: var(--fill-color);\n",
              "    }\n",
              "    90% {\n",
              "      border-color: transparent;\n",
              "      border-bottom-color: var(--fill-color);\n",
              "    }\n",
              "  }\n",
              "</style>\n",
              "\n",
              "      <script>\n",
              "        async function quickchart(key) {\n",
              "          const quickchartButtonEl =\n",
              "            document.querySelector('#' + key + ' button');\n",
              "          quickchartButtonEl.disabled = true;  // To prevent multiple clicks.\n",
              "          quickchartButtonEl.classList.add('colab-df-spinner');\n",
              "          try {\n",
              "            const charts = await google.colab.kernel.invokeFunction(\n",
              "                'suggestCharts', [key], {});\n",
              "          } catch (error) {\n",
              "            console.error('Error during call to suggestCharts:', error);\n",
              "          }\n",
              "          quickchartButtonEl.classList.remove('colab-df-spinner');\n",
              "          quickchartButtonEl.classList.add('colab-df-quickchart-complete');\n",
              "        }\n",
              "        (() => {\n",
              "          let quickchartButtonEl =\n",
              "            document.querySelector('#df-b9d776df-e085-493b-bec3-29f7b898c8ea button');\n",
              "          quickchartButtonEl.style.display =\n",
              "            google.colab.kernel.accessAllowed ? 'block' : 'none';\n",
              "        })();\n",
              "      </script>\n",
              "    </div>\n",
              "\n",
              "    </div>\n",
              "  </div>\n"
            ],
            "application/vnd.google.colaboratory.intrinsic+json": {
              "type": "dataframe",
              "summary": "{\n  \"name\": \"df\",\n  \"rows\": 8,\n  \"fields\": [\n    {\n      \"column\": \"job_posted_date\",\n      \"properties\": {\n        \"dtype\": \"date\",\n        \"min\": \"1970-01-01 00:00:00.000006866\",\n        \"max\": \"2023-12-31 13:32:38\",\n        \"num_unique_values\": 7,\n        \"samples\": [\n          \"6866\",\n          \"2023-06-23 06:26:18.448441344\",\n          \"2023-09-25 13:54:20.750000128\"\n        ],\n        \"semantic_type\": \"\",\n        \"description\": \"\"\n      }\n    },\n    {\n      \"column\": \"salary_year_avg\",\n      \"properties\": {\n        \"dtype\": \"number\",\n        \"std\": 115508.73433218016,\n        \"min\": 238.0,\n        \"max\": 375000.0,\n        \"num_unique_values\": 8,\n        \"samples\": [\n          130473.22470785188,\n          157500.0,\n          238.0\n        ],\n        \"semantic_type\": \"\",\n        \"description\": \"\"\n      }\n    },\n    {\n      \"column\": \"salary_hour_avg\",\n      \"properties\": {\n        \"dtype\": \"number\",\n        \"std\": 36.254519934362904,\n        \"min\": 9.5,\n        \"max\": 115.0,\n        \"num_unique_values\": 8,\n        \"samples\": [\n          54.32789991378784,\n          66.375,\n          100.0\n        ],\n        \"semantic_type\": \"\",\n        \"description\": \"\"\n      }\n    }\n  ]\n}"
            }
          },
          "metadata": {},
          "execution_count": 17
        }
      ]
    },
    {
      "cell_type": "code",
      "source": [
        "df.info()"
      ],
      "metadata": {
        "colab": {
          "base_uri": "https://localhost:8080/"
        },
        "id": "H_coUUIbRpEz",
        "outputId": "b55415d8-3549-4e20-ea27-0850ff1fbb15"
      },
      "execution_count": null,
      "outputs": [
        {
          "output_type": "stream",
          "name": "stdout",
          "text": [
            "<class 'pandas.core.frame.DataFrame'>\n",
            "RangeIndex: 6866 entries, 0 to 6865\n",
            "Data columns (total 17 columns):\n",
            " #   Column                 Non-Null Count  Dtype         \n",
            "---  ------                 --------------  -----         \n",
            " 0   job_title_short        6866 non-null   object        \n",
            " 1   job_title              6866 non-null   object        \n",
            " 2   job_location           6851 non-null   object        \n",
            " 3   job_via                6865 non-null   object        \n",
            " 4   job_schedule_type      6777 non-null   object        \n",
            " 5   job_work_from_home     6866 non-null   bool          \n",
            " 6   search_location        6866 non-null   object        \n",
            " 7   job_posted_date        6866 non-null   datetime64[ns]\n",
            " 8   job_no_degree_mention  6866 non-null   bool          \n",
            " 9   job_health_insurance   6866 non-null   bool          \n",
            " 10  job_country            6865 non-null   object        \n",
            " 11  salary_rate            339 non-null    object        \n",
            " 12  salary_year_avg        238 non-null    float64       \n",
            " 13  salary_hour_avg        100 non-null    float64       \n",
            " 14  company_name           6866 non-null   object        \n",
            " 15  job_skills             6043 non-null   object        \n",
            " 16  job_type_skills        6043 non-null   object        \n",
            "dtypes: bool(3), datetime64[ns](1), float64(2), object(11)\n",
            "memory usage: 771.2+ KB\n"
          ]
        }
      ]
    },
    {
      "cell_type": "code",
      "source": [
        "df['salary_year_avg'].median()"
      ],
      "metadata": {
        "colab": {
          "base_uri": "https://localhost:8080/"
        },
        "id": "DyHMxDyNRw4e",
        "outputId": "2a83f176-4877-4f50-f140-c4936ab1eb6a"
      },
      "execution_count": null,
      "outputs": [
        {
          "output_type": "execute_result",
          "data": {
            "text/plain": [
              "125000.0"
            ]
          },
          "metadata": {},
          "execution_count": 16
        }
      ]
    },
    {
      "cell_type": "code",
      "source": [
        "df['salary_year_avg'].min()"
      ],
      "metadata": {
        "colab": {
          "base_uri": "https://localhost:8080/"
        },
        "id": "kK2i73nQS6oq",
        "outputId": "89c881fe-1d1c-4920-e58b-7ba43cf80651"
      },
      "execution_count": null,
      "outputs": [
        {
          "output_type": "execute_result",
          "data": {
            "text/plain": [
              "34288.57421875"
            ]
          },
          "metadata": {},
          "execution_count": 18
        }
      ]
    },
    {
      "cell_type": "code",
      "source": [
        "min_salary = df['salary_year_avg'].idxmin()        # it's gonna provide index of this minimum salary"
      ],
      "metadata": {
        "id": "4r2CVTe7UgYc"
      },
      "execution_count": null,
      "outputs": []
    },
    {
      "cell_type": "code",
      "source": [
        "[df.iloc[min_salary]]           # to identify that row"
      ],
      "metadata": {
        "colab": {
          "base_uri": "https://localhost:8080/"
        },
        "id": "4lf17GQRUjBj",
        "outputId": "5ca90bc4-b6b1-44f1-954d-092faf244933"
      },
      "execution_count": null,
      "outputs": [
        {
          "output_type": "execute_result",
          "data": {
            "text/plain": [
              "[job_title_short                                               Data Analyst\n",
              " job_title                                           Citrus Data Analyst II\n",
              " job_location                                                   Alachua, FL\n",
              " job_via                                                         via Indeed\n",
              " job_schedule_type                                                Full-time\n",
              " job_work_from_home                                                   False\n",
              " search_location                                     Florida, United States\n",
              " job_posted_date                                        2023-04-27 13:02:12\n",
              " job_no_degree_mention                                                 True\n",
              " job_health_insurance                                                  True\n",
              " job_country                                                  United States\n",
              " salary_rate                                                           year\n",
              " salary_year_avg                                               34288.574219\n",
              " salary_hour_avg                                                        NaN\n",
              " company_name             Florida Department of Agriculture & Consumer S...\n",
              " job_skills                                                        ['flow']\n",
              " job_type_skills                                        {'other': ['flow']}\n",
              " Name: 4775, dtype: object]"
            ]
          },
          "metadata": {},
          "execution_count": 22
        }
      ]
    },
    {
      "cell_type": "code",
      "source": [
        "df['job_title_short'].unique()"
      ],
      "metadata": {
        "colab": {
          "base_uri": "https://localhost:8080/"
        },
        "id": "sFPD1ARvU7uJ",
        "outputId": "0932d487-29ea-4705-e016-d66bde0dd8d5"
      },
      "execution_count": null,
      "outputs": [
        {
          "output_type": "execute_result",
          "data": {
            "text/plain": [
              "array(['Senior Data Engineer', 'Data Analyst', 'Data Engineer',\n",
              "       'Business Analyst', 'Data Scientist', 'Machine Learning Engineer',\n",
              "       'Senior Data Analyst', 'Cloud Engineer', 'Senior Data Scientist',\n",
              "       'Software Engineer'], dtype=object)"
            ]
          },
          "metadata": {},
          "execution_count": 23
        }
      ]
    },
    {
      "cell_type": "code",
      "source": [
        "[df['job_title_short'].value_counts()]"
      ],
      "metadata": {
        "colab": {
          "base_uri": "https://localhost:8080/"
        },
        "id": "jCapuvLPVfTP",
        "outputId": "1a9fbf9a-d2c0-4c1b-a620-bf90ffd5b7b3"
      },
      "execution_count": null,
      "outputs": [
        {
          "output_type": "execute_result",
          "data": {
            "text/plain": [
              "[job_title_short\n",
              " Data Engineer                2080\n",
              " Data Analyst                 1508\n",
              " Data Scientist               1401\n",
              " Senior Data Engineer          504\n",
              " Senior Data Scientist         335\n",
              " Business Analyst              312\n",
              " Software Engineer             312\n",
              " Senior Data Analyst           216\n",
              " Machine Learning Engineer     119\n",
              " Cloud Engineer                 79\n",
              " Name: count, dtype: int64]"
            ]
          },
          "metadata": {},
          "execution_count": 25
        }
      ]
    },
    {
      "cell_type": "markdown",
      "source": [
        "#groupby"
      ],
      "metadata": {
        "id": "apNWOBCqWEo3"
      }
    },
    {
      "cell_type": "code",
      "source": [
        "[df.groupby('job_title_short')['salary_year_avg'].min()]"
      ],
      "metadata": {
        "colab": {
          "base_uri": "https://localhost:8080/"
        },
        "id": "4fawIiGEVnp0",
        "outputId": "bd357915-90eb-4195-ad76-fd97a054989b"
      },
      "execution_count": null,
      "outputs": [
        {
          "output_type": "execute_result",
          "data": {
            "text/plain": [
              "[job_title_short\n",
              " Business Analyst              43200.000000\n",
              " Cloud Engineer                         NaN\n",
              " Data Analyst                  34288.574219\n",
              " Data Engineer                 70000.000000\n",
              " Data Scientist                50400.000000\n",
              " Machine Learning Engineer     56700.000000\n",
              " Senior Data Analyst           84039.000000\n",
              " Senior Data Engineer          45000.000000\n",
              " Senior Data Scientist        100000.000000\n",
              " Software Engineer             56700.000000\n",
              " Name: salary_year_avg, dtype: float64]"
            ]
          },
          "metadata": {},
          "execution_count": 29
        }
      ]
    },
    {
      "cell_type": "code",
      "source": [
        "[df.groupby(['job_title_short','job_country'])['salary_year_avg'].median()]"
      ],
      "metadata": {
        "colab": {
          "base_uri": "https://localhost:8080/"
        },
        "id": "7v48vNExWeLb",
        "outputId": "4bec3608-f06a-44bc-f99d-8239c2b957ec"
      },
      "execution_count": null,
      "outputs": [
        {
          "output_type": "execute_result",
          "data": {
            "text/plain": [
              "[job_title_short    job_country         \n",
              " Business Analyst   Australia                    NaN\n",
              "                    Austria                      NaN\n",
              "                    Bangladesh                   NaN\n",
              "                    Belgium                      NaN\n",
              "                    Brazil                       NaN\n",
              "                                              ...   \n",
              " Software Engineer  Ukraine                      NaN\n",
              "                    United Arab Emirates         NaN\n",
              "                    United Kingdom               NaN\n",
              "                    United States           275250.0\n",
              "                    Uruguay                      NaN\n",
              " Name: salary_year_avg, Length: 599, dtype: float64]"
            ]
          },
          "metadata": {},
          "execution_count": 30
        }
      ]
    },
    {
      "cell_type": "code",
      "source": [
        "[df.groupby('job_title_short')[['salary_year_avg','salary_hour_avg']].min()]"
      ],
      "metadata": {
        "colab": {
          "base_uri": "https://localhost:8080/"
        },
        "id": "Cv_DnPPpXU25",
        "outputId": "0639061e-bcf9-436f-defb-de5c15b0f2aa"
      },
      "execution_count": null,
      "outputs": [
        {
          "output_type": "execute_result",
          "data": {
            "text/plain": [
              "[                           salary_year_avg  salary_hour_avg\n",
              " job_title_short                                            \n",
              " Business Analyst              43200.000000        32.184998\n",
              " Cloud Engineer                         NaN              NaN\n",
              " Data Analyst                  34288.574219        15.000000\n",
              " Data Engineer                 70000.000000        32.500000\n",
              " Data Scientist                50400.000000         9.500000\n",
              " Machine Learning Engineer     56700.000000              NaN\n",
              " Senior Data Analyst           84039.000000        24.969999\n",
              " Senior Data Engineer          45000.000000        52.500000\n",
              " Senior Data Scientist        100000.000000        17.500000\n",
              " Software Engineer             56700.000000        23.450001]"
            ]
          },
          "metadata": {},
          "execution_count": 31
        }
      ]
    },
    {
      "cell_type": "code",
      "source": [
        "# to do multiple different operation to do"
      ],
      "metadata": {
        "id": "EQ2LaxwvX32h"
      },
      "execution_count": null,
      "outputs": []
    },
    {
      "cell_type": "code",
      "source": [
        "[df.groupby('job_title_short')['salary_year_avg'].agg(['min','max','mean'])]"
      ],
      "metadata": {
        "colab": {
          "base_uri": "https://localhost:8080/"
        },
        "id": "aZN8ULVnYLkP",
        "outputId": "b0782de9-c65e-47c8-e72d-d08160c512bf"
      },
      "execution_count": null,
      "outputs": [
        {
          "output_type": "execute_result",
          "data": {
            "text/plain": [
              "[                                     min       max           mean\n",
              " job_title_short                                                  \n",
              " Business Analyst            43200.000000  130000.0   85630.000000\n",
              " Cloud Engineer                       NaN       NaN            NaN\n",
              " Data Analyst                34288.574219  186500.0   92410.916427\n",
              " Data Engineer               70000.000000  300000.0  134139.815136\n",
              " Data Scientist              50400.000000  361000.0  143706.336735\n",
              " Machine Learning Engineer   56700.000000  325000.0  150340.000000\n",
              " Senior Data Analyst         84039.000000  170000.0  111089.833333\n",
              " Senior Data Engineer        45000.000000  375000.0  149453.793103\n",
              " Senior Data Scientist      100000.000000  187500.0  148472.750000\n",
              " Software Engineer           56700.000000  317000.0  169620.000000]"
            ]
          },
          "metadata": {},
          "execution_count": 33
        }
      ]
    },
    {
      "cell_type": "code",
      "source": [],
      "metadata": {
        "id": "Nf_EKkn9YSiu"
      },
      "execution_count": null,
      "outputs": []
    }
  ]
}