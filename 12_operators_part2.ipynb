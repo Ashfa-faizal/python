{
  "nbformat": 4,
  "nbformat_minor": 0,
  "metadata": {
    "colab": {
      "provenance": []
    },
    "kernelspec": {
      "name": "python3",
      "display_name": "Python 3"
    },
    "language_info": {
      "name": "python"
    }
  },
  "cells": [
    {
      "cell_type": "markdown",
      "source": [
        "#logical operators"
      ],
      "metadata": {
        "id": "7BIBENlFegyp"
      }
    },
    {
      "cell_type": "code",
      "execution_count": null,
      "metadata": {
        "colab": {
          "base_uri": "https://localhost:8080/"
        },
        "id": "WURaXw5NWkvd",
        "outputId": "45a1bb60-6cde-4681-d589-ce863f69cc3d"
      },
      "outputs": [
        {
          "output_type": "execute_result",
          "data": {
            "text/plain": [
              "False"
            ]
          },
          "metadata": {},
          "execution_count": 8
        }
      ],
      "source": [
        "job_work_from_home = False\n",
        "job_health_insurance = False\n",
        "job_no_degree_mention = False\n",
        "\n",
        "job_work_from_home and job_health_insurance and job_no_degree_mention"
      ]
    },
    {
      "cell_type": "code",
      "source": [
        "job_work_from_home or job_health_insurance or job_no_degree_mention"
      ],
      "metadata": {
        "colab": {
          "base_uri": "https://localhost:8080/"
        },
        "id": "wGlDOIfZcPOA",
        "outputId": "a5f27faa-a9fc-4286-fcee-c7f84bdee2f6"
      },
      "execution_count": null,
      "outputs": [
        {
          "output_type": "execute_result",
          "data": {
            "text/plain": [
              "False"
            ]
          },
          "metadata": {},
          "execution_count": 9
        }
      ]
    },
    {
      "cell_type": "code",
      "source": [
        "job_work_from_home or job_health_insurance or not job_no_degree_mention"
      ],
      "metadata": {
        "colab": {
          "base_uri": "https://localhost:8080/"
        },
        "id": "vwPtV4uxcly3",
        "outputId": "8d1e094e-4103-41e7-a770-75576a077109"
      },
      "execution_count": null,
      "outputs": [
        {
          "output_type": "execute_result",
          "data": {
            "text/plain": [
              "True"
            ]
          },
          "metadata": {},
          "execution_count": 10
        }
      ]
    },
    {
      "cell_type": "code",
      "source": [
        "if job_work_from_home or job_health_insurance or not job_no_degree_mention:\n",
        "  print(\"meets the condition\")"
      ],
      "metadata": {
        "colab": {
          "base_uri": "https://localhost:8080/"
        },
        "id": "l-jh_RohdX0v",
        "outputId": "66c7cf69-a0a4-4a7d-8835-1cffc9b856c5"
      },
      "execution_count": null,
      "outputs": [
        {
          "output_type": "stream",
          "name": "stdout",
          "text": [
            "meets the condition\n"
          ]
        }
      ]
    },
    {
      "cell_type": "markdown",
      "source": [
        "#membership operators\n"
      ],
      "metadata": {
        "id": "7MpRzqN6erCg"
      }
    },
    {
      "cell_type": "code",
      "source": [
        "'data' in 'data nerd'"
      ],
      "metadata": {
        "colab": {
          "base_uri": "https://localhost:8080/"
        },
        "id": "aqsl_SVDeKFl",
        "outputId": "3d8826dc-91f8-4f96-b4f1-a8f7840640ac"
      },
      "execution_count": null,
      "outputs": [
        {
          "output_type": "execute_result",
          "data": {
            "text/plain": [
              "True"
            ]
          },
          "metadata": {},
          "execution_count": 12
        }
      ]
    },
    {
      "cell_type": "code",
      "source": [
        "'Data' in 'data nerd'"
      ],
      "metadata": {
        "colab": {
          "base_uri": "https://localhost:8080/"
        },
        "id": "ZiA-3zpefCVB",
        "outputId": "6d87d690-6958-471d-fa4e-17553dbc7592"
      },
      "execution_count": null,
      "outputs": [
        {
          "output_type": "execute_result",
          "data": {
            "text/plain": [
              "False"
            ]
          },
          "metadata": {},
          "execution_count": 13
        }
      ]
    },
    {
      "cell_type": "code",
      "source": [
        "job_skills = ['python','sql','data analysis']"
      ],
      "metadata": {
        "id": "bJy1hi-EfGSp"
      },
      "execution_count": null,
      "outputs": []
    },
    {
      "cell_type": "code",
      "source": [
        "'python' in job_skills"
      ],
      "metadata": {
        "colab": {
          "base_uri": "https://localhost:8080/"
        },
        "id": "9bh6j75NfVss",
        "outputId": "f046e4ca-ea72-4f20-e01b-daa15708438f"
      },
      "execution_count": null,
      "outputs": [
        {
          "output_type": "execute_result",
          "data": {
            "text/plain": [
              "True"
            ]
          },
          "metadata": {},
          "execution_count": 15
        }
      ]
    },
    {
      "cell_type": "code",
      "source": [
        "'sql' not in job_skills"
      ],
      "metadata": {
        "colab": {
          "base_uri": "https://localhost:8080/"
        },
        "id": "7XSj90UqfZpE",
        "outputId": "d198d274-9fb2-4acc-b57b-ded3220556c0"
      },
      "execution_count": null,
      "outputs": [
        {
          "output_type": "execute_result",
          "data": {
            "text/plain": [
              "False"
            ]
          },
          "metadata": {},
          "execution_count": 16
        }
      ]
    },
    {
      "cell_type": "markdown",
      "source": [
        "#identity operators"
      ],
      "metadata": {
        "id": "aj6iPfIbfiQs"
      }
    },
    {
      "cell_type": "code",
      "source": [
        "salary_kelly = 100_000\n",
        "salary_luke = 100_000\n",
        "\n",
        "salary_kelly is salary_luke"
      ],
      "metadata": {
        "colab": {
          "base_uri": "https://localhost:8080/"
        },
        "id": "P79JAe9efdV8",
        "outputId": "4514da31-d8f2-4cec-c774-9b0683fae44c"
      },
      "execution_count": null,
      "outputs": [
        {
          "output_type": "execute_result",
          "data": {
            "text/plain": [
              "False"
            ]
          },
          "metadata": {},
          "execution_count": 17
        }
      ]
    },
    {
      "cell_type": "code",
      "source": [
        "#bcs is operator verifying these 2 variables are using not same memory location\n",
        "print(id(salary_kelly))\n",
        "print(id(salary_luke))"
      ],
      "metadata": {
        "colab": {
          "base_uri": "https://localhost:8080/"
        },
        "id": "l9Gjk9jWgH7e",
        "outputId": "70f101bf-5d7c-483a-b04f-ff058634fa5a"
      },
      "execution_count": null,
      "outputs": [
        {
          "output_type": "stream",
          "name": "stdout",
          "text": [
            "140207670295792\n",
            "140207670293392\n"
          ]
        }
      ]
    },
    {
      "cell_type": "code",
      "source": [
        "lukes_skills = ['Python', 'R', 'SQL']\n",
        "kellys_skills = lukes_skills\n",
        "\n",
        "lukes_skills is kellys_skills"
      ],
      "metadata": {
        "colab": {
          "base_uri": "https://localhost:8080/"
        },
        "id": "zZOvhxuCgxjz",
        "outputId": "1d31899a-cfcf-40ea-926f-d82ac1f1a937"
      },
      "execution_count": null,
      "outputs": [
        {
          "output_type": "execute_result",
          "data": {
            "text/plain": [
              "True"
            ]
          },
          "metadata": {},
          "execution_count": 19
        }
      ]
    },
    {
      "cell_type": "markdown",
      "source": [
        "#bitwise operators"
      ],
      "metadata": {
        "id": "zoQP0ngAhcqc"
      }
    },
    {
      "cell_type": "code",
      "source": [
        "bin(42)"
      ],
      "metadata": {
        "colab": {
          "base_uri": "https://localhost:8080/",
          "height": 36
        },
        "id": "wAUoF1L8hTIW",
        "outputId": "e19bb5a6-62e4-4c66-b73b-a172f319e0ca"
      },
      "execution_count": null,
      "outputs": [
        {
          "output_type": "execute_result",
          "data": {
            "text/plain": [
              "'0b101010'"
            ],
            "application/vnd.google.colaboratory.intrinsic+json": {
              "type": "string"
            }
          },
          "metadata": {},
          "execution_count": 20
        }
      ]
    },
    {
      "cell_type": "code",
      "source": [
        "#it's basically whats computer reading 42."
      ],
      "metadata": {
        "id": "V1Cx5Wb8h5Vf"
      },
      "execution_count": null,
      "outputs": []
    }
  ]
}