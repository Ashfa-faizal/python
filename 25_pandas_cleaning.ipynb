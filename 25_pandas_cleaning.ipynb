{
  "nbformat": 4,
  "nbformat_minor": 0,
  "metadata": {
    "colab": {
      "provenance": []
    },
    "kernelspec": {
      "name": "python3",
      "display_name": "Python 3"
    },
    "language_info": {
      "name": "python"
    }
  },
  "cells": [
    {
      "cell_type": "code",
      "execution_count": null,
      "metadata": {
        "id": "vEt0SEPmB3N8"
      },
      "outputs": [],
      "source": [
        "import pandas as pd"
      ]
    },
    {
      "cell_type": "code",
      "source": [
        "df = pd.read_csv(\"/content/data_jobs.csv\")"
      ],
      "metadata": {
        "id": "KHrqlTsjDDOF"
      },
      "execution_count": null,
      "outputs": []
    },
    {
      "cell_type": "code",
      "source": [
        "df.info()"
      ],
      "metadata": {
        "colab": {
          "base_uri": "https://localhost:8080/"
        },
        "id": "8YsFPaAgDHq7",
        "outputId": "2c55fd4f-d55f-4000-990b-03e974104436"
      },
      "execution_count": null,
      "outputs": [
        {
          "output_type": "stream",
          "name": "stdout",
          "text": [
            "<class 'pandas.core.frame.DataFrame'>\n",
            "RangeIndex: 42574 entries, 0 to 42573\n",
            "Data columns (total 17 columns):\n",
            " #   Column                 Non-Null Count  Dtype  \n",
            "---  ------                 --------------  -----  \n",
            " 0   job_title_short        42574 non-null  object \n",
            " 1   job_title              42574 non-null  object \n",
            " 2   job_location           42518 non-null  object \n",
            " 3   job_via                42572 non-null  object \n",
            " 4   job_schedule_type      41839 non-null  object \n",
            " 5   job_work_from_home     42574 non-null  bool   \n",
            " 6   search_location        42574 non-null  object \n",
            " 7   job_posted_date        42574 non-null  object \n",
            " 8   job_no_degree_mention  42574 non-null  bool   \n",
            " 9   job_health_insurance   42574 non-null  bool   \n",
            " 10  job_country            42569 non-null  object \n",
            " 11  salary_rate            1825 non-null   object \n",
            " 12  salary_year_avg        1198 non-null   float64\n",
            " 13  salary_hour_avg        610 non-null    float64\n",
            " 14  company_name           42572 non-null  object \n",
            " 15  job_skills             36748 non-null  object \n",
            " 16  job_type_skills        36748 non-null  object \n",
            "dtypes: bool(3), float64(2), object(12)\n",
            "memory usage: 4.7+ MB\n"
          ]
        }
      ]
    },
    {
      "cell_type": "code",
      "source": [
        "# in here our job posted date object is str\n",
        "type(df.job_posted_date[0])"
      ],
      "metadata": {
        "colab": {
          "base_uri": "https://localhost:8080/"
        },
        "id": "wQzVECdsDT1L",
        "outputId": "f3fe9a18-86ca-4ec7-bf49-a9e2bf664374"
      },
      "execution_count": null,
      "outputs": [
        {
          "output_type": "execute_result",
          "data": {
            "text/plain": [
              "str"
            ]
          },
          "metadata": {},
          "execution_count": 15
        }
      ]
    },
    {
      "cell_type": "markdown",
      "source": [
        "# convering srt to date time"
      ],
      "metadata": {
        "id": "8OUi_mPiHW6z"
      }
    },
    {
      "cell_type": "code",
      "source": [
        "# so let's conver into datetime\n",
        "pd.to_datetime(df.job_posted_date).head(2)"
      ],
      "metadata": {
        "colab": {
          "base_uri": "https://localhost:8080/",
          "height": 146
        },
        "id": "QHoEBQrgEMVy",
        "outputId": "2c4fb33f-7034-4337-ab60-a51478e31570"
      },
      "execution_count": null,
      "outputs": [
        {
          "output_type": "execute_result",
          "data": {
            "text/plain": [
              "0   2023-06-16 13:44:15\n",
              "1   2023-01-14 13:18:07\n",
              "Name: job_posted_date, dtype: datetime64[ns]"
            ],
            "text/html": [
              "<div>\n",
              "<style scoped>\n",
              "    .dataframe tbody tr th:only-of-type {\n",
              "        vertical-align: middle;\n",
              "    }\n",
              "\n",
              "    .dataframe tbody tr th {\n",
              "        vertical-align: top;\n",
              "    }\n",
              "\n",
              "    .dataframe thead th {\n",
              "        text-align: right;\n",
              "    }\n",
              "</style>\n",
              "<table border=\"1\" class=\"dataframe\">\n",
              "  <thead>\n",
              "    <tr style=\"text-align: right;\">\n",
              "      <th></th>\n",
              "      <th>job_posted_date</th>\n",
              "    </tr>\n",
              "  </thead>\n",
              "  <tbody>\n",
              "    <tr>\n",
              "      <th>0</th>\n",
              "      <td>2023-06-16 13:44:15</td>\n",
              "    </tr>\n",
              "    <tr>\n",
              "      <th>1</th>\n",
              "      <td>2023-01-14 13:18:07</td>\n",
              "    </tr>\n",
              "  </tbody>\n",
              "</table>\n",
              "</div><br><label><b>dtype:</b> datetime64[ns]</label>"
            ]
          },
          "metadata": {},
          "execution_count": 17
        }
      ]
    },
    {
      "cell_type": "code",
      "source": [
        "# but it won't chage my real data so we need to assign  job_posted_date   column to itself\n",
        "df['job_posted_date'] = pd.to_datetime(df.job_posted_date)"
      ],
      "metadata": {
        "id": "jM5x73QVFRKH"
      },
      "execution_count": null,
      "outputs": []
    },
    {
      "cell_type": "markdown",
      "source": [
        "# creating new column\n"
      ],
      "metadata": {
        "id": "xvPIBoLXHiKM"
      }
    },
    {
      "cell_type": "code",
      "source": [
        "df.job_posted_date.dt.month.head(2)      # month is property not a method, so we don't need to use()"
      ],
      "metadata": {
        "colab": {
          "base_uri": "https://localhost:8080/",
          "height": 146
        },
        "id": "Zfye4SZCGIDQ",
        "outputId": "8a806a4f-cc20-4ea0-f9c2-bdd7e26d4942"
      },
      "execution_count": null,
      "outputs": [
        {
          "output_type": "execute_result",
          "data": {
            "text/plain": [
              "0    6\n",
              "1    1\n",
              "Name: job_posted_date, dtype: int32"
            ],
            "text/html": [
              "<div>\n",
              "<style scoped>\n",
              "    .dataframe tbody tr th:only-of-type {\n",
              "        vertical-align: middle;\n",
              "    }\n",
              "\n",
              "    .dataframe tbody tr th {\n",
              "        vertical-align: top;\n",
              "    }\n",
              "\n",
              "    .dataframe thead th {\n",
              "        text-align: right;\n",
              "    }\n",
              "</style>\n",
              "<table border=\"1\" class=\"dataframe\">\n",
              "  <thead>\n",
              "    <tr style=\"text-align: right;\">\n",
              "      <th></th>\n",
              "      <th>job_posted_date</th>\n",
              "    </tr>\n",
              "  </thead>\n",
              "  <tbody>\n",
              "    <tr>\n",
              "      <th>0</th>\n",
              "      <td>6</td>\n",
              "    </tr>\n",
              "    <tr>\n",
              "      <th>1</th>\n",
              "      <td>1</td>\n",
              "    </tr>\n",
              "  </tbody>\n",
              "</table>\n",
              "</div><br><label><b>dtype:</b> int32</label>"
            ]
          },
          "metadata": {},
          "execution_count": 22
        }
      ]
    },
    {
      "cell_type": "code",
      "source": [
        "# to get this month value inside our dataset\n",
        "df['job_posted_month'] = df.job_posted_date.dt.month"
      ],
      "metadata": {
        "id": "84GR6YVhGY9x"
      },
      "execution_count": null,
      "outputs": []
    },
    {
      "cell_type": "markdown",
      "source": [
        "# pd.dataframe.sort_values"
      ],
      "metadata": {
        "id": "KwMlP3dnKYq9"
      }
    },
    {
      "cell_type": "code",
      "source": [
        "# arraging data in logical manner , 1st job posting in the beginning"
      ],
      "metadata": {
        "id": "j9bSAc-OH25F"
      },
      "execution_count": null,
      "outputs": []
    },
    {
      "cell_type": "code",
      "source": [
        "df.sort_values(by = 'job_posted_date',  ascending=False, inplace=True)"
      ],
      "metadata": {
        "id": "1BbSzp2gKlpj"
      },
      "execution_count": null,
      "outputs": []
    },
    {
      "cell_type": "markdown",
      "source": [
        "# dropping a column"
      ],
      "metadata": {
        "id": "6xaJHAcCLpDY"
      }
    },
    {
      "cell_type": "code",
      "source": [
        "df.drop('salary_hour_avg', axis=1, inplace=True)         # in here axis = 0 means rows by index , axis = 1 means column"
      ],
      "metadata": {
        "id": "dWidrK9RLQiW"
      },
      "execution_count": null,
      "outputs": []
    },
    {
      "cell_type": "markdown",
      "source": [
        "# remove nan value"
      ],
      "metadata": {
        "id": "fTH-1_qCNDaf"
      }
    },
    {
      "cell_type": "code",
      "source": [
        "df.dropna(subset= ['salary_year_avg'], inplace=True)"
      ],
      "metadata": {
        "id": "5geQU095MU_f"
      },
      "execution_count": null,
      "outputs": []
    },
    {
      "cell_type": "code",
      "source": [],
      "metadata": {
        "id": "ksTtjmQAOkGH"
      },
      "execution_count": null,
      "outputs": []
    }
  ]
}