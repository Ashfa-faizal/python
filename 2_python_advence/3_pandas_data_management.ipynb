{
 "cells": [
  {
   "cell_type": "code",
   "execution_count": 1,
   "id": "057e516f",
   "metadata": {},
   "outputs": [
    {
     "name": "stderr",
     "output_type": "stream",
     "text": [
      "c:\\Users\\HP\\anaconda3\\envs\\python_course\\Lib\\site-packages\\tqdm\\auto.py:21: TqdmWarning: IProgress not found. Please update jupyter and ipywidgets. See https://ipywidgets.readthedocs.io/en/stable/user_install.html\n",
      "  from .autonotebook import tqdm as notebook_tqdm\n"
     ]
    }
   ],
   "source": [
    "import pandas as pd\n",
    "from datasets import load_dataset\n",
    "import matplotlib.pyplot as plt\n",
    "\n",
    "df = pd.read_csv(r\"C:\\Users\\HP\\Desktop\\ASHFA\\data_jobs.csv\")\n",
    "\n",
    "# Data Cleanup\n",
    "df['job_posted_date'] = pd.to_datetime(df['job_posted_date'])\n"
   ]
  },
  {
   "cell_type": "markdown",
   "id": "47257a9b",
   "metadata": {},
   "source": [
    "# sample"
   ]
  },
  {
   "cell_type": "code",
   "execution_count": 17,
   "id": "d5d0975d",
   "metadata": {},
   "outputs": [
    {
     "data": {
      "text/html": [
       "<div>\n",
       "<style scoped>\n",
       "    .dataframe tbody tr th:only-of-type {\n",
       "        vertical-align: middle;\n",
       "    }\n",
       "\n",
       "    .dataframe tbody tr th {\n",
       "        vertical-align: top;\n",
       "    }\n",
       "\n",
       "    .dataframe thead th {\n",
       "        text-align: right;\n",
       "    }\n",
       "</style>\n",
       "<table border=\"1\" class=\"dataframe\">\n",
       "  <thead>\n",
       "    <tr style=\"text-align: right;\">\n",
       "      <th></th>\n",
       "      <th>job_title_short</th>\n",
       "      <th>job_title</th>\n",
       "      <th>job_location</th>\n",
       "      <th>job_via</th>\n",
       "      <th>job_schedule_type</th>\n",
       "      <th>job_work_from_home</th>\n",
       "      <th>search_location</th>\n",
       "      <th>job_posted_date</th>\n",
       "      <th>job_no_degree_mention</th>\n",
       "      <th>job_health_insurance</th>\n",
       "      <th>job_country</th>\n",
       "      <th>salary_rate</th>\n",
       "      <th>salary_year_avg</th>\n",
       "      <th>salary_hour_avg</th>\n",
       "      <th>company_name</th>\n",
       "      <th>job_skills</th>\n",
       "      <th>job_type_skills</th>\n",
       "    </tr>\n",
       "  </thead>\n",
       "  <tbody>\n",
       "    <tr>\n",
       "      <th>172395</th>\n",
       "      <td>Data Analyst</td>\n",
       "      <td>Data Analyst III - Healthcare - Office or Remote</td>\n",
       "      <td>Anywhere</td>\n",
       "      <td>via ZipRecruiter</td>\n",
       "      <td>Full-time</td>\n",
       "      <td>True</td>\n",
       "      <td>California, United States</td>\n",
       "      <td>2023-12-27 15:01:14</td>\n",
       "      <td>False</td>\n",
       "      <td>True</td>\n",
       "      <td>United States</td>\n",
       "      <td>NaN</td>\n",
       "      <td>NaN</td>\n",
       "      <td>NaN</td>\n",
       "      <td>Qlarant Commercial Solutions, Inc</td>\n",
       "      <td>['python', 'r', 'sas', 'sas', 'sql']</td>\n",
       "      <td>{'analyst_tools': ['sas'], 'programming': ['py...</td>\n",
       "    </tr>\n",
       "    <tr>\n",
       "      <th>198087</th>\n",
       "      <td>Data Analyst</td>\n",
       "      <td>Stage Data Analyst</td>\n",
       "      <td>Paris, France</td>\n",
       "      <td>via Welcome To The Jungle</td>\n",
       "      <td>Internship</td>\n",
       "      <td>False</td>\n",
       "      <td>France</td>\n",
       "      <td>2023-06-06 15:21:19</td>\n",
       "      <td>False</td>\n",
       "      <td>False</td>\n",
       "      <td>France</td>\n",
       "      <td>NaN</td>\n",
       "      <td>NaN</td>\n",
       "      <td>NaN</td>\n",
       "      <td>Ideel Garden</td>\n",
       "      <td>NaN</td>\n",
       "      <td>NaN</td>\n",
       "    </tr>\n",
       "    <tr>\n",
       "      <th>277405</th>\n",
       "      <td>Data Analyst</td>\n",
       "      <td>ROC Intern Data Analyst</td>\n",
       "      <td>Anywhere</td>\n",
       "      <td>via ZipRecruiter</td>\n",
       "      <td>Full-time and Internship</td>\n",
       "      <td>True</td>\n",
       "      <td>New York, United States</td>\n",
       "      <td>2023-09-05 07:00:46</td>\n",
       "      <td>False</td>\n",
       "      <td>False</td>\n",
       "      <td>United States</td>\n",
       "      <td>NaN</td>\n",
       "      <td>NaN</td>\n",
       "      <td>NaN</td>\n",
       "      <td>GE</td>\n",
       "      <td>NaN</td>\n",
       "      <td>NaN</td>\n",
       "    </tr>\n",
       "  </tbody>\n",
       "</table>\n",
       "</div>"
      ],
      "text/plain": [
       "       job_title_short                                         job_title  \\\n",
       "172395    Data Analyst  Data Analyst III - Healthcare - Office or Remote   \n",
       "198087    Data Analyst                                Stage Data Analyst   \n",
       "277405    Data Analyst                           ROC Intern Data Analyst   \n",
       "\n",
       "         job_location                    job_via         job_schedule_type  \\\n",
       "172395       Anywhere           via ZipRecruiter                 Full-time   \n",
       "198087  Paris, France  via Welcome To The Jungle                Internship   \n",
       "277405       Anywhere           via ZipRecruiter  Full-time and Internship   \n",
       "\n",
       "        job_work_from_home            search_location     job_posted_date  \\\n",
       "172395                True  California, United States 2023-12-27 15:01:14   \n",
       "198087               False                     France 2023-06-06 15:21:19   \n",
       "277405                True    New York, United States 2023-09-05 07:00:46   \n",
       "\n",
       "        job_no_degree_mention  job_health_insurance    job_country  \\\n",
       "172395                  False                  True  United States   \n",
       "198087                  False                 False         France   \n",
       "277405                  False                 False  United States   \n",
       "\n",
       "       salary_rate  salary_year_avg  salary_hour_avg  \\\n",
       "172395         NaN              NaN              NaN   \n",
       "198087         NaN              NaN              NaN   \n",
       "277405         NaN              NaN              NaN   \n",
       "\n",
       "                             company_name  \\\n",
       "172395  Qlarant Commercial Solutions, Inc   \n",
       "198087                       Ideel Garden   \n",
       "277405                                 GE   \n",
       "\n",
       "                                  job_skills  \\\n",
       "172395  ['python', 'r', 'sas', 'sas', 'sql']   \n",
       "198087                                   NaN   \n",
       "277405                                   NaN   \n",
       "\n",
       "                                          job_type_skills  \n",
       "172395  {'analyst_tools': ['sas'], 'programming': ['py...  \n",
       "198087                                                NaN  \n",
       "277405                                                NaN  "
      ]
     },
     "execution_count": 17,
     "metadata": {},
     "output_type": "execute_result"
    }
   ],
   "source": [
    "# each time we are running sample it'll give different 10 resaults\n",
    "# if we find certain example we can output the same results by settiing random\n",
    "# if we want 10% rows from our df we can use frac function (frac=0.1)\n",
    "\n",
    "df.sample(3 , random_state=45)"
   ]
  },
  {
   "cell_type": "markdown",
   "id": "ae80af45",
   "metadata": {},
   "source": [
    "# copy"
   ]
  },
  {
   "cell_type": "markdown",
   "id": "f0857ce7",
   "metadata": {},
   "source": [
    "1. why we are creating copy because\n",
    "* if we set our original df to some new variable df it'll change our original df\n",
    "* we can make sure it with our id method \n",
    "* so by copy method it won't change our original df"
   ]
  },
  {
   "cell_type": "code",
   "execution_count": 7,
   "id": "1f6d7695",
   "metadata": {},
   "outputs": [],
   "source": [
    "df_original = pd.read_csv(r\"C:\\Users\\HP\\Desktop\\ASHFA\\data_jobs.csv\")"
   ]
  },
  {
   "cell_type": "code",
   "execution_count": 10,
   "id": "d4d82504",
   "metadata": {},
   "outputs": [
    {
     "data": {
      "text/plain": [
       "0   NaN\n",
       "1   NaN\n",
       "2   NaN\n",
       "3   NaN\n",
       "4   NaN\n",
       "5   NaN\n",
       "Name: salary_year_avg, dtype: float64"
      ]
     },
     "execution_count": 10,
     "metadata": {},
     "output_type": "execute_result"
    }
   ],
   "source": [
    "# Create new dataframe\n",
    "df_altered = df_original\n",
    "\n",
    "df_altered.loc[:5,'salary_year_avg']\n"
   ]
  },
  {
   "cell_type": "code",
   "execution_count": 11,
   "id": "1859dbb0",
   "metadata": {},
   "outputs": [
    {
     "data": {
      "text/plain": [
       "0    115000.0\n",
       "1    115000.0\n",
       "2    115000.0\n",
       "3    115000.0\n",
       "4    115000.0\n",
       "5    115000.0\n",
       "Name: salary_year_avg, dtype: float64"
      ]
     },
     "execution_count": 11,
     "metadata": {},
     "output_type": "execute_result"
    }
   ],
   "source": [
    "# Calculating the median salary\n",
    "median_salary = df_altered['salary_year_avg'].median()\n",
    "\n",
    "# Filling the missing values with the median salary\n",
    "df_altered['salary_year_avg'] = df_altered.loc[:,'salary_year_avg'].fillna(median_salary)\n",
    "df_altered['salary_year_avg'] = df_altered['salary_year_avg'].fillna(median_salary)\n",
    "\n",
    "df_altered.loc[:5,'salary_year_avg']"
   ]
  },
  {
   "cell_type": "code",
   "execution_count": 12,
   "id": "c84e251b",
   "metadata": {},
   "outputs": [
    {
     "data": {
      "text/plain": [
       "0    115000.0\n",
       "1    115000.0\n",
       "2    115000.0\n",
       "3    115000.0\n",
       "4    115000.0\n",
       "5    115000.0\n",
       "Name: salary_year_avg, dtype: float64"
      ]
     },
     "execution_count": 12,
     "metadata": {},
     "output_type": "execute_result"
    }
   ],
   "source": [
    "df_original.loc[:5,'salary_year_avg']"
   ]
  },
  {
   "cell_type": "code",
   "execution_count": 13,
   "id": "5e044321",
   "metadata": {},
   "outputs": [
    {
     "name": "stdout",
     "output_type": "stream",
     "text": [
      "ID of df_original:                2005939591120\n",
      "ID of df_altered:                 2005939591120\n",
      "Are the two dataframes the same?  True\n"
     ]
    }
   ],
   "source": [
    "print('ID of df_original:               ', id(df_original))\n",
    "print('ID of df_altered:                ', id(df_altered))\n",
    "print('Are the two dataframes the same? ', id(df_original) == id(df_altered))"
   ]
  },
  {
   "cell_type": "markdown",
   "id": "1923e0ff",
   "metadata": {},
   "source": [
    "* but if set original df to copy"
   ]
  },
  {
   "cell_type": "code",
   "execution_count": 14,
   "id": "c18ac050",
   "metadata": {},
   "outputs": [
    {
     "name": "stdout",
     "output_type": "stream",
     "text": [
      "ID of df_original:                2007261819408\n",
      "ID of df_altered:                 2007171270864\n",
      "Are the two dataframes the same?  False\n"
     ]
    }
   ],
   "source": [
    "df_original = df.copy()\n",
    "df_altered = df_original.copy()\n",
    "\n",
    "print('ID of df_original:               ', id(df_original))\n",
    "print('ID of df_altered:                ', id(df_altered))\n",
    "print('Are the two dataframes the same? ', id(df_original) == id(df_altered))"
   ]
  },
  {
   "cell_type": "code",
   "execution_count": 15,
   "id": "4ca9b6c6",
   "metadata": {},
   "outputs": [
    {
     "data": {
      "text/plain": [
       "0    115000.0\n",
       "1    115000.0\n",
       "2    115000.0\n",
       "3    115000.0\n",
       "4    115000.0\n",
       "5    115000.0\n",
       "Name: salary_year_avg, dtype: float64"
      ]
     },
     "execution_count": 15,
     "metadata": {},
     "output_type": "execute_result"
    }
   ],
   "source": [
    "# Calculating the median salary\n",
    "median_salary = df_altered['salary_year_avg'].median()\n",
    "\n",
    "# Filling the missing values with the median salary\n",
    "df_altered['salary_year_avg'] = df_altered['salary_year_avg'].fillna(median_salary)\n",
    "\n",
    "df_altered.loc[:5,'salary_year_avg']"
   ]
  },
  {
   "cell_type": "code",
   "execution_count": 16,
   "id": "eb6c629e",
   "metadata": {},
   "outputs": [
    {
     "data": {
      "text/plain": [
       "0   NaN\n",
       "1   NaN\n",
       "2   NaN\n",
       "3   NaN\n",
       "4   NaN\n",
       "5   NaN\n",
       "Name: salary_year_avg, dtype: float64"
      ]
     },
     "execution_count": 16,
     "metadata": {},
     "output_type": "execute_result"
    }
   ],
   "source": [
    "df_original.loc[:5,'salary_year_avg']"
   ]
  },
  {
   "cell_type": "code",
   "execution_count": null,
   "id": "dc1f7e93",
   "metadata": {},
   "outputs": [],
   "source": []
  }
 ],
 "metadata": {
  "kernelspec": {
   "display_name": "Python 3",
   "language": "python",
   "name": "python3"
  },
  "language_info": {
   "codemirror_mode": {
    "name": "ipython",
    "version": 3
   },
   "file_extension": ".py",
   "mimetype": "text/x-python",
   "name": "python",
   "nbconvert_exporter": "python",
   "pygments_lexer": "ipython3",
   "version": "3.11.11"
  }
 },
 "nbformat": 4,
 "nbformat_minor": 5
}
