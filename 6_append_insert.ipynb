{
  "nbformat": 4,
  "nbformat_minor": 0,
  "metadata": {
    "colab": {
      "provenance": []
    },
    "kernelspec": {
      "name": "python3",
      "display_name": "Python 3"
    },
    "language_info": {
      "name": "python"
    }
  },
  "cells": [
    {
      "cell_type": "code",
      "execution_count": null,
      "metadata": {
        "colab": {
          "base_uri": "https://localhost:8080/"
        },
        "id": "V_0ckJyxn9PB",
        "outputId": "b7fcd121-f4f9-4fea-f14d-cdac5194219c"
      },
      "outputs": [
        {
          "output_type": "stream",
          "name": "stdout",
          "text": [
            "[True, 2.5]\n",
            "2\n"
          ]
        }
      ],
      "source": [
        "list1 = [True,2.5]\n",
        "print(list1)\n",
        "\n",
        "print(len(list1))"
      ]
    },
    {
      "cell_type": "code",
      "source": [
        "cities = [\"kandy\",\"colombo\",\"galle\",\"kandy\",\"mannar\"]\n",
        "cities[1] = \"jaffna\"\n",
        "print(cities)\n",
        "print(cities[2])\n",
        "print(cities[-5])\n",
        "print(cities[:5])\n",
        "print(cities[2:4])\n",
        "print(cities[3:])\n",
        "if \"jaffna\" not in cities:\n",
        "  print(\"yes\")\n",
        "else :\n",
        "  print(\"no\")\n",
        "\n"
      ],
      "metadata": {
        "colab": {
          "base_uri": "https://localhost:8080/"
        },
        "id": "CYxMjvPupnAl",
        "outputId": "ce7fc396-6dd8-4dc0-8a17-2ce597fdf663"
      },
      "execution_count": null,
      "outputs": [
        {
          "output_type": "stream",
          "name": "stdout",
          "text": [
            "['kandy', 'jaffna', 'galle', 'kandy', 'mannar']\n",
            "galle\n",
            "kandy\n",
            "['kandy', 'jaffna', 'galle', 'kandy', 'mannar']\n",
            "['galle', 'kandy']\n",
            "['kandy', 'mannar']\n",
            "no\n"
          ]
        }
      ]
    },
    {
      "cell_type": "code",
      "source": [
        "cities = [\"kandy\",\"colombo\"]\n",
        "print(cities)\n",
        "\n",
        "cities.append(\"jaffna\")\n",
        "print(cities)\n",
        "\n",
        "cities.insert(1,\"matara\")\n",
        "print(cities)\n",
        "\n",
        "list2 = 1,2,3\n",
        "cities.extend(list2)\n",
        "print(cities)\n",
        "\n"
      ],
      "metadata": {
        "colab": {
          "base_uri": "https://localhost:8080/"
        },
        "id": "5HRJ5Nh-zUBu",
        "outputId": "dd459b16-3e45-4d2d-d677-2b852ec4d656"
      },
      "execution_count": null,
      "outputs": [
        {
          "output_type": "stream",
          "name": "stdout",
          "text": [
            "['kandy', 'colombo']\n",
            "['kandy', 'colombo', 'jaffna']\n",
            "['kandy', 'matara', 'colombo', 'jaffna']\n",
            "['kandy', 'matara', 'colombo', 'jaffna', 1, 2, 3]\n"
          ]
        }
      ]
    },
    {
      "cell_type": "code",
      "source": [
        "cities = [\"kandy\",\"colombo\",\"matara\"]\n",
        "cities.pop(0)\n",
        "print(cities)"
      ],
      "metadata": {
        "colab": {
          "base_uri": "https://localhost:8080/"
        },
        "id": "Px8yWS3f7BOb",
        "outputId": "c0f61127-d268-4fad-ece1-93643f829c7a"
      },
      "execution_count": null,
      "outputs": [
        {
          "output_type": "stream",
          "name": "stdout",
          "text": [
            "['colombo', 'matara']\n"
          ]
        }
      ]
    },
    {
      "cell_type": "code",
      "source": [
        "\n",
        "list = [\"egg\",\"milk\",\"bread\"]\n",
        "print(len(list))\n",
        "print(list[2])\n",
        "\n",
        "if \"milk\" in list :\n",
        "  print(\"yes\")\n",
        "\n",
        "list.insert(3,\"butter\")\n",
        "print(list)\n",
        "\n",
        "list.insert(0,\"vegetables\")\n",
        "print(list)\n",
        "\n",
        "list1 = [\"cake\",\"chocolate\",\"snacks\"]\n",
        "list.extend(list1)\n",
        "print(list)\n",
        "\n",
        "list.pop()\n",
        "print(list)\n",
        "\n",
        "\n",
        "\n"
      ],
      "metadata": {
        "colab": {
          "base_uri": "https://localhost:8080/"
        },
        "id": "u5J-Cso6952V",
        "outputId": "bc0a419e-1bdb-43fd-946f-a719e5bb5e64"
      },
      "execution_count": 1,
      "outputs": [
        {
          "output_type": "stream",
          "name": "stdout",
          "text": [
            "3\n",
            "bread\n",
            "yes\n",
            "['egg', 'milk', 'bread', 'butter']\n",
            "['vegetables', 'egg', 'milk', 'bread', 'butter']\n",
            "['vegetables', 'egg', 'milk', 'bread', 'butter', 'cake', 'chocolate', 'snacks']\n",
            "['vegetables', 'egg', 'milk', 'bread', 'butter', 'cake', 'chocolate']\n"
          ]
        }
      ]
    },
    {
      "cell_type": "markdown",
      "source": [
        "tuple"
      ],
      "metadata": {
        "id": "iFyS2jkxEURE"
      }
    },
    {
      "cell_type": "code",
      "source": [
        "country =(\"sri lanka\",\"india\",\"USA\",\"UK\",\"china\")\n",
        "tuple1 = (\"japan\",)\n",
        "print(country)\n",
        "print(type(country))\n"
      ],
      "metadata": {
        "colab": {
          "base_uri": "https://localhost:8080/"
        },
        "id": "AENPF0RrEWWc",
        "outputId": "21ab0e3d-7e4c-4a0f-eae2-fa5ba730dc56"
      },
      "execution_count": null,
      "outputs": [
        {
          "output_type": "stream",
          "name": "stdout",
          "text": [
            "('sri lanka', 'india', 'USA', 'UK')\n",
            "<class 'tuple'>\n"
          ]
        }
      ]
    },
    {
      "cell_type": "code",
      "source": [
        "country =(\"sri lanka\",\"india\",\"USA\",\"UK\",\"china\")\n",
        "print(country[0])\n",
        "print(country[-2])\n",
        "print(country[2:])"
      ],
      "metadata": {
        "colab": {
          "base_uri": "https://localhost:8080/"
        },
        "id": "Sgmb9dlwFmE1",
        "outputId": "5bf0451d-abf0-4699-c326-6e60ffbfca3d"
      },
      "execution_count": null,
      "outputs": [
        {
          "output_type": "stream",
          "name": "stdout",
          "text": [
            "sri lanka\n",
            "UK\n",
            "('USA', 'UK', 'china')\n"
          ]
        }
      ]
    },
    {
      "cell_type": "code",
      "source": [
        "country =(\"sri lanka\",\"india\",\"USA\",\"UK\",\"china\",\"UK\")\n",
        "if \"india\" in country :\n",
        "  print(\"yes\")\n",
        "\n",
        "print(country.count(\"UK\"))\n",
        "\n",
        "\n",
        "\n"
      ],
      "metadata": {
        "colab": {
          "base_uri": "https://localhost:8080/"
        },
        "id": "35rPK-_WGhnN",
        "outputId": "3aabcede-8709-4585-d117-61b5a0b5fe8d"
      },
      "execution_count": null,
      "outputs": [
        {
          "output_type": "stream",
          "name": "stdout",
          "text": [
            "yes\n",
            "2\n"
          ]
        }
      ]
    },
    {
      "cell_type": "code",
      "source": [
        "a = (\"SL\",\"UK\",\"USA\")\n",
        "b = (1,2,3)\n",
        "print(a)\n",
        "print(b)\n",
        "\n",
        "a+=b\n",
        "print(a)"
      ],
      "metadata": {
        "colab": {
          "base_uri": "https://localhost:8080/"
        },
        "id": "J45PUm5xICF1",
        "outputId": "62e33ed8-edb8-475f-e123-56eccf02092c"
      },
      "execution_count": null,
      "outputs": [
        {
          "output_type": "stream",
          "name": "stdout",
          "text": [
            "('SL', 'UK', 'USA')\n",
            "(1, 2, 3)\n",
            "('SL', 'UK', 'USA', 1, 2, 3)\n"
          ]
        }
      ]
    }
  ]
}