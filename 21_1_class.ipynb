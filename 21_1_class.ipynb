{
  "nbformat": 4,
  "nbformat_minor": 0,
  "metadata": {
    "colab": {
      "provenance": []
    },
    "kernelspec": {
      "name": "python3",
      "display_name": "Python 3"
    },
    "language_info": {
      "name": "python"
    }
  },
  "cells": [
    {
      "cell_type": "markdown",
      "source": [
        "#classes: the template of objects\n",
        "**class: a teplate for creating objects(records)"
      ],
      "metadata": {
        "id": "6aGzPTd87eFK"
      }
    },
    {
      "cell_type": "code",
      "source": [
        "type(90000)"
      ],
      "metadata": {
        "colab": {
          "base_uri": "https://localhost:8080/"
        },
        "id": "JMPe3Elx7b9j",
        "outputId": "34192549-6a65-4de0-9e3d-28f97d511c16"
      },
      "execution_count": null,
      "outputs": [
        {
          "output_type": "execute_result",
          "data": {
            "text/plain": [
              "int"
            ]
          },
          "metadata": {},
          "execution_count": 2
        }
      ]
    },
    {
      "cell_type": "code",
      "source": [
        "Job_title = \"Data Analysis\"\n",
        "job_location =\"United State\"\n",
        "job_salary = 100000"
      ],
      "metadata": {
        "id": "yvc1Xs6D70on"
      },
      "execution_count": null,
      "outputs": []
    },
    {
      "cell_type": "code",
      "source": [
        "#if we want to store it inside of a single class instance"
      ],
      "metadata": {
        "id": "-x6RsZD284Fu"
      },
      "execution_count": null,
      "outputs": []
    },
    {
      "cell_type": "code",
      "source": [
        "#in here we are using 2_ it's called \"dunder a knit\" method"
      ],
      "metadata": {
        "id": "T414vjVcD3dh"
      },
      "execution_count": null,
      "outputs": []
    },
    {
      "cell_type": "code",
      "source": [
        "class jobpost:\n",
        "  def __init__(self,title,location,salary):\n",
        "    self.title = title\n",
        "    self.location = location\n",
        "    self.salary = salary"
      ],
      "metadata": {
        "id": "LXHBpJ1X95Mz"
      },
      "execution_count": null,
      "outputs": []
    },
    {
      "cell_type": "code",
      "source": [
        "jobpost(Job_title,job_location,job_salary)"
      ],
      "metadata": {
        "colab": {
          "base_uri": "https://localhost:8080/"
        },
        "id": "nY6-ffPd9ZXy",
        "outputId": "0f16c801-6ab1-46b6-9e2d-41cab531c4e3"
      },
      "execution_count": null,
      "outputs": [
        {
          "output_type": "execute_result",
          "data": {
            "text/plain": [
              "<__main__.jobpost at 0x7c8869ae7b50>"
            ]
          },
          "metadata": {},
          "execution_count": 9
        }
      ]
    },
    {
      "cell_type": "markdown",
      "source": [
        "#attributes: the variable of an object\n",
        "**attribuite: a field in a record, defined by its class"
      ],
      "metadata": {
        "id": "9CdUI7p6CaL4"
      }
    },
    {
      "cell_type": "code",
      "source": [
        "job_1 = jobpost(Job_title,job_location,job_salary)"
      ],
      "metadata": {
        "id": "oKgk0qNF_fe-"
      },
      "execution_count": null,
      "outputs": []
    },
    {
      "cell_type": "code",
      "source": [
        "job_1.title          #let's find out jon_1.title attribute"
      ],
      "metadata": {
        "colab": {
          "base_uri": "https://localhost:8080/",
          "height": 35
        },
        "id": "RCkJgTCWCp1B",
        "outputId": "d14ef7d2-f15c-4da3-97de-0e2e8bfb5f4c"
      },
      "execution_count": null,
      "outputs": [
        {
          "output_type": "execute_result",
          "data": {
            "text/plain": [
              "'Data Analysis'"
            ],
            "application/vnd.google.colaboratory.intrinsic+json": {
              "type": "string"
            }
          },
          "metadata": {},
          "execution_count": 17
        }
      ]
    },
    {
      "cell_type": "code",
      "source": [
        "job_1.location"
      ],
      "metadata": {
        "colab": {
          "base_uri": "https://localhost:8080/",
          "height": 35
        },
        "id": "VG3POBo5CuCL",
        "outputId": "fab59369-ea5d-4d83-b1f3-a1977cf9c173"
      },
      "execution_count": null,
      "outputs": [
        {
          "output_type": "execute_result",
          "data": {
            "text/plain": [
              "'United State'"
            ],
            "application/vnd.google.colaboratory.intrinsic+json": {
              "type": "string"
            }
          },
          "metadata": {},
          "execution_count": 18
        }
      ]
    },
    {
      "cell_type": "markdown",
      "source": [
        "#methos: the functions of an object\n",
        "**method: a function defined inside a class that operates on its object"
      ],
      "metadata": {
        "id": "5m8FQyBbDVm0"
      }
    },
    {
      "cell_type": "code",
      "source": [],
      "metadata": {
        "id": "zUbed889EqAf"
      },
      "execution_count": null,
      "outputs": []
    },
    {
      "cell_type": "code",
      "source": [
        "class jobpost:\n",
        "  def __init__(self,title,location,salary):\n",
        "      self.title = title\n",
        "      self.location = location\n",
        "      self.salary = salary\n",
        "  def display_info(self):\n",
        "      return print(f\"JOB     : {self.title}\\nLOCATION: {self.location}\\nSALARY  :  ${self.salary:,.0f}\")"
      ],
      "metadata": {
        "id": "xqEg2ABUDU5T"
      },
      "execution_count": null,
      "outputs": []
    },
    {
      "cell_type": "code",
      "source": [
        "job_1 = jobpost(Job_title,job_location,job_salary)"
      ],
      "metadata": {
        "id": "B-84XjopE7VW"
      },
      "execution_count": null,
      "outputs": []
    },
    {
      "cell_type": "code",
      "source": [
        "job_1.title"
      ],
      "metadata": {
        "colab": {
          "base_uri": "https://localhost:8080/",
          "height": 35
        },
        "id": "yzq5CeR8FB9N",
        "outputId": "cfbec48b-662f-42a4-a900-21e500128040"
      },
      "execution_count": null,
      "outputs": [
        {
          "output_type": "execute_result",
          "data": {
            "text/plain": [
              "'Data Analysis'"
            ],
            "application/vnd.google.colaboratory.intrinsic+json": {
              "type": "string"
            }
          },
          "metadata": {},
          "execution_count": 20
        }
      ]
    },
    {
      "cell_type": "code",
      "source": [
        "job_1.display_info()"
      ],
      "metadata": {
        "colab": {
          "base_uri": "https://localhost:8080/"
        },
        "id": "bXSxt7suFIBa",
        "outputId": "0a1fb73f-c6a5-447b-bc28-7a12bb99248b"
      },
      "execution_count": null,
      "outputs": [
        {
          "output_type": "stream",
          "name": "stdout",
          "text": [
            "JOB     : Data Analysis\n",
            "LOCATION: United State\n",
            "SALARY  :  $100,000\n"
          ]
        }
      ]
    },
    {
      "cell_type": "code",
      "source": [
        "salary = 90000"
      ],
      "metadata": {
        "id": "3bD0jUwUFYxk"
      },
      "execution_count": null,
      "outputs": []
    },
    {
      "cell_type": "code",
      "source": [
        "type(salary)"
      ],
      "metadata": {
        "colab": {
          "base_uri": "https://localhost:8080/"
        },
        "id": "Cpr3LqSNHhWu",
        "outputId": "e60f78ab-02d3-4bce-bdd6-62581e4250e2"
      },
      "execution_count": null,
      "outputs": [
        {
          "output_type": "execute_result",
          "data": {
            "text/plain": [
              "int"
            ]
          },
          "metadata": {},
          "execution_count": 36
        }
      ]
    },
    {
      "cell_type": "code",
      "source": [
        "salary.__add__(1)"
      ],
      "metadata": {
        "colab": {
          "base_uri": "https://localhost:8080/"
        },
        "id": "IHYDiw83HmOH",
        "outputId": "87632c22-0462-4b08-dede-dd87f5bc5e60"
      },
      "execution_count": null,
      "outputs": [
        {
          "output_type": "execute_result",
          "data": {
            "text/plain": [
              "90001"
            ]
          },
          "metadata": {},
          "execution_count": 37
        }
      ]
    },
    {
      "cell_type": "code",
      "source": [],
      "metadata": {
        "id": "yfybo5rrH1Nw"
      },
      "execution_count": null,
      "outputs": []
    }
  ]
}