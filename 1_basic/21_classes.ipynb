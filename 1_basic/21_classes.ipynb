{
  "nbformat": 4,
  "nbformat_minor": 0,
  "metadata": {
    "colab": {
      "provenance": []
    },
    "kernelspec": {
      "name": "python3",
      "display_name": "Python 3"
    },
    "language_info": {
      "name": "python"
    }
  },
  "cells": [
    {
      "cell_type": "markdown",
      "source": [
        "#class\n",
        "**class is an abstraction of some entity which contains common set of properties and matters**\n",
        "\n"
      ],
      "metadata": {
        "id": "dMMAXPE0BIze"
      }
    },
    {
      "cell_type": "code",
      "source": [],
      "metadata": {
        "id": "dzAlHxwRBIVG"
      },
      "execution_count": null,
      "outputs": []
    },
    {
      "cell_type": "code",
      "execution_count": null,
      "metadata": {
        "id": "fzAevUfDfqMw"
      },
      "outputs": [],
      "source": [
        "class LukesList:\n",
        "    def __init__(self):\n",
        "        \"\"\"Initialize an empty list.\"\"\"\n",
        "        self._items = []\n",
        "\n",
        "    def add(self, item):\n",
        "        \"\"\"Add an item to the end of the list.\"\"\"\n",
        "        self._items.append(item)\n",
        "\n",
        "    def __getitem__(self, index):\n",
        "        \"\"\"Retrieve an item by index.\"\"\"\n",
        "        return self._items[index]\n",
        "\n",
        "    def __setitem__(self, index, value):\n",
        "        \"\"\"Set an item at a specific index.\"\"\"\n",
        "        self._items[index] = value\n",
        "\n",
        "    def __repr__(self):\n",
        "        \"\"\"Return a string representation of the list.\"\"\"\n",
        "        return str(self._items)\n",
        "\n",
        "    def __len__(self):\n",
        "        \"\"\"Return the length of the list.\"\"\"\n",
        "        return len(self._items)"
      ]
    },
    {
      "cell_type": "code",
      "source": [
        "my_list = LukesList()\n",
        "my_list"
      ],
      "metadata": {
        "colab": {
          "base_uri": "https://localhost:8080/"
        },
        "id": "nzr_-DSb1W9Y",
        "outputId": "0f2546a3-740d-487f-940d-66f0d02e4dbd"
      },
      "execution_count": null,
      "outputs": [
        {
          "output_type": "execute_result",
          "data": {
            "text/plain": [
              "[]"
            ]
          },
          "metadata": {},
          "execution_count": 4
        }
      ]
    },
    {
      "cell_type": "code",
      "source": [
        "my_list.add('data nerd')\n",
        "my_list.add('finance nerd')\n",
        "\n",
        "my_list"
      ],
      "metadata": {
        "colab": {
          "base_uri": "https://localhost:8080/"
        },
        "id": "noDJ4ImS1ogE",
        "outputId": "4f16be3c-0762-4c2d-a8ee-d5f98de1c7a2"
      },
      "execution_count": null,
      "outputs": [
        {
          "output_type": "execute_result",
          "data": {
            "text/plain": [
              "['data nerd', 'finance nerd']"
            ]
          },
          "metadata": {},
          "execution_count": 5
        }
      ]
    },
    {
      "cell_type": "code",
      "source": [
        "my_list[0]"
      ],
      "metadata": {
        "colab": {
          "base_uri": "https://localhost:8080/",
          "height": 36
        },
        "id": "Awffk5Wk2C-Y",
        "outputId": "93b98eee-9b29-4f9f-a9cd-3e87281f9c0c"
      },
      "execution_count": null,
      "outputs": [
        {
          "output_type": "execute_result",
          "data": {
            "text/plain": [
              "'data nerd'"
            ],
            "application/vnd.google.colaboratory.intrinsic+json": {
              "type": "string"
            }
          },
          "metadata": {},
          "execution_count": 6
        }
      ]
    },
    {
      "cell_type": "code",
      "source": [
        "def calculate_salary(base_salary, bonus_rate=.1):\n",
        "  \"\"\"\n",
        "  Calculate the total salary based on the base salary and bonus rate.\n",
        "\n",
        "  Args:\n",
        "    base_salary (float): The base salary.\n",
        "    bonus_rate (float): The bonus rate. Default is .1.\n",
        "\n",
        "  Returns:\n",
        "    float: The total salary.\n",
        "  \"\"\"\n",
        "  return base_salary * (1 + bonus_rate)\n",
        "\n",
        "def calculate_bonus(total_salary, base_salary):\n",
        "  \"\"\"\n",
        "  Calculate the bonus rate based on the total salary and base salary.\n",
        "\n",
        "  Args:\n",
        "    total_salary (float): The total salary.\n",
        "    base_salary (float): The base salary.\n",
        "\n",
        "  Returns:\n",
        "    float: The bonus rate.\n",
        "  \"\"\"\n",
        "  return (total_salary - base_salary) / base_salary"
      ],
      "metadata": {
        "id": "TusFGvDU2Udj"
      },
      "execution_count": null,
      "outputs": []
    },
    {
      "cell_type": "code",
      "source": [
        "class BaseSalary:\n",
        "  def __init__(self, base_salary, bonus_rate=0.1, symbol=\"$\"):\n",
        "    self.base_salary = base_salary\n",
        "    self.bonus_rate = bonus_rate\n",
        "    self.symbol = symbol\n",
        "    self.total_salary = base_salary * (1 + bonus_rate)\n",
        "    self.bonus = self.total_salary - self.base_salary\n",
        "\n",
        "  def __repr__(self):\n",
        "    return f'{self.symbol}{self.base_salary:,.0f}'\n",
        "\n",
        "  def show_salary(self):\n",
        "    return f'{self.symbol}{self.total_salary:,.0f}'\n",
        "\n",
        "  def show_bonus(self):\n",
        "    return f'{self.symbol}{self.bonus:,.0f}'"
      ],
      "metadata": {
        "id": "Ke0-kCzJ8A9l"
      },
      "execution_count": null,
      "outputs": []
    },
    {
      "cell_type": "code",
      "source": [
        "data_salary = BaseSalary(100000)\n",
        "data_salary"
      ],
      "metadata": {
        "colab": {
          "base_uri": "https://localhost:8080/"
        },
        "id": "Hoq4qptY7ccF",
        "outputId": "3615a22c-6f84-4396-c0f9-61093915793e"
      },
      "execution_count": null,
      "outputs": [
        {
          "output_type": "execute_result",
          "data": {
            "text/plain": [
              "$100,000"
            ]
          },
          "metadata": {},
          "execution_count": 19
        }
      ]
    },
    {
      "cell_type": "code",
      "source": [
        "data_salary.show_salary()"
      ],
      "metadata": {
        "colab": {
          "base_uri": "https://localhost:8080/",
          "height": 36
        },
        "id": "rDODq-R67hPG",
        "outputId": "c2b0e2ef-68bd-4df8-a46a-11ecb539a774"
      },
      "execution_count": null,
      "outputs": [
        {
          "output_type": "execute_result",
          "data": {
            "text/plain": [
              "'$110,000'"
            ],
            "application/vnd.google.colaboratory.intrinsic+json": {
              "type": "string"
            }
          },
          "metadata": {},
          "execution_count": 20
        }
      ]
    },
    {
      "cell_type": "code",
      "source": [],
      "metadata": {
        "id": "gKFLvEL1-4gT"
      },
      "execution_count": null,
      "outputs": []
    },
    {
      "cell_type": "code",
      "source": [
        "#???????????????????????\n",
        "#check it out"
      ],
      "metadata": {
        "id": "WmetjVny8pUJ"
      },
      "execution_count": null,
      "outputs": []
    },
    {
      "cell_type": "code",
      "source": [
        "class person:\n",
        "  def __init__(self,name,age):\n",
        "    self.name = name\n",
        "    self.age = age\n",
        "\n",
        "  def greet(self):\n",
        "    print(f\"hello my name is {self.name} , my age is {self.age}\")\n",
        "\n",
        "a = person(\"lukes\",23)\n",
        "a.greet()"
      ],
      "metadata": {
        "colab": {
          "base_uri": "https://localhost:8080/"
        },
        "id": "MZnnuPrbCs_y",
        "outputId": "fd7472e1-7d9a-47a3-92c2-296dff59046c"
      },
      "execution_count": null,
      "outputs": [
        {
          "output_type": "stream",
          "name": "stdout",
          "text": [
            "hello my name is lukes , my age is 23\n"
          ]
        }
      ]
    },
    {
      "cell_type": "code",
      "source": [],
      "metadata": {
        "id": "kmb_nq9SDF2h"
      },
      "execution_count": null,
      "outputs": []
    }
  ]
}