{
  "nbformat": 4,
  "nbformat_minor": 0,
  "metadata": {
    "colab": {
      "provenance": []
    },
    "kernelspec": {
      "name": "python3",
      "display_name": "Python 3"
    },
    "language_info": {
      "name": "python"
    }
  },
  "cells": [
    {
      "cell_type": "markdown",
      "source": [
        "#for loop"
      ],
      "metadata": {
        "id": "gjqJphrqoSHO"
      }
    },
    {
      "cell_type": "code",
      "source": [
        "numbers = [0,1,2,3,4,5]\n",
        "\n",
        "for number in numbers:          #in here number is 'variable' and numbers is 'iterable'\n",
        "  print(number)"
      ],
      "metadata": {
        "colab": {
          "base_uri": "https://localhost:8080/"
        },
        "id": "fBDFxyA9lppw",
        "outputId": "241b8bcf-e7f4-4571-da21-89bd9e5cf010"
      },
      "execution_count": null,
      "outputs": [
        {
          "output_type": "stream",
          "name": "stdout",
          "text": [
            "0\n",
            "1\n",
            "2\n",
            "3\n",
            "4\n",
            "5\n"
          ]
        }
      ]
    },
    {
      "cell_type": "code",
      "source": [
        "# list,dictionary,set,tupls are iterable\n",
        "# string also iterable"
      ],
      "metadata": {
        "id": "fhv15JCroiIw"
      },
      "execution_count": null,
      "outputs": []
    },
    {
      "cell_type": "code",
      "source": [
        "characters = 'PYTHON'\n",
        "\n",
        "for letter in characters:\n",
        "  print(letter)"
      ],
      "metadata": {
        "colab": {
          "base_uri": "https://localhost:8080/"
        },
        "id": "4F-JsUP9pXiS",
        "outputId": "c264182a-a999-4fbc-f007-f812af11cbca"
      },
      "execution_count": null,
      "outputs": [
        {
          "output_type": "stream",
          "name": "stdout",
          "text": [
            "P\n",
            "Y\n",
            "T\n",
            "H\n",
            "O\n",
            "N\n"
          ]
        }
      ]
    },
    {
      "cell_type": "code",
      "source": [
        "year_experience = {\n",
        "    'luke': 3,\n",
        "    'willium': 2,\n",
        "    'east': 5,\n",
        "    'suppha': 4\n",
        "}\n",
        "\n",
        "for person in year_experience:\n",
        "  print(person)"
      ],
      "metadata": {
        "colab": {
          "base_uri": "https://localhost:8080/"
        },
        "id": "A60osBiYpoIy",
        "outputId": "f39bad82-0845-4c68-e595-5e17e5374eaf"
      },
      "execution_count": null,
      "outputs": [
        {
          "output_type": "stream",
          "name": "stdout",
          "text": [
            "luke\n",
            "willium\n",
            "east\n",
            "suppha\n"
          ]
        }
      ]
    },
    {
      "cell_type": "code",
      "source": [
        "for value in year_experience.values():\n",
        "  print(value)"
      ],
      "metadata": {
        "colab": {
          "base_uri": "https://localhost:8080/"
        },
        "id": "o-6gwmzas2nX",
        "outputId": "c34f22eb-2615-4a14-d65c-9bfbc70d25a1"
      },
      "execution_count": null,
      "outputs": [
        {
          "output_type": "stream",
          "name": "stdout",
          "text": [
            "3\n",
            "2\n",
            "5\n",
            "4\n"
          ]
        }
      ]
    },
    {
      "cell_type": "code",
      "source": [
        "for key,value in year_experience.items():\n",
        "  print(key,value)"
      ],
      "metadata": {
        "colab": {
          "base_uri": "https://localhost:8080/"
        },
        "id": "TQqJHYies8dJ",
        "outputId": "2ceb9a22-643b-4203-dec5-f3ef1b46b018"
      },
      "execution_count": null,
      "outputs": [
        {
          "output_type": "stream",
          "name": "stdout",
          "text": [
            "luke 3\n",
            "willium 2\n",
            "east 5\n",
            "suppha 4\n"
          ]
        }
      ]
    },
    {
      "cell_type": "code",
      "source": [
        "for key,value in year_experience.items():\n",
        "  if value > 3:\n",
        "    print(key, 'has', value, 'years of experience')"
      ],
      "metadata": {
        "colab": {
          "base_uri": "https://localhost:8080/"
        },
        "id": "Y6glfAAQtJP6",
        "outputId": "70f6b1af-c3d2-4a2e-ce76-706970c1cde7"
      },
      "execution_count": null,
      "outputs": [
        {
          "output_type": "stream",
          "name": "stdout",
          "text": [
            "east has 5 years of experience\n",
            "suppha has 4 years of experience\n"
          ]
        }
      ]
    },
    {
      "cell_type": "code",
      "source": [
        "help(dict)"
      ],
      "metadata": {
        "colab": {
          "base_uri": "https://localhost:8080/"
        },
        "id": "M60qzX4mq2-c",
        "outputId": "5a02a258-5b4f-4d12-953a-935fa147264e"
      },
      "execution_count": null,
      "outputs": [
        {
          "output_type": "stream",
          "name": "stdout",
          "text": [
            "Help on class dict in module builtins:\n",
            "\n",
            "class dict(object)\n",
            " |  dict() -> new empty dictionary\n",
            " |  dict(mapping) -> new dictionary initialized from a mapping object's\n",
            " |      (key, value) pairs\n",
            " |  dict(iterable) -> new dictionary initialized as if via:\n",
            " |      d = {}\n",
            " |      for k, v in iterable:\n",
            " |          d[k] = v\n",
            " |  dict(**kwargs) -> new dictionary initialized with the name=value pairs\n",
            " |      in the keyword argument list.  For example:  dict(one=1, two=2)\n",
            " |  \n",
            " |  Built-in subclasses:\n",
            " |      StgDict\n",
            " |  \n",
            " |  Methods defined here:\n",
            " |  \n",
            " |  __contains__(self, key, /)\n",
            " |      True if the dictionary has the specified key, else False.\n",
            " |  \n",
            " |  __delitem__(self, key, /)\n",
            " |      Delete self[key].\n",
            " |  \n",
            " |  __eq__(self, value, /)\n",
            " |      Return self==value.\n",
            " |  \n",
            " |  __ge__(self, value, /)\n",
            " |      Return self>=value.\n",
            " |  \n",
            " |  __getattribute__(self, name, /)\n",
            " |      Return getattr(self, name).\n",
            " |  \n",
            " |  __getitem__(...)\n",
            " |      x.__getitem__(y) <==> x[y]\n",
            " |  \n",
            " |  __gt__(self, value, /)\n",
            " |      Return self>value.\n",
            " |  \n",
            " |  __init__(self, /, *args, **kwargs)\n",
            " |      Initialize self.  See help(type(self)) for accurate signature.\n",
            " |  \n",
            " |  __ior__(self, value, /)\n",
            " |      Return self|=value.\n",
            " |  \n",
            " |  __iter__(self, /)\n",
            " |      Implement iter(self).\n",
            " |  \n",
            " |  __le__(self, value, /)\n",
            " |      Return self<=value.\n",
            " |  \n",
            " |  __len__(self, /)\n",
            " |      Return len(self).\n",
            " |  \n",
            " |  __lt__(self, value, /)\n",
            " |      Return self<value.\n",
            " |  \n",
            " |  __ne__(self, value, /)\n",
            " |      Return self!=value.\n",
            " |  \n",
            " |  __or__(self, value, /)\n",
            " |      Return self|value.\n",
            " |  \n",
            " |  __repr__(self, /)\n",
            " |      Return repr(self).\n",
            " |  \n",
            " |  __reversed__(self, /)\n",
            " |      Return a reverse iterator over the dict keys.\n",
            " |  \n",
            " |  __ror__(self, value, /)\n",
            " |      Return value|self.\n",
            " |  \n",
            " |  __setitem__(self, key, value, /)\n",
            " |      Set self[key] to value.\n",
            " |  \n",
            " |  __sizeof__(...)\n",
            " |      D.__sizeof__() -> size of D in memory, in bytes\n",
            " |  \n",
            " |  clear(...)\n",
            " |      D.clear() -> None.  Remove all items from D.\n",
            " |  \n",
            " |  copy(...)\n",
            " |      D.copy() -> a shallow copy of D\n",
            " |  \n",
            " |  get(self, key, default=None, /)\n",
            " |      Return the value for key if key is in the dictionary, else default.\n",
            " |  \n",
            " |  items(...)\n",
            " |      D.items() -> a set-like object providing a view on D's items\n",
            " |  \n",
            " |  keys(...)\n",
            " |      D.keys() -> a set-like object providing a view on D's keys\n",
            " |  \n",
            " |  pop(...)\n",
            " |      D.pop(k[,d]) -> v, remove specified key and return the corresponding value.\n",
            " |      \n",
            " |      If the key is not found, return the default if given; otherwise,\n",
            " |      raise a KeyError.\n",
            " |  \n",
            " |  popitem(self, /)\n",
            " |      Remove and return a (key, value) pair as a 2-tuple.\n",
            " |      \n",
            " |      Pairs are returned in LIFO (last-in, first-out) order.\n",
            " |      Raises KeyError if the dict is empty.\n",
            " |  \n",
            " |  setdefault(self, key, default=None, /)\n",
            " |      Insert key with a value of default if key is not in the dictionary.\n",
            " |      \n",
            " |      Return the value for key if key is in the dictionary, else default.\n",
            " |  \n",
            " |  update(...)\n",
            " |      D.update([E, ]**F) -> None.  Update D from dict/iterable E and F.\n",
            " |      If E is present and has a .keys() method, then does:  for k in E: D[k] = E[k]\n",
            " |      If E is present and lacks a .keys() method, then does:  for k, v in E: D[k] = v\n",
            " |      In either case, this is followed by: for k in F:  D[k] = F[k]\n",
            " |  \n",
            " |  values(...)\n",
            " |      D.values() -> an object providing a view on D's values\n",
            " |  \n",
            " |  ----------------------------------------------------------------------\n",
            " |  Class methods defined here:\n",
            " |  \n",
            " |  __class_getitem__(...)\n",
            " |      See PEP 585\n",
            " |  \n",
            " |  fromkeys(iterable, value=None, /)\n",
            " |      Create a new dictionary with keys from iterable and values set to value.\n",
            " |  \n",
            " |  ----------------------------------------------------------------------\n",
            " |  Static methods defined here:\n",
            " |  \n",
            " |  __new__(*args, **kwargs)\n",
            " |      Create and return a new object.  See help(type) for accurate signature.\n",
            " |  \n",
            " |  ----------------------------------------------------------------------\n",
            " |  Data and other attributes defined here:\n",
            " |  \n",
            " |  __hash__ = None\n",
            "\n"
          ]
        }
      ]
    },
    {
      "cell_type": "code",
      "source": [
        "tuple(range(5))"
      ],
      "metadata": {
        "colab": {
          "base_uri": "https://localhost:8080/"
        },
        "id": "3_IfPCvbr17e",
        "outputId": "9eef5e9d-92e4-435a-bbf0-842768a00750"
      },
      "execution_count": null,
      "outputs": [
        {
          "output_type": "execute_result",
          "data": {
            "text/plain": [
              "(0, 1, 2, 3, 4)"
            ]
          },
          "metadata": {},
          "execution_count": 17
        }
      ]
    },
    {
      "cell_type": "code",
      "source": [
        "for _ in range(15):\n",
        "  print(_)"
      ],
      "metadata": {
        "colab": {
          "base_uri": "https://localhost:8080/"
        },
        "id": "smyD3Afltz_X",
        "outputId": "ff2a0bb4-575b-49cd-cbb7-a1206f3d90df"
      },
      "execution_count": null,
      "outputs": [
        {
          "output_type": "stream",
          "name": "stdout",
          "text": [
            "0\n",
            "1\n",
            "2\n",
            "3\n",
            "4\n",
            "5\n",
            "6\n",
            "7\n",
            "8\n",
            "9\n",
            "10\n",
            "11\n",
            "12\n",
            "13\n",
            "14\n"
          ]
        }
      ]
    },
    {
      "cell_type": "code",
      "source": [
        "for letter in \"hello\":\n",
        "  print(letter)"
      ],
      "metadata": {
        "colab": {
          "base_uri": "https://localhost:8080/"
        },
        "id": "dbXCmkIguX9h",
        "outputId": "eb645a35-a5de-4e77-e874-d42b2d5741f0"
      },
      "execution_count": null,
      "outputs": [
        {
          "output_type": "stream",
          "name": "stdout",
          "text": [
            "h\n",
            "e\n",
            "l\n",
            "l\n",
            "o\n"
          ]
        }
      ]
    },
    {
      "cell_type": "code",
      "source": [
        "fruits = [\"apple\", \"banana\", \"cherry\"]\n",
        "\n",
        "for items in fruits:\n",
        "  print(items)"
      ],
      "metadata": {
        "colab": {
          "base_uri": "https://localhost:8080/"
        },
        "id": "Nk6TROjBvQhV",
        "outputId": "f5f12d9a-77a3-48ea-dac8-ecbbf7f35ab5"
      },
      "execution_count": null,
      "outputs": [
        {
          "output_type": "stream",
          "name": "stdout",
          "text": [
            "apple\n",
            "banana\n",
            "cherry\n"
          ]
        }
      ]
    },
    {
      "cell_type": "code",
      "source": [
        "total = 0\n",
        "for i in range(1, 11):\n",
        "    total += i\n",
        "print(total)"
      ],
      "metadata": {
        "colab": {
          "base_uri": "https://localhost:8080/"
        },
        "id": "mF86t-Neve6m",
        "outputId": "762d4ded-a692-4c53-b7d3-a17b633fbc91"
      },
      "execution_count": null,
      "outputs": [
        {
          "output_type": "stream",
          "name": "stdout",
          "text": [
            "55\n"
          ]
        }
      ]
    },
    {
      "cell_type": "code",
      "source": [
        "dict = {\"name\": \"Alice\", \"age\": 25}\n",
        "\n",
        "for key, value in dict.items():\n",
        "  print(key, ':', value)"
      ],
      "metadata": {
        "colab": {
          "base_uri": "https://localhost:8080/"
        },
        "id": "8KupmvZuwn1T",
        "outputId": "ad86b0aa-7397-4243-f1d3-1d750abc9f76"
      },
      "execution_count": null,
      "outputs": [
        {
          "output_type": "stream",
          "name": "stdout",
          "text": [
            "name : Alice\n",
            "age : 25\n"
          ]
        }
      ]
    },
    {
      "cell_type": "code",
      "source": [
        "#print even num\n",
        "numbers = [1, 2, 3, 4, 5, 6]\n",
        "\n",
        "for even_num in numbers:\n",
        "  if even_num % 2 == 0:\n",
        "    print(even_num)"
      ],
      "metadata": {
        "colab": {
          "base_uri": "https://localhost:8080/"
        },
        "id": "dEuDqFStxlVD",
        "outputId": "325c1277-4878-4c02-facb-89da2b9bed4c"
      },
      "execution_count": null,
      "outputs": [
        {
          "output_type": "stream",
          "name": "stdout",
          "text": [
            "2\n",
            "4\n",
            "6\n"
          ]
        }
      ]
    },
    {
      "cell_type": "code",
      "source": [
        "#print moth with salary at the end print total salary\n",
        "exp = [2340, 2500, 2100, 3100, 2980]\n",
        "\n",
        "index = 0\n",
        "total = 0\n",
        "for i in exp:\n",
        "  index += 1\n",
        "  print(index, \"st month salary:\",i)\n",
        "  total += i\n",
        "print(\"total salary:\", total)"
      ],
      "metadata": {
        "colab": {
          "base_uri": "https://localhost:8080/"
        },
        "id": "nTCs7_W8YtUM",
        "outputId": "69524c57-5951-4bef-86ed-eef88345ff31"
      },
      "execution_count": null,
      "outputs": [
        {
          "output_type": "stream",
          "name": "stdout",
          "text": [
            "1 st month salary: 2340\n",
            "2 st month salary: 2500\n",
            "3 st month salary: 2100\n",
            "4 st month salary: 3100\n",
            "5 st month salary: 2980\n",
            "total salary: 13020\n"
          ]
        }
      ]
    },
    {
      "cell_type": "code",
      "source": [
        "#or u can do\n",
        "exp = [2340, 2500, 2100, 3100, 2980]\n",
        "\n",
        "for i in range(len(exp)):\n",
        "  print('month:', (i+1), 'expense:', exp[i])   # in here i is 0 so we are adding 1\n"
      ],
      "metadata": {
        "colab": {
          "base_uri": "https://localhost:8080/"
        },
        "id": "G-AjioGYbSCY",
        "outputId": "8a17844f-3759-4ac5-ee6a-53cedee09a05"
      },
      "execution_count": null,
      "outputs": [
        {
          "output_type": "stream",
          "name": "stdout",
          "text": [
            "month: 1 expense: 2340\n",
            "month: 2 expense: 2500\n",
            "month: 3 expense: 2100\n",
            "month: 4 expense: 3100\n",
            "month: 5 expense: 2980\n"
          ]
        }
      ]
    },
    {
      "cell_type": "code",
      "source": [
        "# if we achieve our goal and stop a for loop and terminate in between"
      ],
      "metadata": {
        "id": "vfVNQgKWcfHP"
      },
      "execution_count": null,
      "outputs": []
    },
    {
      "cell_type": "code",
      "source": [
        "#key finding\n",
        "\n",
        "key_location = \"chair\"\n",
        "locations = [\"garage\", \"living room\", \"chair\", \"closet\"]\n",
        "\n",
        "for search in locations:\n",
        "  if search == key_location:\n",
        "    print(\"key is found in\", search)\n",
        "    break        #it wouldn't go complete list, it'll come out from for loop\n",
        "  else:\n",
        "    print(\"key is not found in\", search)"
      ],
      "metadata": {
        "colab": {
          "base_uri": "https://localhost:8080/"
        },
        "id": "3NXocmxGdMj7",
        "outputId": "6f800b84-2b52-4264-8a33-57ef2f82cdcc"
      },
      "execution_count": null,
      "outputs": [
        {
          "output_type": "stream",
          "name": "stdout",
          "text": [
            "key is not found in garage\n",
            "key is not found in living room\n",
            "key is found in chair\n"
          ]
        }
      ]
    },
    {
      "cell_type": "code",
      "source": [
        "# when u r doing for loop for list of items sometimes for some items u want to skip the operation\n",
        "# so that case we use 'continue'"
      ],
      "metadata": {
        "id": "OVZeXre4fsma"
      },
      "execution_count": null,
      "outputs": []
    },
    {
      "cell_type": "code",
      "source": [
        "# print squre num between 1-5 except even num\n",
        "\n",
        "for i in range(1,6):\n",
        "  if i % 2 == 0:\n",
        "    continue\n",
        "  print(i*i)"
      ],
      "metadata": {
        "colab": {
          "base_uri": "https://localhost:8080/"
        },
        "id": "CTL2pXRwgElY",
        "outputId": "fb51c090-ba33-4cab-e65a-031fa051c869"
      },
      "execution_count": null,
      "outputs": [
        {
          "output_type": "stream",
          "name": "stdout",
          "text": [
            "1\n",
            "9\n",
            "25\n"
          ]
        }
      ]
    },
    {
      "cell_type": "code",
      "source": [],
      "metadata": {
        "id": "wv4_B359k7v3"
      },
      "execution_count": null,
      "outputs": []
    },
    {
      "cell_type": "code",
      "source": [],
      "metadata": {
        "id": "ZqWY_mgzk7ru"
      },
      "execution_count": null,
      "outputs": []
    },
    {
      "cell_type": "code",
      "source": [
        "# 10 time flip,how man\n",
        "result = [\"heads\",\"tails\",\"tails\",\"heads\",\"tails\",\"heads\",\"heads\",\"tails\",\"tails\",\"tails\"]\n",
        "\n",
        "count = 0\n",
        "for i in result:\n",
        "  if i == 'heads':\n",
        "    count += 1\n",
        "print(count)\n"
      ],
      "metadata": {
        "colab": {
          "base_uri": "https://localhost:8080/"
        },
        "id": "C8Hpm9abiplC",
        "outputId": "b18b2609-3079-4928-e699-fab977adfe8d"
      },
      "execution_count": null,
      "outputs": [
        {
          "output_type": "stream",
          "name": "stdout",
          "text": [
            "4\n"
          ]
        }
      ]
    },
    {
      "cell_type": "markdown",
      "source": [
        "#while loops"
      ],
      "metadata": {
        "id": "FryKxL4xztD-"
      }
    },
    {
      "cell_type": "code",
      "source": [
        "#while loops checking condition whether it's true / false ,\n",
        "#while it's maintaining true the condition underneath is going to execute\n",
        "# (while loop takes only one condition , until that condition is satisfied to be true it will just keep on iterating)"
      ],
      "metadata": {
        "id": "XXmGNmOmzwGV"
      },
      "execution_count": null,
      "outputs": []
    },
    {
      "cell_type": "code",
      "source": [
        "count = 1\n",
        "while count < 5:\n",
        "  print(count)\n",
        "  count += 1"
      ],
      "metadata": {
        "colab": {
          "base_uri": "https://localhost:8080/"
        },
        "id": "t92Djd8s4BYF",
        "outputId": "acf031b2-75b2-4d07-f28a-a9cc0e31d268"
      },
      "execution_count": null,
      "outputs": [
        {
          "output_type": "stream",
          "name": "stdout",
          "text": [
            "1\n",
            "2\n",
            "3\n",
            "4\n"
          ]
        }
      ]
    },
    {
      "cell_type": "code",
      "source": [
        "#why while lopp?\n",
        "# if the list too long and but we only care returning 1st instance of meeting condition"
      ],
      "metadata": {
        "id": "TTQgBwTd4aSr"
      },
      "execution_count": null,
      "outputs": []
    },
    {
      "cell_type": "code",
      "source": [
        "year_experience = {\n",
        "    'luke': 3,\n",
        "    'willium': 2,\n",
        "    'east': 5,\n",
        "    'suppha': 4,\n",
        "    'john': 7,\n",
        "    'peter': 6\n",
        "}"
      ],
      "metadata": {
        "id": "AI1t6dah6qYA"
      },
      "execution_count": null,
      "outputs": []
    },
    {
      "cell_type": "code",
      "source": [
        "#dictionaries are unordered, so we can't use index to iterate throught it, so we are converting this dictionary to list\n",
        "#and then it has an index for each of these key value payers in order to iterate through"
      ],
      "metadata": {
        "id": "iE6S0Mdw7Q7V"
      },
      "execution_count": null,
      "outputs": []
    },
    {
      "cell_type": "code",
      "source": [
        "years = 0\n",
        "index = 0\n",
        "\n",
        "year_list = list(year_experience.items())\n",
        "\n",
        "while years < 5:\n",
        "  key,years = year_list[index]\n",
        "  print(key, years)\n",
        "  index += 1"
      ],
      "metadata": {
        "colab": {
          "base_uri": "https://localhost:8080/"
        },
        "id": "oA5o-16Y-lPM",
        "outputId": "be64e395-2c68-48f0-d262-9a12cb6cfed7"
      },
      "execution_count": null,
      "outputs": [
        {
          "output_type": "stream",
          "name": "stdout",
          "text": [
            "luke 3\n",
            "willium 2\n",
            "east 5\n"
          ]
        }
      ]
    },
    {
      "cell_type": "code",
      "source": [
        "years = 0\n",
        "index = 0\n",
        "\n",
        "year_list = list(year_experience.items())\n",
        "\n",
        "while years < 5:\n",
        "  key,years = year_list[index]\n",
        "  if years >=5:\n",
        "   print(key, years)\n",
        "  index += 1                         #index want to be iterating through each item in list"
      ],
      "metadata": {
        "colab": {
          "base_uri": "https://localhost:8080/"
        },
        "id": "HLZA3r9P71aR",
        "outputId": "49725f9d-5679-4a60-f3dc-0c4f85bf8ea8"
      },
      "execution_count": null,
      "outputs": [
        {
          "output_type": "stream",
          "name": "stdout",
          "text": [
            "east 5\n"
          ]
        }
      ]
    },
    {
      "cell_type": "code",
      "source": [
        "i = 1\n",
        "while i <= 5:\n",
        "  print(i)\n",
        "  i += 1"
      ],
      "metadata": {
        "colab": {
          "base_uri": "https://localhost:8080/"
        },
        "id": "a29Z2nAP9XMy",
        "outputId": "4d11edd3-1d1b-415b-e78b-ffb38b972053"
      },
      "execution_count": null,
      "outputs": [
        {
          "output_type": "stream",
          "name": "stdout",
          "text": [
            "1\n",
            "2\n",
            "3\n",
            "4\n",
            "5\n"
          ]
        }
      ]
    },
    {
      "cell_type": "code",
      "source": [
        "i = 5\n",
        "while i >= 1:\n",
        "  print(i)\n",
        "  i -= 1"
      ],
      "metadata": {
        "colab": {
          "base_uri": "https://localhost:8080/"
        },
        "id": "_n4vBQNFAilv",
        "outputId": "0710ea87-9ba5-49f1-ffe0-9e469a2e6006"
      },
      "execution_count": null,
      "outputs": [
        {
          "output_type": "stream",
          "name": "stdout",
          "text": [
            "5\n",
            "4\n",
            "3\n",
            "2\n",
            "1\n"
          ]
        }
      ]
    },
    {
      "cell_type": "code",
      "source": [],
      "metadata": {
        "id": "-nr2eyzfzd_d"
      },
      "execution_count": null,
      "outputs": []
    }
  ]
}