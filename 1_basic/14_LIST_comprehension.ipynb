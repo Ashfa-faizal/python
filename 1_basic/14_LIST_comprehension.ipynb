{
  "nbformat": 4,
  "nbformat_minor": 0,
  "metadata": {
    "colab": {
      "provenance": []
    },
    "kernelspec": {
      "name": "python3",
      "display_name": "Python 3"
    },
    "language_info": {
      "name": "python"
    }
  },
  "cells": [
    {
      "cell_type": "markdown",
      "source": [
        "A way way to create a new list (with shorter syntax) based on the values of an existing list.\n",
        "* Not limited to only list comprehension:\n",
        "\n",
        "1. set comprehension\n",
        "2. tuple comprehension\n",
        "3. dictionary comprehension"
      ],
      "metadata": {
        "id": "2GB6we3VzDZa"
      }
    },
    {
      "cell_type": "code",
      "source": [
        "numbers = []\n",
        "\n",
        "for number in range(10):\n",
        "    numbers.append(number)\n",
        "\n",
        "numbers"
      ],
      "metadata": {
        "colab": {
          "base_uri": "https://localhost:8080/"
        },
        "id": "ATaNDYjk2Aq_",
        "outputId": "a92d7248-33b4-4236-9c6e-40d993e5b390"
      },
      "execution_count": null,
      "outputs": [
        {
          "output_type": "execute_result",
          "data": {
            "text/plain": [
              "[0, 1, 2, 3, 4, 5, 6, 7, 8, 9]"
            ]
          },
          "metadata": {},
          "execution_count": 8
        }
      ]
    },
    {
      "cell_type": "code",
      "source": [
        "#but if we use list comprehension"
      ],
      "metadata": {
        "id": "UVUYqNEu2vNH"
      },
      "execution_count": null,
      "outputs": []
    },
    {
      "cell_type": "code",
      "execution_count": null,
      "metadata": {
        "id": "NvMQPfNgxupu",
        "colab": {
          "base_uri": "https://localhost:8080/"
        },
        "outputId": "ebb22ecc-2f0d-4936-b7ea-df54b43f5e8d"
      },
      "outputs": [
        {
          "output_type": "execute_result",
          "data": {
            "text/plain": [
              "[0, 1, 2, 3, 4, 5, 6, 7, 8, 9]"
            ]
          },
          "metadata": {},
          "execution_count": 1
        }
      ],
      "source": [
        "numbers = [x for x in range(10)]       # x - variable that we want to put into that\n",
        "numbers"
      ]
    },
    {
      "cell_type": "code",
      "source": [
        "numbers = [x*2 for x in range(10)]\n",
        "numbers"
      ],
      "metadata": {
        "colab": {
          "base_uri": "https://localhost:8080/"
        },
        "id": "_lMEKhjY2JFY",
        "outputId": "11e71068-3236-442f-e17a-cd6fa30cebc3"
      },
      "execution_count": null,
      "outputs": [
        {
          "output_type": "execute_result",
          "data": {
            "text/plain": [
              "[0, 2, 4, 6, 8, 10, 12, 14, 16, 18]"
            ]
          },
          "metadata": {},
          "execution_count": 10
        }
      ]
    },
    {
      "cell_type": "code",
      "source": [
        "numbers = [float(x) for x in range(10)]\n",
        "numbers"
      ],
      "metadata": {
        "colab": {
          "base_uri": "https://localhost:8080/"
        },
        "id": "uyyLdm_J7dlX",
        "outputId": "ad46d53a-f2d6-4367-9a68-3ea6c41cbfdf"
      },
      "execution_count": null,
      "outputs": [
        {
          "output_type": "execute_result",
          "data": {
            "text/plain": [
              "[0.0, 1.0, 2.0, 3.0, 4.0, 5.0, 6.0, 7.0, 8.0, 9.0]"
            ]
          },
          "metadata": {},
          "execution_count": 11
        }
      ]
    },
    {
      "cell_type": "code",
      "source": [
        "numbers = [x for x in \"PYTHON\"]          #WE can use string as well\n",
        "numbers"
      ],
      "metadata": {
        "colab": {
          "base_uri": "https://localhost:8080/"
        },
        "id": "4xjIkTmO76Cc",
        "outputId": "adc14747-ea34-442b-d04d-de438c0f0c3a"
      },
      "execution_count": null,
      "outputs": [
        {
          "output_type": "execute_result",
          "data": {
            "text/plain": [
              "['P', 'Y', 'T', 'H', 'O', 'N']"
            ]
          },
          "metadata": {},
          "execution_count": 13
        }
      ]
    },
    {
      "cell_type": "code",
      "source": [
        "job_titles = [\n",
        "    \"Junior Data Analyst\",\n",
        "    \"Data Engineer\",\n",
        "    \"Data Entry Specialist\",\n",
        "    \"Reporting Analyst\",\n",
        "    \"Research Data Analyst\",\n",
        "    \"SQL Developer\",\n",
        "    \"Operations Analyst\",\n",
        "    \"Quantitative Analyst\"\n",
        "]\n",
        "\n",
        "data_analyst = []\n",
        "\n",
        "for job in job_titles:\n",
        "  if \"Data Analyst\" in job:\n",
        "    data_analyst.append(job)\n",
        "\n",
        "data_analyst"
      ],
      "metadata": {
        "colab": {
          "base_uri": "https://localhost:8080/"
        },
        "id": "zUoJHo4i8jjo",
        "outputId": "411428e2-cad6-411b-dbe5-9d82fc7d88b0"
      },
      "execution_count": null,
      "outputs": [
        {
          "output_type": "execute_result",
          "data": {
            "text/plain": [
              "['Junior Data Analyst', 'Research Data Analyst']"
            ]
          },
          "metadata": {},
          "execution_count": 27
        }
      ]
    },
    {
      "cell_type": "code",
      "source": [
        "#list comprehension method"
      ],
      "metadata": {
        "id": "Fn3QySHA_aDt"
      },
      "execution_count": null,
      "outputs": []
    },
    {
      "cell_type": "code",
      "source": [
        "data_analyst = [job for job in job_titles if True]\n",
        "data_analyst"
      ],
      "metadata": {
        "colab": {
          "base_uri": "https://localhost:8080/"
        },
        "id": "CqQETmn09lO8",
        "outputId": "d246aeab-15d5-41e1-ca29-97dc4f253ff1"
      },
      "execution_count": null,
      "outputs": [
        {
          "output_type": "execute_result",
          "data": {
            "text/plain": [
              "['Junior Data Analyst',\n",
              " 'Data Engineer',\n",
              " 'Data Entry Specialist',\n",
              " 'Reporting Analyst',\n",
              " 'Research Data Analyst',\n",
              " 'SQL Developer',\n",
              " 'Operations Analyst',\n",
              " 'Quantitative Analyst']"
            ]
          },
          "metadata": {},
          "execution_count": 33
        }
      ]
    },
    {
      "cell_type": "code",
      "source": [
        "data_analyst = [job for job in job_titles if False]\n",
        "data_analyst"
      ],
      "metadata": {
        "colab": {
          "base_uri": "https://localhost:8080/"
        },
        "id": "UJ7fbTygAk3o",
        "outputId": "541f0869-d450-432c-a741-28a8fe92e708"
      },
      "execution_count": null,
      "outputs": [
        {
          "output_type": "execute_result",
          "data": {
            "text/plain": [
              "[]"
            ]
          },
          "metadata": {},
          "execution_count": 34
        }
      ]
    },
    {
      "cell_type": "code",
      "source": [
        "data_analyst = [job for job in job_titles if \"Data Analyst\" in job]\n",
        "data_analyst"
      ],
      "metadata": {
        "colab": {
          "base_uri": "https://localhost:8080/"
        },
        "id": "O6DHdLRjDYyA",
        "outputId": "c00cb7d0-4fd3-4efa-f9a8-78661619da0a"
      },
      "execution_count": null,
      "outputs": [
        {
          "output_type": "execute_result",
          "data": {
            "text/plain": [
              "['Junior Data Analyst', 'Research Data Analyst']"
            ]
          },
          "metadata": {},
          "execution_count": 35
        }
      ]
    },
    {
      "cell_type": "code",
      "source": [
        "integer = [0, 1, 2, 3, 4]\n",
        "binary = [\"0\", \"1\", \"10\", \"11\", \"100\"]\n",
        "\n",
        "dict = {k:v for k,v in zip(integer, binary)}\n",
        "dict\n"
      ],
      "metadata": {
        "colab": {
          "base_uri": "https://localhost:8080/"
        },
        "id": "_xQQihUeDnS8",
        "outputId": "d74a682a-435a-451d-9125-e8b9ae955dec"
      },
      "execution_count": null,
      "outputs": [
        {
          "output_type": "execute_result",
          "data": {
            "text/plain": [
              "{0: '0', 1: '1', 2: '10', 3: '11', 4: '100'}"
            ]
          },
          "metadata": {},
          "execution_count": 36
        }
      ]
    },
    {
      "cell_type": "code",
      "source": [],
      "metadata": {
        "id": "eCdUEyTpGTqE"
      },
      "execution_count": null,
      "outputs": []
    }
  ]
}