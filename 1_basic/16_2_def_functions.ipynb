{
  "nbformat": 4,
  "nbformat_minor": 0,
  "metadata": {
    "colab": {
      "provenance": []
    },
    "kernelspec": {
      "name": "python3",
      "display_name": "Python 3"
    },
    "language_info": {
      "name": "python"
    }
  },
  "cells": [
    {
      "cell_type": "markdown",
      "source": [
        "#functions: the manipulators of objects\n",
        "**functions: A reusable of code that performs a specific task"
      ],
      "metadata": {
        "id": "fjlfiLCDyWte"
      }
    },
    {
      "cell_type": "code",
      "execution_count": null,
      "metadata": {
        "id": "5urpUZXKxAMj"
      },
      "outputs": [],
      "source": [
        "# eg: \"print\" is a function, \"print()\" is an argument, \"print(...)\" it's gonna give me output\n",
        "#it's called 'built in function'"
      ]
    },
    {
      "cell_type": "code",
      "source": [
        "print(\"What's up, data nerds\")"
      ],
      "metadata": {
        "colab": {
          "base_uri": "https://localhost:8080/"
        },
        "id": "dPWcv2k5zvqc",
        "outputId": "da1cb985-517f-4211-ee8c-913ce98b0352"
      },
      "execution_count": null,
      "outputs": [
        {
          "output_type": "stream",
          "name": "stdout",
          "text": [
            "What's up, data nerds\n"
          ]
        }
      ]
    },
    {
      "cell_type": "code",
      "source": [
        "#if i routinely printing out the statement \"what's up data nerds\", i can build it's own function\n",
        "#the function start with def(define)"
      ],
      "metadata": {
        "id": "7vNoLGLB0HbR"
      },
      "execution_count": null,
      "outputs": []
    },
    {
      "cell_type": "code",
      "source": [
        "def greet():\n",
        "  return \"what's up,data nerds\""
      ],
      "metadata": {
        "id": "xv8ZxvCJ1Bl5"
      },
      "execution_count": null,
      "outputs": []
    },
    {
      "cell_type": "code",
      "source": [
        "greet()"
      ],
      "metadata": {
        "colab": {
          "base_uri": "https://localhost:8080/",
          "height": 35
        },
        "id": "0q2QreaX1MLQ",
        "outputId": "5bff1227-ccb1-431e-dc07-8a1c6bdabb94"
      },
      "execution_count": null,
      "outputs": [
        {
          "output_type": "execute_result",
          "data": {
            "text/plain": [
              "\"what's up,data nerds\""
            ],
            "application/vnd.google.colaboratory.intrinsic+json": {
              "type": "string"
            }
          },
          "metadata": {},
          "execution_count": 6
        }
      ]
    },
    {
      "cell_type": "code",
      "source": [
        "Job_title = \"Data Analysis\"\n",
        "job_location =\"United State\"\n",
        "job_salary = 100000"
      ],
      "metadata": {
        "id": "N1Fw7FFg1Ppb"
      },
      "execution_count": null,
      "outputs": []
    },
    {
      "cell_type": "code",
      "source": [
        "print(f\"JOB     : {Job_title}\\nLOCATION: {job_location}\\nSALARY  :  ${job_salary:,.0f}\")"
      ],
      "metadata": {
        "colab": {
          "base_uri": "https://localhost:8080/"
        },
        "id": "doa_Cnjt1g8s",
        "outputId": "2c8404ec-dd77-40ce-c010-685b2e831ad6"
      },
      "execution_count": null,
      "outputs": [
        {
          "output_type": "stream",
          "name": "stdout",
          "text": [
            "JOB     : Data Analysis\n",
            "LOCATION: United State\n",
            "SALARY  :  $100,000\n"
          ]
        }
      ]
    },
    {
      "cell_type": "code",
      "source": [
        "def display_info(title, location, salary):\n",
        "    return print(f\"JOB     : {title}\\nLOCATION: {location}\\nSALARY  :  ${salary:,.0f}\")"
      ],
      "metadata": {
        "id": "srWdK3ha3IqG"
      },
      "execution_count": null,
      "outputs": []
    },
    {
      "cell_type": "code",
      "source": [
        "display_info(Job_title, job_location, job_salary)"
      ],
      "metadata": {
        "colab": {
          "base_uri": "https://localhost:8080/"
        },
        "id": "J0T4HEWL4QeZ",
        "outputId": "a98a2ab7-d483-44d1-94ae-511a9b2d929c"
      },
      "execution_count": null,
      "outputs": [
        {
          "output_type": "stream",
          "name": "stdout",
          "text": [
            "JOB     : Data Analysis\n",
            "LOCATION: United State\n",
            "SALARY  :  $100,000\n"
          ]
        }
      ]
    },
    {
      "cell_type": "code",
      "source": [
        "tom = [ 2100,3400,3500 ]\n",
        "joe = [200, 300, 400]"
      ],
      "metadata": {
        "id": "YeRI9Rl7McSE"
      },
      "execution_count": null,
      "outputs": []
    },
    {
      "cell_type": "code",
      "source": [
        "\n",
        "def calculate_salary(exp):\n",
        "  total = 0\n",
        "  for salary in exp:\n",
        "       total += salary\n",
        "  print(total)\n",
        "\n",
        "calculate_salary(tom)"
      ],
      "metadata": {
        "colab": {
          "base_uri": "https://localhost:8080/"
        },
        "id": "90QlUWdBot-_",
        "outputId": "5e59ae5a-61dd-48e8-f5a3-ac616969bdfb"
      },
      "execution_count": null,
      "outputs": [
        {
          "output_type": "stream",
          "name": "stdout",
          "text": [
            "9000\n"
          ]
        }
      ]
    },
    {
      "cell_type": "code",
      "source": [
        "def sum(num1,num2):\n",
        "  total = num1 + num2\n",
        "  return total\n",
        "\n",
        "sum(5,6)"
      ],
      "metadata": {
        "id": "10pCI3iPrCJ2",
        "colab": {
          "base_uri": "https://localhost:8080/"
        },
        "outputId": "0f6f9c63-7731-4023-ac65-f94a4fa204bc"
      },
      "execution_count": null,
      "outputs": [
        {
          "output_type": "execute_result",
          "data": {
            "text/plain": [
              "11"
            ]
          },
          "metadata": {},
          "execution_count": 2
        }
      ]
    },
    {
      "cell_type": "code",
      "source": [
        "#1. Write a function called calculate_area that takes base and height as an input and returns and area of a triangle. Equation of an area of a triangle is,\n",
        "# ```\n",
        "# area = (1/2)*base*height\n",
        "# ```\n",
        "#\n",
        "# 2. Modify above function to take third parameter shape type. It can be either \"triangle\" or \"rectangle\". Based on shape type it will calculate area. Equation of rectangle's area is,\n",
        "# ```\n",
        "# rectangle area=length*width\n",
        "# ```\n",
        "# If no shape is supplied then it should take triangle as a default shape\n"
      ],
      "metadata": {
        "id": "CKXaL7D3FluB"
      },
      "execution_count": null,
      "outputs": []
    },
    {
      "cell_type": "code",
      "source": [
        "def calculate_area(base , height):\n",
        "  area = 0.5 * base * height\n",
        "  return area"
      ],
      "metadata": {
        "id": "RqmHlJ6u_dEW"
      },
      "execution_count": null,
      "outputs": []
    },
    {
      "cell_type": "code",
      "source": [
        "def calculate_area(base , height, type):\n",
        "  if type == 'triangle':\n",
        "   area = 0.5 * base * height\n",
        "  elif type == 'rectriangle':\n",
        "    area = base * height\n",
        "  else:\n",
        "    print(\"type should be tri or rect\")\n",
        "    area = None\n",
        "  return area"
      ],
      "metadata": {
        "id": "Yhmda2ozAI7v"
      },
      "execution_count": null,
      "outputs": []
    }
  ]
}