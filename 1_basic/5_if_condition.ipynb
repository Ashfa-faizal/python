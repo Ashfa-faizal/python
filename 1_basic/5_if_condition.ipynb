{
  "nbformat": 4,
  "nbformat_minor": 0,
  "metadata": {
    "colab": {
      "provenance": []
    },
    "kernelspec": {
      "name": "python3",
      "display_name": "Python 3"
    },
    "language_info": {
      "name": "python"
    }
  },
  "cells": [
    {
      "cell_type": "code",
      "execution_count": null,
      "metadata": {
        "colab": {
          "base_uri": "https://localhost:8080/"
        },
        "id": "3eirLK5V5xMI",
        "outputId": "aaf8cd1d-1d4c-4914-f904-4c5b445cc166"
      },
      "outputs": [
        {
          "output_type": "stream",
          "name": "stdout",
          "text": [
            "what's up\n"
          ]
        }
      ],
      "source": [
        "if True:\n",
        "  print(\"what's up\")"
      ]
    },
    {
      "cell_type": "code",
      "source": [
        "if False:\n",
        "  print(\"hello world\")"
      ],
      "metadata": {
        "id": "FDrz3G7V787Q"
      },
      "execution_count": null,
      "outputs": []
    },
    {
      "cell_type": "code",
      "source": [
        "if False:\n",
        "  print(\"hello world\")\n",
        "else:\n",
        "  print(\"what's up\")\n"
      ],
      "metadata": {
        "colab": {
          "base_uri": "https://localhost:8080/"
        },
        "id": "qogqDuJ38ZwQ",
        "outputId": "d642bc2c-22b3-4122-a7d9-2682ce6886a7"
      },
      "execution_count": null,
      "outputs": [
        {
          "output_type": "stream",
          "name": "stdout",
          "text": [
            "what's up\n"
          ]
        }
      ]
    },
    {
      "cell_type": "code",
      "source": [
        "#applicant skills\n",
        "applicant_skills = \"sql\"\n",
        "\n",
        "#skill requide for job posting\n",
        "job_skills = \"sql\"\n",
        "\n",
        "if applicant_skills == job_skills:\n",
        "  print(\"you are qualified\")\n",
        "else:\n",
        "  print(\"you are not qualified\")\n"
      ],
      "metadata": {
        "colab": {
          "base_uri": "https://localhost:8080/"
        },
        "id": "Fgu6gR-P8ssv",
        "outputId": "5f157b19-3312-4729-8cbe-931618bb08d0"
      },
      "execution_count": null,
      "outputs": [
        {
          "output_type": "stream",
          "name": "stdout",
          "text": [
            "you are qualified\n"
          ]
        }
      ]
    },
    {
      "cell_type": "code",
      "source": [
        "applicant_skills = \"sql\"\n",
        "job_skills = \"python\"\n",
        "years_of_experience = 2\n",
        "\n",
        "## Check if your desired job skill matches the required skill and what position you can apply for based on your years of experience.\n",
        "if applicant_skills == job_skills:\n",
        "  print('skills matched')\n",
        "elif years_of_experience >= 3:\n",
        "  print(\"Enough experience; no sql skills\")\n",
        "else:\n",
        "  print(\"no skills or experience matched\")\n"
      ],
      "metadata": {
        "colab": {
          "base_uri": "https://localhost:8080/"
        },
        "id": "yf4rfPf-9tLf",
        "outputId": "65328d0c-c45a-412b-b87e-4131bab11fbf"
      },
      "execution_count": null,
      "outputs": [
        {
          "output_type": "stream",
          "name": "stdout",
          "text": [
            "no skills or experience matched\n"
          ]
        }
      ]
    },
    {
      "cell_type": "code",
      "source": [
        "# pass/... is put in the place whenever u don't have anything to put there\n",
        "if applicant_skills == job_skills:\n",
        "  pass         #nothing gonna print here"
      ],
      "metadata": {
        "id": "_X6lE2KuCFeb"
      },
      "execution_count": null,
      "outputs": []
    },
    {
      "cell_type": "markdown",
      "source": [
        "#Activity"
      ],
      "metadata": {
        "id": "OgkyXIwuFmu5"
      }
    },
    {
      "cell_type": "markdown",
      "source": [
        "1. Check if a number is positive, negative, or zero."
      ],
      "metadata": {
        "id": "Hb5vlPHpFzxf"
      }
    },
    {
      "cell_type": "code",
      "source": [
        "number = int(input(\"Enter a number: \"))\n",
        "\n",
        "if number == 0:\n",
        "  print(\"number is zero\")\n",
        "elif number >= 0:\n",
        "  print(\"number is positive\")\n",
        "else:\n",
        "  print(\"number is negative\")\n"
      ],
      "metadata": {
        "colab": {
          "base_uri": "https://localhost:8080/"
        },
        "id": "favH-wDOEKQD",
        "outputId": "b940888e-4d94-497e-aec7-3ffeeff81032"
      },
      "execution_count": null,
      "outputs": [
        {
          "output_type": "stream",
          "name": "stdout",
          "text": [
            "Enter number: 5\n",
            "number is positive\n"
          ]
        }
      ]
    },
    {
      "cell_type": "markdown",
      "source": [
        "2.Find the largest among three numbers."
      ],
      "metadata": {
        "id": "NSu5uM9JGJDQ"
      }
    },
    {
      "cell_type": "code",
      "source": [
        "a = int(input(\"Enter first number: \"))\n",
        "b = int(input(\"Enter second number: \"))\n",
        "c = int(input(\"Enter third number: \"))\n",
        "\n",
        "if a>=b and a>=c:\n",
        "  print(\"largest; \",a)\n",
        "elif b>=a and b>=c:\n",
        "  print(\"largest;\",b)\n",
        "else:\n",
        "  print(\"largest;\",c)\n",
        "\n"
      ],
      "metadata": {
        "colab": {
          "base_uri": "https://localhost:8080/"
        },
        "id": "6Z1l8ggIFfOu",
        "outputId": "ca5301ea-f596-4f49-a26c-97767787a692"
      },
      "execution_count": null,
      "outputs": [
        {
          "output_type": "stream",
          "name": "stdout",
          "text": [
            "Enter first number: 5\n",
            "Enter second number: 6\n",
            "Enter third number: 7\n",
            "largest; 7\n"
          ]
        }
      ]
    },
    {
      "cell_type": "markdown",
      "source": [
        "Problem: Assign a grade based on a score:\n",
        "\n",
        "* 90–100: A\n",
        "* 80–89: B\n",
        "* 70–79: C\n",
        "* 60–69: D\n",
        "* <60: F"
      ],
      "metadata": {
        "id": "_xdT8xfIJZpv"
      }
    },
    {
      "cell_type": "code",
      "source": [
        "num = int(input(\"enter a marks; \"))\n",
        "\n",
        "if 100>=num>=90:\n",
        "  print(\"A grade\")\n",
        "elif 90>num>=80:\n",
        "  print(\"B grade\")\n",
        "elif 80>num>=70:\n",
        "  print(\"C grade\")\n",
        "elif 70>num>=60:\n",
        "  print(\"D grade\")\n",
        "else:\n",
        "  print(\"F grade\")"
      ],
      "metadata": {
        "colab": {
          "base_uri": "https://localhost:8080/"
        },
        "id": "8V9D84KIGsfC",
        "outputId": "93e5e69c-15b1-41d5-cb20-5a5b56204631"
      },
      "execution_count": null,
      "outputs": [
        {
          "output_type": "stream",
          "name": "stdout",
          "text": [
            "enter a marks; 70\n",
            "C grade\n"
          ]
        }
      ]
    },
    {
      "cell_type": "code",
      "source": [],
      "metadata": {
        "id": "rrfiYUuwJRU3"
      },
      "execution_count": null,
      "outputs": []
    }
  ]
}