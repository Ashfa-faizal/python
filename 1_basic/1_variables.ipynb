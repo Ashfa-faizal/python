{
  "nbformat": 4,
  "nbformat_minor": 0,
  "metadata": {
    "colab": {
      "provenance": []
    },
    "kernelspec": {
      "name": "python3",
      "display_name": "Python 3"
    },
    "language_info": {
      "name": "python"
    }
  },
  "cells": [
    {
      "cell_type": "markdown",
      "source": [
        "# create a variable\n"
      ],
      "metadata": {
        "id": "D-qKh8m_5B8X"
      }
    },
    {
      "cell_type": "code",
      "execution_count": null,
      "metadata": {
        "id": "EU9Up6TT5A6K"
      },
      "outputs": [],
      "source": [
        "# variable_name = variable"
      ]
    },
    {
      "cell_type": "code",
      "source": [
        "salary = 100000"
      ],
      "metadata": {
        "id": "20jWhCbA5RBE"
      },
      "execution_count": null,
      "outputs": []
    },
    {
      "cell_type": "code",
      "source": [
        "salary"
      ],
      "metadata": {
        "colab": {
          "base_uri": "https://localhost:8080/"
        },
        "id": "Ftolc6bw5rCI",
        "outputId": "cfe9ee8d-5a2a-4e03-b5ca-2b8e0a7476fc"
      },
      "execution_count": null,
      "outputs": [
        {
          "output_type": "execute_result",
          "data": {
            "text/plain": [
              "100000"
            ]
          },
          "metadata": {},
          "execution_count": 3
        }
      ]
    },
    {
      "cell_type": "code",
      "source": [
        "\"salary\"          #if we're using string it's complete different"
      ],
      "metadata": {
        "colab": {
          "base_uri": "https://localhost:8080/",
          "height": 35
        },
        "id": "e7CZg44Z5sLp",
        "outputId": "e1e8bf10-37a6-4c60-dcd6-df974d25ebef"
      },
      "execution_count": null,
      "outputs": [
        {
          "output_type": "execute_result",
          "data": {
            "text/plain": [
              "'salary'"
            ],
            "application/vnd.google.colaboratory.intrinsic+json": {
              "type": "string"
            }
          },
          "metadata": {},
          "execution_count": 4
        }
      ]
    },
    {
      "cell_type": "markdown",
      "source": [
        "**Total Salary = (Base Salary)*(1 + Bonus Rate)       # if bonus is 10%\n"
      ],
      "metadata": {
        "id": "xpYPi8MQ58r2"
      }
    },
    {
      "cell_type": "code",
      "source": [
        "base_salary = 100000\n",
        "bonus_rate = 0.1\n",
        "total_salary = base_salary * (1 + bonus_rate)\n",
        "total_salary"
      ],
      "metadata": {
        "colab": {
          "base_uri": "https://localhost:8080/"
        },
        "id": "k12SzBeE6YJz",
        "outputId": "f77aaa59-63c1-48b8-c977-b3c556ba5c5c"
      },
      "execution_count": null,
      "outputs": [
        {
          "output_type": "execute_result",
          "data": {
            "text/plain": [
              "110000.00000000001"
            ]
          },
          "metadata": {},
          "execution_count": 5
        }
      ]
    },
    {
      "cell_type": "code",
      "source": [
        "# we can't keet space between variable name"
      ],
      "metadata": {
        "id": "yN4PyLbY7E2Z"
      },
      "execution_count": null,
      "outputs": []
    },
    {
      "cell_type": "markdown",
      "source": [
        "# variable aren't only numbers\n"
      ],
      "metadata": {
        "id": "Ugm67DqY8l3J"
      }
    },
    {
      "cell_type": "markdown",
      "source": [
        "**eg: create variable to store the following information about a job**\n",
        "1. job ID (integer)\n",
        "2. company names (string)\n",
        "3. salary rate (string,or..)\n",
        "4.job work from home ( boolean)\n"
      ],
      "metadata": {
        "id": "fa_-Wx0582Yd"
      }
    },
    {
      "cell_type": "code",
      "source": [
        "company_name = \"Datawiz Inc.\""
      ],
      "metadata": {
        "id": "fLlEIW3Z8j-I"
      },
      "execution_count": null,
      "outputs": []
    },
    {
      "cell_type": "code",
      "source": [
        "job_wfh = True"
      ],
      "metadata": {
        "id": "CiUp_SWT93kN"
      },
      "execution_count": null,
      "outputs": []
    },
    {
      "cell_type": "code",
      "source": [
        "job_ID = 101"
      ],
      "metadata": {
        "id": "nIaP4jl_99ka"
      },
      "execution_count": null,
      "outputs": []
    },
    {
      "cell_type": "code",
      "source": [
        "job_title = \"Data analysis\""
      ],
      "metadata": {
        "id": "7UyuA-50-CEi"
      },
      "execution_count": null,
      "outputs": []
    },
    {
      "cell_type": "code",
      "source": [
        "job_salary = 125000"
      ],
      "metadata": {
        "id": "FgMkCTF2-Jr5"
      },
      "execution_count": null,
      "outputs": []
    },
    {
      "cell_type": "code",
      "source": [
        "print(\"job discription\")\n",
        "print(\"***************\")\n",
        "print(\"Company Name:\",company_name)\n",
        "print(\"Job ID      :\",job_ID)\n",
        "print(\"Job Title   :\",job_title)\n",
        "print(\"Job Salary  :\",job_salary)\n",
        "print(\"job WFH     :\",job_wfh)"
      ],
      "metadata": {
        "colab": {
          "base_uri": "https://localhost:8080/"
        },
        "id": "IWBwk61K-TJ2",
        "outputId": "049378da-8bc6-4a5c-91f6-dbc9248ed104"
      },
      "execution_count": null,
      "outputs": [
        {
          "output_type": "stream",
          "name": "stdout",
          "text": [
            "job discription\n",
            "***************\n",
            "Company Name: Datawiz Inc.\n",
            "Job ID      : 101\n",
            "Job Title   : Data analysis\n",
            "Job Salary  : 125000\n",
            "job WFH     : True\n"
          ]
        }
      ]
    },
    {
      "cell_type": "markdown",
      "source": [],
      "metadata": {
        "id": "mdvQTDOMpCLk"
      }
    },
    {
      "cell_type": "code",
      "source": [],
      "metadata": {
        "id": "UC-hFOJD_oG1"
      },
      "execution_count": null,
      "outputs": []
    }
  ]
}