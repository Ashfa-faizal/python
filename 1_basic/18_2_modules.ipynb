{
  "nbformat": 4,
  "nbformat_minor": 0,
  "metadata": {
    "colab": {
      "provenance": []
    },
    "kernelspec": {
      "name": "python3",
      "display_name": "Python 3"
    },
    "language_info": {
      "name": "python"
    }
  },
  "cells": [
    {
      "cell_type": "markdown",
      "source": [
        "libraries are collection of modules"
      ],
      "metadata": {
        "id": "ruUEWxJAqNi3"
      }
    },
    {
      "cell_type": "code",
      "source": [
        "import job_analyzer\n",
        "\n",
        "job_analyzer.calculate_salary(100000)"
      ],
      "metadata": {
        "colab": {
          "base_uri": "https://localhost:8080/"
        },
        "id": "kCyHjwYK1LHe",
        "outputId": "e3759e9c-33b3-4341-924f-75ef6e44c34e"
      },
      "execution_count": null,
      "outputs": [
        {
          "output_type": "execute_result",
          "data": {
            "text/plain": [
              "110000.00000000001"
            ]
          },
          "metadata": {},
          "execution_count": 1
        }
      ]
    },
    {
      "cell_type": "code",
      "source": [
        "# for import key word we can use another key word ,instead of this u can do"
      ],
      "metadata": {
        "id": "cqDNyrlP2cp-"
      },
      "execution_count": null,
      "outputs": []
    },
    {
      "cell_type": "code",
      "source": [
        "from job_analyzer import calculate_salary\n",
        "\n",
        "calculate_salary(100000)"
      ],
      "metadata": {
        "colab": {
          "base_uri": "https://localhost:8080/"
        },
        "id": "3OlWv3KX4O8_",
        "outputId": "a0cc2894-4d12-4871-b34e-823f414a176d"
      },
      "execution_count": null,
      "outputs": [
        {
          "output_type": "execute_result",
          "data": {
            "text/plain": [
              "110000.00000000001"
            ]
          },
          "metadata": {},
          "execution_count": 3
        }
      ]
    },
    {
      "cell_type": "code",
      "source": [
        "#if we have multiple functions\n",
        "# import calculate_bonus along with calculate_salary"
      ],
      "metadata": {
        "id": "0ap3qKAn4X2l"
      },
      "execution_count": null,
      "outputs": []
    },
    {
      "cell_type": "code",
      "source": [
        "from job_analyzer import calculate_salary , calculate_bonus\n",
        "\n",
        "calculate_bonus(110000,100000)"
      ],
      "metadata": {
        "colab": {
          "base_uri": "https://localhost:8080/"
        },
        "id": "bsN0Bkld45k5",
        "outputId": "cbe3fd58-76c1-4d8e-a52c-eb13bfe5c166"
      },
      "execution_count": null,
      "outputs": [
        {
          "output_type": "execute_result",
          "data": {
            "text/plain": [
              "0.1"
            ]
          },
          "metadata": {},
          "execution_count": 5
        }
      ]
    },
    {
      "cell_type": "code",
      "source": [
        "# we don't need to list to import every single function we work\n",
        "# instead we can use '*' it means hey import all the different function u have in"
      ],
      "metadata": {
        "id": "qDxrgyGc6yQn"
      },
      "execution_count": null,
      "outputs": []
    },
    {
      "cell_type": "code",
      "source": [
        "# if we want to see what happening in hare we can use help function .eg"
      ],
      "metadata": {
        "id": "ewNDUBVM774-"
      },
      "execution_count": null,
      "outputs": []
    },
    {
      "cell_type": "code",
      "source": [
        "help(calculate_salary)"
      ],
      "metadata": {
        "colab": {
          "base_uri": "https://localhost:8080/"
        },
        "id": "5mF2yvsf8Ydj",
        "outputId": "73a8a8c9-8ed8-4b4a-e4a6-ecedc0bec728"
      },
      "execution_count": null,
      "outputs": [
        {
          "output_type": "stream",
          "name": "stdout",
          "text": [
            "Help on function calculate_salary in module job_analyzer:\n",
            "\n",
            "calculate_salary(base_salary, bonus_rate=0.1)\n",
            "    calculate the total salary\n",
            "\n"
          ]
        }
      ]
    },
    {
      "cell_type": "code",
      "source": [
        "from job_analyzer import *"
      ],
      "metadata": {
        "id": "m_RB3GTT8yM1"
      },
      "execution_count": null,
      "outputs": []
    },
    {
      "cell_type": "code",
      "source": [
        "help(calculate_bonus)"
      ],
      "metadata": {
        "colab": {
          "base_uri": "https://localhost:8080/"
        },
        "id": "w9cLn1DY8dYn",
        "outputId": "f3a64442-bb68-451e-da52-3db78a31612e"
      },
      "execution_count": null,
      "outputs": [
        {
          "output_type": "stream",
          "name": "stdout",
          "text": [
            "Help on function calculate_bonus in module job_analyzer:\n",
            "\n",
            "calculate_bonus(total_salary, base_salary)\n",
            "    Calculate the bonus rate based on the total salary and base salary.\n",
            "    \n",
            "    Args:\n",
            "      total_salary (float): The total salary.\n",
            "      base_salary (float): The base salary.\n",
            "    \n",
            "    Returns:\n",
            "      float: The bonus rate.\n",
            "\n"
          ]
        }
      ]
    },
    {
      "cell_type": "code",
      "source": [
        "#neat functionality of python we can provide dock string inside of the function it self\n",
        "# so we can define what the fuction does\n",
        "# all a doc string is a muti-line comment"
      ],
      "metadata": {
        "id": "7b5PBjZp8n9_"
      },
      "execution_count": null,
      "outputs": []
    }
  ]
}