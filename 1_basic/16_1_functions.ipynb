{
  "nbformat": 4,
  "nbformat_minor": 0,
  "metadata": {
    "colab": {
      "provenance": []
    },
    "kernelspec": {
      "name": "python3",
      "display_name": "Python 3"
    },
    "language_info": {
      "name": "python"
    }
  },
  "cells": [
    {
      "cell_type": "code",
      "execution_count": null,
      "metadata": {
        "colab": {
          "base_uri": "https://localhost:8080/"
        },
        "id": "qAzHEwakfaS8",
        "outputId": "ad46afbf-61ac-4d3c-bccd-475be51d2d29"
      },
      "outputs": [
        {
          "output_type": "execute_result",
          "data": {
            "text/plain": [
              "3"
            ]
          },
          "metadata": {},
          "execution_count": 5
        }
      ],
      "source": [
        "skill_list = ['python','sql','excel']\n",
        "\n",
        "count = 0\n",
        "for skill in skill_list:\n",
        "  count += 1\n",
        "\n",
        "count"
      ]
    },
    {
      "cell_type": "code",
      "source": [
        "#with functions\n",
        "len(skill_list)"
      ],
      "metadata": {
        "colab": {
          "base_uri": "https://localhost:8080/"
        },
        "id": "2UkZnXc8hSkg",
        "outputId": "1dc8e245-1802-4f17-feb9-46e18880b1fc"
      },
      "execution_count": null,
      "outputs": [
        {
          "output_type": "execute_result",
          "data": {
            "text/plain": [
              "3"
            ]
          },
          "metadata": {},
          "execution_count": 6
        }
      ]
    },
    {
      "cell_type": "markdown",
      "source": [
        "#build in function"
      ],
      "metadata": {
        "id": "IyIbVmLVisVz"
      }
    },
    {
      "cell_type": "code",
      "source": [
        "print(skill_list)"
      ],
      "metadata": {
        "colab": {
          "base_uri": "https://localhost:8080/"
        },
        "id": "rWpYz74UhleZ",
        "outputId": "159a95a5-61a6-4d6d-9ae4-14d10997eca6"
      },
      "execution_count": null,
      "outputs": [
        {
          "output_type": "stream",
          "name": "stdout",
          "text": [
            "['python', 'sql', 'excel']\n"
          ]
        }
      ]
    },
    {
      "cell_type": "code",
      "source": [
        "type(skill_list)"
      ],
      "metadata": {
        "colab": {
          "base_uri": "https://localhost:8080/"
        },
        "id": "teT76mJYi5HV",
        "outputId": "a66512c0-f514-4e77-e2b2-9cefafe49e35"
      },
      "execution_count": null,
      "outputs": [
        {
          "output_type": "execute_result",
          "data": {
            "text/plain": [
              "list"
            ]
          },
          "metadata": {},
          "execution_count": 8
        }
      ]
    },
    {
      "cell_type": "code",
      "source": [
        "len(skill_list)"
      ],
      "metadata": {
        "colab": {
          "base_uri": "https://localhost:8080/"
        },
        "id": "kUZVe11Fi-p_",
        "outputId": "593a5f1f-e6fd-4183-ffb8-9cb4c1389730"
      },
      "execution_count": null,
      "outputs": [
        {
          "output_type": "execute_result",
          "data": {
            "text/plain": [
              "3"
            ]
          },
          "metadata": {},
          "execution_count": 9
        }
      ]
    },
    {
      "cell_type": "code",
      "source": [
        "range(0,5)"
      ],
      "metadata": {
        "colab": {
          "base_uri": "https://localhost:8080/"
        },
        "id": "cL_p0TNFjBF9",
        "outputId": "59731c29-3bb3-494c-9380-233aff958c70"
      },
      "execution_count": null,
      "outputs": [
        {
          "output_type": "execute_result",
          "data": {
            "text/plain": [
              "range(0, 5)"
            ]
          },
          "metadata": {},
          "execution_count": 10
        }
      ]
    },
    {
      "cell_type": "code",
      "source": [
        "#go to python documentation to get to know what are built-in function"
      ],
      "metadata": {
        "id": "sEkgFHvtjDr_"
      },
      "execution_count": null,
      "outputs": []
    },
    {
      "cell_type": "code",
      "source": [
        "data_salaries = [95000, 100000, 85000, 97000, 140000]"
      ],
      "metadata": {
        "id": "7YnIWrRcjrTO"
      },
      "execution_count": null,
      "outputs": []
    },
    {
      "cell_type": "code",
      "source": [
        "min(data_salaries)"
      ],
      "metadata": {
        "colab": {
          "base_uri": "https://localhost:8080/"
        },
        "id": "l2mmJYfekFUP",
        "outputId": "c799fd1f-0946-4129-c2e5-74a13eeb8299"
      },
      "execution_count": null,
      "outputs": [
        {
          "output_type": "execute_result",
          "data": {
            "text/plain": [
              "85000"
            ]
          },
          "metadata": {},
          "execution_count": 13
        }
      ]
    },
    {
      "cell_type": "code",
      "source": [
        "max(data_salaries)"
      ],
      "metadata": {
        "colab": {
          "base_uri": "https://localhost:8080/"
        },
        "id": "NiHsLRzzkHry",
        "outputId": "40c92bfa-4c7d-458e-829e-402a303d73d6"
      },
      "execution_count": null,
      "outputs": [
        {
          "output_type": "execute_result",
          "data": {
            "text/plain": [
              "140000"
            ]
          },
          "metadata": {},
          "execution_count": 14
        }
      ]
    },
    {
      "cell_type": "code",
      "source": [
        "sum(data_salaries)"
      ],
      "metadata": {
        "colab": {
          "base_uri": "https://localhost:8080/"
        },
        "id": "ZhlczufUkJOO",
        "outputId": "c2c25027-c9a9-42a1-c4f6-133c483f3550"
      },
      "execution_count": null,
      "outputs": [
        {
          "output_type": "execute_result",
          "data": {
            "text/plain": [
              "517000"
            ]
          },
          "metadata": {},
          "execution_count": 15
        }
      ]
    },
    {
      "cell_type": "code",
      "source": [
        "sorted(data_salaries)"
      ],
      "metadata": {
        "colab": {
          "base_uri": "https://localhost:8080/"
        },
        "id": "k2gcHdI0kK19",
        "outputId": "73dedfbd-0b7b-4834-dd01-53f7f617c0fc"
      },
      "execution_count": null,
      "outputs": [
        {
          "output_type": "execute_result",
          "data": {
            "text/plain": [
              "[85000, 95000, 97000, 100000, 140000]"
            ]
          },
          "metadata": {},
          "execution_count": 16
        }
      ]
    },
    {
      "cell_type": "markdown",
      "source": [
        "#user-defined function"
      ],
      "metadata": {
        "id": "sGaOshRjkUWS"
      }
    },
    {
      "cell_type": "code",
      "source": [
        "base_salary = 100000\n",
        "bonus_rate = 0.1\n",
        "\n",
        "total_salary = base_salary * (1+ bonus_rate )\n",
        "total_salary"
      ],
      "metadata": {
        "colab": {
          "base_uri": "https://localhost:8080/"
        },
        "id": "vZWUi5WJkPez",
        "outputId": "154daa9d-dcfb-42d0-e6bb-ee9c94f4ce49"
      },
      "execution_count": null,
      "outputs": [
        {
          "output_type": "execute_result",
          "data": {
            "text/plain": [
              "110000.00000000001"
            ]
          },
          "metadata": {},
          "execution_count": 19
        }
      ]
    },
    {
      "cell_type": "code",
      "source": [
        "# if we have bunch of different salaries and bunch of diff bonus rates\n",
        "# to start a function with key word \"def(define)\"\""
      ],
      "metadata": {
        "id": "Z3C8Ddepk6Ha"
      },
      "execution_count": null,
      "outputs": []
    },
    {
      "cell_type": "code",
      "source": [
        "def total_salary():\n",
        "  pass      #we are using pass for make sure that we can add values later (execute properly), we can use pass in loop as well"
      ],
      "metadata": {
        "id": "w8Pt-fxgmBRn"
      },
      "execution_count": null,
      "outputs": []
    },
    {
      "cell_type": "code",
      "source": [
        "def calculate_salary():\n",
        "  base_salary = 100000\n",
        "  bonus_rate = 0.1\n",
        "  total_salary = base_salary * (1+ bonus_rate )\n",
        "\n",
        "  return total_salary"
      ],
      "metadata": {
        "id": "v6L8czddmoDx"
      },
      "execution_count": null,
      "outputs": []
    },
    {
      "cell_type": "code",
      "source": [
        "calculate_salary()"
      ],
      "metadata": {
        "colab": {
          "base_uri": "https://localhost:8080/"
        },
        "id": "k36aujWTnMXu",
        "outputId": "e22920d8-bb46-4cdf-fe14-13163d988b4b"
      },
      "execution_count": null,
      "outputs": [
        {
          "output_type": "execute_result",
          "data": {
            "text/plain": [
              "110000.00000000001"
            ]
          },
          "metadata": {},
          "execution_count": 26
        }
      ]
    },
    {
      "cell_type": "code",
      "source": [
        "# let's make this function more usable to providing arguments to then provide us values"
      ],
      "metadata": {
        "id": "ooOaPFDnnxyY"
      },
      "execution_count": null,
      "outputs": []
    },
    {
      "cell_type": "code",
      "source": [
        "def calculate_salary(base_salary, bonus_rate):\n",
        "\n",
        "  total_salary = base_salary * (1+ bonus_rate )\n",
        "\n",
        "  return total_salary"
      ],
      "metadata": {
        "id": "B0Qw231HnXWO"
      },
      "execution_count": null,
      "outputs": []
    },
    {
      "cell_type": "code",
      "source": [
        "calculate_salary(150000, 0.25)"
      ],
      "metadata": {
        "colab": {
          "base_uri": "https://localhost:8080/"
        },
        "id": "CTPh_bvYoZUB",
        "outputId": "7cf3b94b-e2ab-42f0-8dd5-a7d45eeaaff3"
      },
      "execution_count": null,
      "outputs": [
        {
          "output_type": "execute_result",
          "data": {
            "text/plain": [
              "187500.0"
            ]
          },
          "metadata": {},
          "execution_count": 34
        }
      ]
    },
    {
      "cell_type": "code",
      "source": [
        "salary_1 = 300000\n",
        "rate_1 = 0.2\n",
        "\n",
        "calculate_salary(salary_1, rate_1)"
      ],
      "metadata": {
        "colab": {
          "base_uri": "https://localhost:8080/"
        },
        "id": "wTg42oLWobWd",
        "outputId": "ae3d1e5d-6a74-4e96-b0da-b06b907e0886"
      },
      "execution_count": null,
      "outputs": [
        {
          "output_type": "execute_result",
          "data": {
            "text/plain": [
              "360000.0"
            ]
          },
          "metadata": {},
          "execution_count": 35
        }
      ]
    },
    {
      "cell_type": "code",
      "source": [
        "# if we routinely have same bonus rate and don't need to put that bonus rate every single time\n",
        "#so we can add an optional argument"
      ],
      "metadata": {
        "id": "1T6omeiApJC_"
      },
      "execution_count": null,
      "outputs": []
    },
    {
      "cell_type": "code",
      "source": [
        "def calculate_salary(base_salary, bonus_rate = .1):\n",
        "\n",
        "  total_salary = base_salary * (1+ bonus_rate )\n",
        "\n",
        "  return total_salary"
      ],
      "metadata": {
        "id": "Ftpm6GpyqnT2"
      },
      "execution_count": null,
      "outputs": []
    },
    {
      "cell_type": "code",
      "source": [
        "calculate_salary(100000)     # you can want to add different bonus rate here"
      ],
      "metadata": {
        "colab": {
          "base_uri": "https://localhost:8080/"
        },
        "id": "W8lyGkKzq59G",
        "outputId": "f6cc3cd7-70d7-4882-c9cb-cb9f346d981a"
      },
      "execution_count": null,
      "outputs": [
        {
          "output_type": "execute_result",
          "data": {
            "text/plain": [
              "110000.00000000001"
            ]
          },
          "metadata": {},
          "execution_count": 39
        }
      ]
    },
    {
      "cell_type": "code",
      "source": [
        "def my_experience():\n",
        "  return 5\n",
        "\n",
        "my_experience()"
      ],
      "metadata": {
        "colab": {
          "base_uri": "https://localhost:8080/"
        },
        "id": "3kQ5bSNYrvSx",
        "outputId": "43f5e12d-8493-4399-8707-06e2c2ccf053"
      },
      "execution_count": null,
      "outputs": [
        {
          "output_type": "execute_result",
          "data": {
            "text/plain": [
              "5"
            ]
          },
          "metadata": {},
          "execution_count": 48
        }
      ]
    },
    {
      "cell_type": "code",
      "source": [
        "def data_analyst(skill1, skill2, salary1, salary2):\n",
        "  print(f' {skill1}: ${salary1}')\n",
        "  print(f' {skill2}: ${salary2}')"
      ],
      "metadata": {
        "id": "e6j7S-HUslQi"
      },
      "execution_count": null,
      "outputs": []
    },
    {
      "cell_type": "code",
      "source": [
        "data_analyst('python', 'sql', 100000, 200000)"
      ],
      "metadata": {
        "id": "l50jrtoSvPND",
        "colab": {
          "base_uri": "https://localhost:8080/"
        },
        "outputId": "f7f41488-75ac-4757-e20e-7f8ded504702"
      },
      "execution_count": null,
      "outputs": [
        {
          "output_type": "stream",
          "name": "stdout",
          "text": [
            " python: $100000\n",
            " sql: $200000\n"
          ]
        }
      ]
    },
    {
      "cell_type": "code",
      "source": [
        "def analyze_skills(skill1, salary1, skill2, salary2):\n",
        "    \"\"\"\n",
        "    Print job titles with their corresponding average salaries using explicitly named parameters.\n",
        "\n",
        "    :param skill1: The first job title or skill.\n",
        "    :param salary1: The average salary for the first job title or skill.\n",
        "    :param skill2: The second job title or skill.\n",
        "    :param salary2: The average salary for the second job title or skill.\n",
        "    \"\"\"\n",
        "    print('Job Title and Average Salary Analysis:')\n",
        "    print(f'- {skill1}: ${salary1:,}')\n",
        "    print(f'- {skill2}: ${salary2:,}')\n",
        "\n",
        "analyze_skills(skill1='Data Analyst', salary1=60000, skill2='Business Analyst', salary2=65000)"
      ],
      "metadata": {
        "id": "JbmJdCe8vXBO",
        "colab": {
          "base_uri": "https://localhost:8080/"
        },
        "outputId": "47523af3-35a8-46b0-c8f2-26fdca111788"
      },
      "execution_count": null,
      "outputs": [
        {
          "output_type": "stream",
          "name": "stdout",
          "text": [
            "Job Title and Average Salary Analysis:\n",
            "- Data Analyst: $60,000\n",
            "- Business Analyst: $65,000\n"
          ]
        }
      ]
    },
    {
      "cell_type": "code",
      "source": [
        "def number():\n",
        "  for number in range(1,11):\n",
        "    print(number)"
      ],
      "metadata": {
        "id": "PaPJ0xtcNX4-"
      },
      "execution_count": null,
      "outputs": []
    },
    {
      "cell_type": "code",
      "source": [
        "number()"
      ],
      "metadata": {
        "colab": {
          "base_uri": "https://localhost:8080/"
        },
        "id": "JRFBw2VCOZrN",
        "outputId": "c3c40b9b-3d28-4230-a20e-26850fa53bba"
      },
      "execution_count": null,
      "outputs": [
        {
          "output_type": "stream",
          "name": "stdout",
          "text": [
            "1\n",
            "2\n",
            "3\n",
            "4\n",
            "5\n",
            "6\n",
            "7\n",
            "8\n",
            "9\n",
            "10\n"
          ]
        }
      ]
    },
    {
      "cell_type": "code",
      "source": [
        "[num for num in range(1,11)]"
      ],
      "metadata": {
        "colab": {
          "base_uri": "https://localhost:8080/"
        },
        "id": "BKCDcxLpOcue",
        "outputId": "c018c40b-39b0-4912-adf1-d798dfa28f52"
      },
      "execution_count": null,
      "outputs": [
        {
          "output_type": "execute_result",
          "data": {
            "text/plain": [
              "[1, 2, 3, 4, 5, 6, 7, 8, 9, 10]"
            ]
          },
          "metadata": {},
          "execution_count": 10
        }
      ]
    },
    {
      "cell_type": "code",
      "source": [],
      "metadata": {
        "id": "jrqvBeS6OyPS"
      },
      "execution_count": null,
      "outputs": []
    }
  ]
}