{
  "nbformat": 4,
  "nbformat_minor": 0,
  "metadata": {
    "colab": {
      "provenance": []
    },
    "kernelspec": {
      "name": "python3",
      "display_name": "Python 3"
    },
    "language_info": {
      "name": "python"
    }
  },
  "cells": [
    {
      "cell_type": "code",
      "execution_count": null,
      "metadata": {
        "colab": {
          "base_uri": "https://localhost:8080/"
        },
        "id": "erYia3lEXMVI",
        "outputId": "9df43e48-e50d-4756-9276-a3dce4891c4f"
      },
      "outputs": [
        {
          "output_type": "stream",
          "name": "stdout",
          "text": [
            "milk\n",
            "chocolate\n",
            "drink\n",
            "3\n",
            "milk\n",
            "yes\n",
            "['milk', 'chocolate', ['butter']]\n",
            "['milk', 'chocolate', ['butter'], 'vegetable']\n"
          ]
        }
      ],
      "source": [
        "list = [\"milk\",\"chocolate\",\"drink\",]\n",
        "print(list[0])\n",
        "print(list[1])\n",
        "print(list[2])\n",
        "print(len(list))\n",
        "print(list[-3])\n",
        "if \"milk\" in list:\n",
        "   print(\"yes\")\n",
        "list[2] = [\"butter\"]\n",
        "print(list)\n",
        "list.append(\"vegetable\")\n",
        "print(list)\n"
      ]
    },
    {
      "cell_type": "code",
      "source": [],
      "metadata": {
        "id": "bgmCwrL1Zoz4"
      },
      "execution_count": null,
      "outputs": []
    },
    {
      "cell_type": "code",
      "source": [
        "shopping_list = [\"eggs\",\"vegetables\",\"bread\",\"milk\",\"butter\"]\n",
        "\n",
        "for item in shopping_list:\n",
        "  print(item)"
      ],
      "metadata": {
        "colab": {
          "base_uri": "https://localhost:8080/"
        },
        "id": "0cDdbu3-g7AC",
        "outputId": "b71e5c43-5f1c-4a4b-bf04-719221d6f5ed"
      },
      "execution_count": null,
      "outputs": [
        {
          "output_type": "stream",
          "name": "stdout",
          "text": [
            "eggs\n",
            "vegetables\n",
            "bread\n",
            "milk\n",
            "butter\n"
          ]
        }
      ]
    },
    {
      "cell_type": "code",
      "source": [
        "number_list = [1,2,3,4,5,6,7,8,9,10]\n",
        "\n",
        "for item in number_list:\n",
        "  print(item, end = \" \")\n",
        "\n"
      ],
      "metadata": {
        "colab": {
          "base_uri": "https://localhost:8080/"
        },
        "id": "HH6eF4wDlTTE",
        "outputId": "0bfe7536-5a0c-453e-b498-ee5ca1e784c0"
      },
      "execution_count": null,
      "outputs": [
        {
          "output_type": "stream",
          "name": "stdout",
          "text": [
            "1 2 3 4 5 6 7 8 9 10 "
          ]
        }
      ]
    },
    {
      "cell_type": "code",
      "source": [
        "word = \"python programming\"\n",
        "\n",
        "for letter in word:\n",
        "  print(letter)\n"
      ],
      "metadata": {
        "colab": {
          "base_uri": "https://localhost:8080/"
        },
        "id": "lhU--3czq1A9",
        "outputId": "7c30dd9b-2ef8-4ede-d894-278f317ccd90"
      },
      "execution_count": null,
      "outputs": [
        {
          "output_type": "stream",
          "name": "stdout",
          "text": [
            "p\n",
            "y\n",
            "t\n",
            "h\n",
            "o\n",
            "n\n",
            " \n",
            "p\n",
            "r\n",
            "o\n",
            "g\n",
            "r\n",
            "a\n",
            "m\n",
            "m\n",
            "i\n",
            "n\n",
            "g\n"
          ]
        }
      ]
    },
    {
      "cell_type": "code",
      "source": [
        "list = [1,2,3,4,5,6,7,8,9,10]\n",
        "\n",
        "for num in list:\n",
        "  print(\"{} x 5 = {}\".format(num,num * 5))"
      ],
      "metadata": {
        "colab": {
          "base_uri": "https://localhost:8080/"
        },
        "id": "gnXMMXNorw_D",
        "outputId": "f36b0ea3-9dc3-4121-d55a-30ec60d2f1d3"
      },
      "execution_count": null,
      "outputs": [
        {
          "output_type": "stream",
          "name": "stdout",
          "text": [
            "1 x 5 = 5\n",
            "2 x 5 = 10\n",
            "3 x 5 = 15\n",
            "4 x 5 = 20\n",
            "5 x 5 = 25\n",
            "6 x 5 = 30\n",
            "7 x 5 = 35\n",
            "8 x 5 = 40\n",
            "9 x 5 = 45\n",
            "10 x 5 = 50\n"
          ]
        }
      ]
    },
    {
      "cell_type": "code",
      "source": [
        "list = [1,2,3,4,5,6,7,8,9,10]\n",
        "\n",
        "for num in list:\n",
        "  print(num*5)"
      ],
      "metadata": {
        "colab": {
          "base_uri": "https://localhost:8080/"
        },
        "id": "BtyCkRX9tpay",
        "outputId": "75def411-3021-4856-d45b-23d52a9a439e"
      },
      "execution_count": null,
      "outputs": [
        {
          "output_type": "stream",
          "name": "stdout",
          "text": [
            "5\n",
            "10\n",
            "15\n",
            "20\n",
            "25\n",
            "30\n",
            "35\n",
            "40\n",
            "45\n",
            "50\n"
          ]
        }
      ]
    },
    {
      "cell_type": "code",
      "source": [
        "list = [1,2,3,4,5,6,7,8,9,10]\n",
        "y =int(input(\"num\"))\n",
        "for num in list:\n",
        "  print(\"{} x {} = {}\".format(num,y,num*y))\n"
      ],
      "metadata": {
        "colab": {
          "base_uri": "https://localhost:8080/"
        },
        "id": "dIBKTJKYt5AZ",
        "outputId": "44a3d270-7408-41e1-a7f2-ec10c8b6eb21"
      },
      "execution_count": null,
      "outputs": [
        {
          "output_type": "stream",
          "name": "stdout",
          "text": [
            "num9\n",
            "1 x 9 = 9\n",
            "2 x 9 = 18\n",
            "3 x 9 = 27\n",
            "4 x 9 = 36\n",
            "5 x 9 = 45\n",
            "6 x 9 = 54\n",
            "7 x 9 = 63\n",
            "8 x 9 = 72\n",
            "9 x 9 = 81\n",
            "10 x 9 = 90\n"
          ]
        }
      ]
    },
    {
      "cell_type": "code",
      "source": [
        "for num in range(11):\n",
        " print(num)"
      ],
      "metadata": {
        "colab": {
          "base_uri": "https://localhost:8080/"
        },
        "id": "dcAEt-Va2xN2",
        "outputId": "b3fa2df2-4256-4847-afa0-1840baa46c98"
      },
      "execution_count": null,
      "outputs": [
        {
          "output_type": "stream",
          "name": "stdout",
          "text": [
            "0\n",
            "1\n",
            "2\n",
            "3\n",
            "4\n",
            "5\n",
            "6\n",
            "7\n",
            "8\n",
            "9\n",
            "10\n"
          ]
        }
      ]
    },
    {
      "cell_type": "code",
      "source": [
        "for num in range(1,11):\n",
        "  print(num)"
      ],
      "metadata": {
        "colab": {
          "base_uri": "https://localhost:8080/"
        },
        "id": "ZQzNsghY8Mdh",
        "outputId": "8608e43e-4868-42f0-9659-df58ea4e8282"
      },
      "execution_count": null,
      "outputs": [
        {
          "output_type": "stream",
          "name": "stdout",
          "text": [
            "1\n",
            "2\n",
            "3\n",
            "4\n",
            "5\n",
            "6\n",
            "7\n",
            "8\n",
            "9\n",
            "10\n"
          ]
        }
      ]
    },
    {
      "cell_type": "code",
      "source": [
        "for num in range(1,11,2):\n",
        "  print(num)\n"
      ],
      "metadata": {
        "colab": {
          "base_uri": "https://localhost:8080/"
        },
        "id": "azWcrajI88L2",
        "outputId": "cf30bf4a-4bfc-49ef-cd11-9c6219058bc7"
      },
      "execution_count": null,
      "outputs": [
        {
          "output_type": "stream",
          "name": "stdout",
          "text": [
            "1\n",
            "3\n",
            "5\n",
            "7\n",
            "9\n"
          ]
        }
      ]
    },
    {
      "cell_type": "code",
      "source": [
        "for num in range(0,51,5):\n",
        "\n",
        "\n",
        "  print(num)\n",
        "\n"
      ],
      "metadata": {
        "colab": {
          "base_uri": "https://localhost:8080/"
        },
        "id": "NlLO9CL39UF3",
        "outputId": "613b0749-c42d-439e-e2f3-b2451a49997f"
      },
      "execution_count": null,
      "outputs": [
        {
          "output_type": "stream",
          "name": "stdout",
          "text": [
            "0\n",
            "5\n",
            "10\n",
            "15\n",
            "20\n",
            "25\n",
            "30\n",
            "35\n",
            "40\n",
            "45\n",
            "50\n"
          ]
        }
      ]
    },
    {
      "cell_type": "code",
      "source": [
        "for num in range(100,0,-10):\n",
        "  print(num)"
      ],
      "metadata": {
        "colab": {
          "base_uri": "https://localhost:8080/"
        },
        "id": "YkFMA_ZM--Ta",
        "outputId": "23e21e74-c965-414a-ffc6-1bd7505455b0"
      },
      "execution_count": null,
      "outputs": [
        {
          "output_type": "stream",
          "name": "stdout",
          "text": [
            "100\n",
            "90\n",
            "80\n",
            "70\n",
            "60\n",
            "50\n",
            "40\n",
            "30\n",
            "20\n",
            "10\n"
          ]
        }
      ]
    },
    {
      "cell_type": "code",
      "source": [
        "for num in range(0,61,3):\n",
        "  print(num)"
      ],
      "metadata": {
        "colab": {
          "base_uri": "https://localhost:8080/"
        },
        "id": "uYLSS8BQAK3v",
        "outputId": "63570063-6091-4775-9455-1d0181f75376"
      },
      "execution_count": null,
      "outputs": [
        {
          "output_type": "stream",
          "name": "stdout",
          "text": [
            "0\n",
            "3\n",
            "6\n",
            "9\n",
            "12\n",
            "15\n",
            "18\n",
            "21\n",
            "24\n",
            "27\n",
            "30\n",
            "33\n",
            "36\n",
            "39\n",
            "42\n",
            "45\n",
            "48\n",
            "51\n",
            "54\n",
            "57\n",
            "60\n"
          ]
        }
      ]
    },
    {
      "cell_type": "code",
      "source": [
        "for num in range(24,-1,-4):\n",
        "  print(num)"
      ],
      "metadata": {
        "colab": {
          "base_uri": "https://localhost:8080/"
        },
        "id": "JUbWVlliApbv",
        "outputId": "e7dc127b-0bfe-4863-ab0a-4d25cad25c5f"
      },
      "execution_count": null,
      "outputs": [
        {
          "output_type": "stream",
          "name": "stdout",
          "text": [
            "24\n",
            "20\n",
            "16\n",
            "12\n",
            "8\n",
            "4\n",
            "0\n"
          ]
        }
      ]
    },
    {
      "cell_type": "code",
      "source": [
        "for num in range(99,10,-11):\n",
        "  print(num)"
      ],
      "metadata": {
        "colab": {
          "base_uri": "https://localhost:8080/"
        },
        "id": "H8Hwt4w3Aprn",
        "outputId": "f92658bf-656d-4d36-e4f9-8e0913e97b25"
      },
      "execution_count": null,
      "outputs": [
        {
          "output_type": "stream",
          "name": "stdout",
          "text": [
            "99\n",
            "88\n",
            "77\n",
            "66\n",
            "55\n",
            "44\n",
            "33\n",
            "22\n",
            "11\n"
          ]
        }
      ]
    },
    {
      "cell_type": "code",
      "source": [
        "for num in range(89,-2,-9):\n",
        "  print(num)"
      ],
      "metadata": {
        "colab": {
          "base_uri": "https://localhost:8080/"
        },
        "id": "3fROaQOvAqEG",
        "outputId": "61d586d1-2168-4ce2-d7de-5e07c3265565"
      },
      "execution_count": null,
      "outputs": [
        {
          "output_type": "stream",
          "name": "stdout",
          "text": [
            "89\n",
            "80\n",
            "71\n",
            "62\n",
            "53\n",
            "44\n",
            "35\n",
            "26\n",
            "17\n",
            "8\n",
            "-1\n"
          ]
        }
      ]
    },
    {
      "cell_type": "code",
      "source": [
        "from re import sub\n",
        "sub1 = int(input(\"mark1:\"))\n",
        "sub2 = int(input(\"mark2:\"))\n",
        "sub3 = int(input(\"mark3:\"))\n",
        "\n",
        "total = sub1 + sub2 + sub3\n",
        "print(total)\n",
        "\n",
        "average = total/3\n",
        "print(average)\n",
        "\n",
        "\n"
      ],
      "metadata": {
        "colab": {
          "base_uri": "https://localhost:8080/"
        },
        "id": "9GV_BoC6D351",
        "outputId": "6b99765d-ac5b-491b-c9fc-7bca015b4bb5"
      },
      "execution_count": null,
      "outputs": [
        {
          "output_type": "stream",
          "name": "stdout",
          "text": [
            "mark1:7\n",
            "mark2:7\n",
            "mark3:7\n",
            "21\n",
            "7.0\n"
          ]
        }
      ]
    },
    {
      "cell_type": "code",
      "source": [
        "total = 0\n",
        "for count in range(5):\n",
        "  mark = int(input(\"enter mark for sub {}:\".format(count+1)))\n",
        "  total += mark\n",
        "\n",
        "print(\"total marks = \",total)\n",
        "\n",
        "average = total /5\n",
        "\n",
        "print(\"average=\",average)"
      ],
      "metadata": {
        "colab": {
          "base_uri": "https://localhost:8080/"
        },
        "id": "ZZjV3hvbHB5b",
        "outputId": "8417f727-5bf4-4bc8-ba3c-68244c943572"
      },
      "execution_count": null,
      "outputs": [
        {
          "output_type": "stream",
          "name": "stdout",
          "text": [
            "enter mark for sub 1:5\n",
            "enter mark for sub 2:5\n",
            "enter mark for sub 3:5\n",
            "enter mark for sub 4:5\n",
            "enter mark for sub 5:5\n",
            "total marks = \n",
            "average= 5.0\n"
          ]
        }
      ]
    },
    {
      "cell_type": "code",
      "source": [
        "student = [\"john\",\"paul\",\"vimal\",\"daisy\",\"lilly\"]\n",
        "key = \"lillu\"\n",
        "for stu in student:\n",
        "  if stu == key:\n",
        "    print(\"we have found the student\")\n",
        "    break\n",
        "else:\n",
        "  print(\"the student is not in the list\")"
      ],
      "metadata": {
        "colab": {
          "base_uri": "https://localhost:8080/"
        },
        "id": "z3YiJcxKMrtg",
        "outputId": "9ee9a11f-885d-4b1a-8198-e505f9e816a7"
      },
      "execution_count": null,
      "outputs": [
        {
          "output_type": "stream",
          "name": "stdout",
          "text": [
            "the student is not in the list\n"
          ]
        }
      ]
    },
    {
      "cell_type": "code",
      "source": [
        "for i in range(5,5):\n",
        " print(\"*\" , end = \" \" )\n",
        " print(\"*\")\n",
        "\n",
        "\n"
      ],
      "metadata": {
        "id": "vP9e-gSuPce0"
      },
      "execution_count": null,
      "outputs": []
    },
    {
      "cell_type": "code",
      "source": [
        "for i in range(5):\n",
        "  for J in range(5) :\n",
        "   print(\"*\", end = \"\")\n",
        "  print()"
      ],
      "metadata": {
        "colab": {
          "base_uri": "https://localhost:8080/"
        },
        "id": "9cFfV2OOZ_54",
        "outputId": "ef5cfbd5-6ebb-4301-e31c-c167eee9cbe3"
      },
      "execution_count": null,
      "outputs": [
        {
          "output_type": "stream",
          "name": "stdout",
          "text": [
            "*****\n",
            "*****\n",
            "*****\n",
            "*****\n",
            "*****\n"
          ]
        }
      ]
    },
    {
      "cell_type": "code",
      "source": [
        "for i in range(1,5):\n",
        "  for j in range(i):\n",
        "    print(\"*\" , end = \" \")\n",
        "  print()"
      ],
      "metadata": {
        "colab": {
          "base_uri": "https://localhost:8080/"
        },
        "id": "8JaHYwljbZwG",
        "outputId": "fa6ba759-bb70-43a5-eba6-b62397cce1ba"
      },
      "execution_count": null,
      "outputs": [
        {
          "output_type": "stream",
          "name": "stdout",
          "text": [
            "* \n",
            "* * \n",
            "* * * \n",
            "* * * * \n"
          ]
        }
      ]
    },
    {
      "cell_type": "code",
      "source": [
        "for i in range(1,5):\n",
        "  for j in range(i):\n",
        "    print(\"*\" , end =\" \")\n",
        "  print()"
      ],
      "metadata": {
        "colab": {
          "base_uri": "https://localhost:8080/"
        },
        "id": "xG8T-E-UeBoV",
        "outputId": "664d0f45-7ee6-433a-9d07-979f5313a80e"
      },
      "execution_count": null,
      "outputs": [
        {
          "output_type": "stream",
          "name": "stdout",
          "text": [
            "\n",
            "\n",
            "\n",
            "\n"
          ]
        }
      ]
    },
    {
      "cell_type": "code",
      "source": [
        "for num in range(1,11):\n",
        "  print(num)"
      ],
      "metadata": {
        "colab": {
          "base_uri": "https://localhost:8080/"
        },
        "id": "1OWe0XOjeo4r",
        "outputId": "923f3fc6-cbad-4548-ecc1-c299f6067651"
      },
      "execution_count": null,
      "outputs": [
        {
          "output_type": "stream",
          "name": "stdout",
          "text": [
            "1\n",
            "2\n",
            "3\n",
            "4\n",
            "5\n",
            "6\n",
            "7\n",
            "8\n",
            "9\n",
            "10\n"
          ]
        }
      ]
    },
    {
      "cell_type": "code",
      "source": [
        "i = 1\n",
        "while i < 11:\n",
        "  print(i)\n",
        "  i = i+1\n"
      ],
      "metadata": {
        "colab": {
          "base_uri": "https://localhost:8080/"
        },
        "id": "UPsXb5j8iDhx",
        "outputId": "7b172922-b0db-4db0-9ed7-9f04ba7acb08"
      },
      "execution_count": null,
      "outputs": [
        {
          "output_type": "stream",
          "name": "stdout",
          "text": [
            "1\n",
            "2\n",
            "3\n",
            "4\n",
            "5\n",
            "6\n",
            "7\n",
            "8\n",
            "9\n",
            "10\n"
          ]
        }
      ]
    },
    {
      "cell_type": "code",
      "source": [
        "sum = 0\n",
        "num = int(input())\n",
        "\n",
        "while num > 10:\n",
        "      sum += 1\n",
        "      num = int(input())\n",
        "\n",
        "\n",
        "print(\"sum is :\", sum)"
      ],
      "metadata": {
        "colab": {
          "base_uri": "https://localhost:8080/"
        },
        "id": "SJrW78G-kW6G",
        "outputId": "434f7397-88e6-4a9f-d164-5785ed34adc1"
      },
      "execution_count": null,
      "outputs": [
        {
          "output_type": "stream",
          "name": "stdout",
          "text": [
            "22\n",
            "23\n",
            "34\n",
            "45\n",
            "0\n",
            "sum is : 4\n"
          ]
        }
      ]
    },
    {
      "cell_type": "markdown",
      "source": [
        "write a program to find the average of  a number\n"
      ],
      "metadata": {
        "id": "8NXROzHupY1P"
      }
    },
    {
      "cell_type": "code",
      "source": [
        "sum = 0\n",
        "num = int(input(\"enter a number:\"))\n",
        "\n",
        "\n",
        "while num < 0:\n",
        "      sum += num\n",
        "      choice = input(\"do you need to enter more numbers(yes/no):\")\n",
        "\n",
        "total= num + sum\n",
        "print(total)\n",
        "\n"
      ],
      "metadata": {
        "colab": {
          "base_uri": "https://localhost:8080/"
        },
        "id": "3UvYsfkSo3Ud",
        "outputId": "daeb7e79-3067-4a8e-81c2-d948a8959f87"
      },
      "execution_count": null,
      "outputs": [
        {
          "output_type": "stream",
          "name": "stdout",
          "text": [
            "enter a number:45\n",
            "45\n"
          ]
        }
      ]
    },
    {
      "cell_type": "code",
      "source": [
        "more_data = \"yes\"\n",
        "sum = 0.0\n",
        "count = 0\n",
        "while more_data == \"yes\":\n",
        "  x = int(input(\"enter a number:\"))\n",
        "  sum = sum+x\n",
        "  count = count + 1\n",
        "  more_data = input(\"do you need to enter more numbers(yes/no):\")\n",
        "\n",
        "  print(\"/nthe average of the numbers is \", sum/count\n",
        "        )\n"
      ],
      "metadata": {
        "colab": {
          "base_uri": "https://localhost:8080/"
        },
        "id": "KG-bUVJ5t6JS",
        "outputId": "b9352372-6593-43e4-a8ce-98248141633f"
      },
      "execution_count": null,
      "outputs": [
        {
          "output_type": "stream",
          "name": "stdout",
          "text": [
            "enter a number:50\n",
            "do you need to enter more numbers(yes/no):no\n",
            "/nthe average of the numbers is  50.0\n",
            "enter a number:10\n",
            "do you need to enter more numbers(yes/no):yes\n",
            "/nthe average of the numbers is  30.0\n"
          ]
        }
      ]
    },
    {
      "cell_type": "code",
      "source": [
        "sum = 0.0\n",
        "count = 0\n",
        "x = int(input(\"enter a number > enter -1 to stop:\"))\n",
        "while x != -1:\n",
        "  count = count + 1\n",
        "  sum = sum + x\n",
        "  x = int(input(\"enter a number > enter -1 to stop:\"))\n",
        "\n",
        "  print(\"/nthe average of the numbers is \", sum/count)"
      ],
      "metadata": {
        "colab": {
          "base_uri": "https://localhost:8080/"
        },
        "id": "emp1cFuswxZB",
        "outputId": "a2090287-cace-4f7b-c0f2-a4b69c2997a4"
      },
      "execution_count": null,
      "outputs": [
        {
          "output_type": "stream",
          "name": "stdout",
          "text": [
            "enter a number > enter -1 to stop:56\n",
            "enter a number > enter -1 to stop:66\n",
            "/nthe average of the numbers is  56.0\n",
            "enter a number > enter -1 to stop:55\n",
            "/nthe average of the numbers is  61.0\n",
            "enter a number > enter -1 to stop:-1\n",
            "/nthe average of the numbers is  59.0\n"
          ]
        }
      ]
    },
    {
      "cell_type": "markdown",
      "source": [
        "dictionary"
      ],
      "metadata": {
        "id": "2rhqEg6jAn9C"
      }
    },
    {
      "cell_type": "code",
      "source": [
        "student = {\"name\" : \"john\" ,\n",
        "           \"age\" : 24 ,\n",
        "           \"city\":\"kandy\"}\n",
        "print(student)\n",
        "print(type(student))"
      ],
      "metadata": {
        "colab": {
          "base_uri": "https://localhost:8080/"
        },
        "id": "xTaBuzUdAlhK",
        "outputId": "bd730840-f283-48ce-8cb3-cf1fd19d665e"
      },
      "execution_count": null,
      "outputs": [
        {
          "output_type": "stream",
          "name": "stdout",
          "text": [
            "{'name': 'john', 'age': 24, 'city': 'kandy'}\n",
            "<class 'dict'>\n"
          ]
        }
      ]
    },
    {
      "cell_type": "code",
      "source": [
        "student = {\"name\" : \"john\" ,\n",
        "           \"age\" : 24 ,\n",
        "           \"age\" :25,\n",
        "           \"city\":\"kandy\"}\n",
        "student_name =student.get(\"name\")\n",
        "student_age = student.get(\"get\")\n",
        "print(student_name)\n",
        "print(student_age)"
      ],
      "metadata": {
        "colab": {
          "base_uri": "https://localhost:8080/"
        },
        "id": "UUAun5EjDIiK",
        "outputId": "f15da4cb-404e-4cc0-a7f4-feb9372a3686"
      },
      "execution_count": null,
      "outputs": [
        {
          "output_type": "stream",
          "name": "stdout",
          "text": [
            "john\n",
            "None\n"
          ]
        }
      ]
    },
    {
      "cell_type": "code",
      "source": [
        "student = {\"name\" : \"john\" ,\n",
        "           \"age\" : 24 ,\n",
        "           \"city\":\"kandy\"}\n",
        "my_keys = student.keys()\n",
        "print(my_keys)\n",
        "\n",
        "my_values = student.values()\n",
        "print(my_values)\n",
        "\n",
        "my_items = student.items()\n",
        "print(my_items)"
      ],
      "metadata": {
        "colab": {
          "base_uri": "https://localhost:8080/"
        },
        "id": "y_wsSyEDEPaL",
        "outputId": "6b86a705-9efc-4e9a-9200-a73f36fa1cdb"
      },
      "execution_count": null,
      "outputs": [
        {
          "output_type": "stream",
          "name": "stdout",
          "text": [
            "dict_keys(['name', 'age', 'city'])\n",
            "dict_values(['john', 24, 'kandy'])\n",
            "dict_items([('name', 'john'), ('age', 24), ('city', 'kandy')])\n"
          ]
        }
      ]
    },
    {
      "cell_type": "code",
      "source": [
        "student = {\"name\" : \"john\" ,\n",
        "           \"age\" : 24 ,\n",
        "           \"city\":\"kandy\"}\n",
        "\n",
        "for key in student.keys():\n",
        "  print(key)\n",
        "\n",
        "print()\n",
        "\n",
        "for value in student.values():\n",
        "  print(value)\n",
        "\n",
        "print()\n",
        "\n",
        "for key,value in student.items():\n",
        "  print(key,value)\n"
      ],
      "metadata": {
        "colab": {
          "base_uri": "https://localhost:8080/"
        },
        "id": "kAsjVjYUGa0C",
        "outputId": "e9e93516-a2ff-4085-bd83-a9962c6929ec"
      },
      "execution_count": null,
      "outputs": [
        {
          "output_type": "stream",
          "name": "stdout",
          "text": [
            "name\n",
            "age\n",
            "city\n",
            "\n",
            "john\n",
            "24\n",
            "kandy\n",
            "\n",
            "name john\n",
            "age 24\n",
            "city kandy\n"
          ]
        }
      ]
    },
    {
      "cell_type": "code",
      "source": [
        "student = {\"name\" : \"john\" ,\n",
        "           \"age\" : 24 ,\n",
        "           \"city\":\"kandy\"}\n",
        "\n",
        "print(student)\n",
        "student[\"city\"] = \"colombo\"\n",
        "\n",
        "print(student)"
      ],
      "metadata": {
        "colab": {
          "base_uri": "https://localhost:8080/"
        },
        "id": "c6NWSMUtJADg",
        "outputId": "1f2f235b-ef1a-4166-ebe2-81ab085d8ed2"
      },
      "execution_count": null,
      "outputs": [
        {
          "output_type": "stream",
          "name": "stdout",
          "text": [
            "{'name': 'john', 'age': 24, 'city': 'kandy'}\n",
            "{'name': 'john', 'age': 24, 'city': 'colombo'}\n"
          ]
        }
      ]
    },
    {
      "cell_type": "code",
      "source": [
        "student = {\"name\" : \"john\" ,\n",
        "           \"age\" : 24 ,\n",
        "           \"city\":\"kandy\"}\n",
        "\n",
        "print(student)\n",
        "\n",
        "student.update({\"city\":\"colombo\"})\n",
        "print(student)"
      ],
      "metadata": {
        "colab": {
          "base_uri": "https://localhost:8080/"
        },
        "id": "nK8UwdpuJnvI",
        "outputId": "b8085830-97cc-46d1-a4a3-26e0bca71639"
      },
      "execution_count": null,
      "outputs": [
        {
          "output_type": "stream",
          "name": "stdout",
          "text": [
            "{'name': 'john', 'age': 24, 'city': 'kandy'}\n",
            "{'name': 'john', 'age': 24, 'city': 'colombo'}\n"
          ]
        }
      ]
    },
    {
      "cell_type": "code",
      "source": [
        "student = {\"name\" : \"john\" ,\n",
        "           \"age\" : 24 ,\n",
        "           \"city\":\"kandy\"}\n",
        "\n",
        "print(student)\n",
        "\n",
        "student.pop(\"age\")\n",
        "print(student)"
      ],
      "metadata": {
        "colab": {
          "base_uri": "https://localhost:8080/"
        },
        "id": "hXXwjSWMKG7W",
        "outputId": "0ee85aac-d80b-4d65-c56a-c23616192f33"
      },
      "execution_count": null,
      "outputs": [
        {
          "output_type": "stream",
          "name": "stdout",
          "text": [
            "{'name': 'john', 'age': 24, 'city': 'kandy'}\n",
            "{'name': 'john', 'city': 'kandy'}\n"
          ]
        }
      ]
    },
    {
      "cell_type": "code",
      "source": [
        "student = {\"name\" : \"john\" ,\n",
        "           \"age\" : 24 ,\n",
        "           \"city\":\"kandy\"}\n",
        "\n",
        "print(student)\n",
        "\n",
        "student.popitem()\n",
        "print(student)"
      ],
      "metadata": {
        "colab": {
          "base_uri": "https://localhost:8080/"
        },
        "id": "MzbO1HYyLVqH",
        "outputId": "2cd6af4c-b40f-4296-90c6-fe3bde15de45"
      },
      "execution_count": null,
      "outputs": [
        {
          "output_type": "stream",
          "name": "stdout",
          "text": [
            "{'name': 'john', 'age': 24, 'city': 'kandy'}\n",
            "{'name': 'john', 'age': 24}\n"
          ]
        }
      ]
    },
    {
      "cell_type": "code",
      "source": [
        "student = {\"name\" : \"john\" ,\n",
        "           \"age\" : 24 ,\n",
        "           \"city\":\"kandy\"}\n",
        "\n",
        "student.clear()\n",
        "\n",
        "print(student)\n"
      ],
      "metadata": {
        "colab": {
          "base_uri": "https://localhost:8080/"
        },
        "id": "v1FV-JrJLm5j",
        "outputId": "7594e7f3-1940-4fd4-cd49-90f3defad80d"
      },
      "execution_count": null,
      "outputs": [
        {
          "output_type": "stream",
          "name": "stdout",
          "text": [
            "{}\n"
          ]
        }
      ]
    },
    {
      "cell_type": "code",
      "source": [
        "student = {\"name\" : \"john\" ,\n",
        "           \"age\" : 24 ,\n",
        "           \"city\":\"kandy\"}\n",
        "\n",
        "del student\n",
        "print(student)"
      ],
      "metadata": {
        "colab": {
          "base_uri": "https://localhost:8080/",
          "height": 210
        },
        "id": "X0sUw35GL3nd",
        "outputId": "1a17f2c4-1f45-479b-9ace-fad42e06f89f"
      },
      "execution_count": null,
      "outputs": [
        {
          "output_type": "error",
          "ename": "NameError",
          "evalue": "ignored",
          "traceback": [
            "\u001b[0;31m---------------------------------------------------------------------------\u001b[0m",
            "\u001b[0;31mNameError\u001b[0m                                 Traceback (most recent call last)",
            "\u001b[0;32m<ipython-input-114-e754b486101f>\u001b[0m in \u001b[0;36m<cell line: 6>\u001b[0;34m()\u001b[0m\n\u001b[1;32m      4\u001b[0m \u001b[0;34m\u001b[0m\u001b[0m\n\u001b[1;32m      5\u001b[0m \u001b[0;32mdel\u001b[0m \u001b[0mstudent\u001b[0m\u001b[0;34m\u001b[0m\u001b[0;34m\u001b[0m\u001b[0m\n\u001b[0;32m----> 6\u001b[0;31m \u001b[0mprint\u001b[0m\u001b[0;34m(\u001b[0m\u001b[0mstudent\u001b[0m\u001b[0;34m)\u001b[0m\u001b[0;34m\u001b[0m\u001b[0;34m\u001b[0m\u001b[0m\n\u001b[0m",
            "\u001b[0;31mNameError\u001b[0m: name 'student' is not defined"
          ]
        }
      ]
    },
    {
      "cell_type": "markdown",
      "source": [
        "\n",
        "\n",
        "develop a program to read integer values from a list and append values to a dictionary that containing two keys to store numbers greater than 50 and less than 50."
      ],
      "metadata": {
        "id": "M5gRPX5YMQ98"
      }
    },
    {
      "cell_type": "code",
      "source": [
        "dict1 = {\"greater than 50\":[], \"less than 50\":[]}\n",
        "\n",
        "number_list =[]\n",
        "\n",
        "for i in range(8):\n",
        "  number_list.append(input(\"enter the number:\"))\n",
        "\n",
        "for i in number_list:\n",
        "  if int(i)  > 50:\n",
        "    dict1[\"greater than 50\"].append(i)\n",
        "  elif int(i) < 50:\n",
        "    dict1[\"less than 50\"].append(i)\n",
        "\n",
        "print(dict1)"
      ],
      "metadata": {
        "colab": {
          "base_uri": "https://localhost:8080/"
        },
        "id": "5VHSFIsCONsV",
        "outputId": "a41f3df6-8b0f-40db-f1d2-8729f5300c1d"
      },
      "execution_count": null,
      "outputs": [
        {
          "output_type": "stream",
          "name": "stdout",
          "text": [
            "enter the number:7\n",
            "enter the number:8\n",
            "enter the number:99\n",
            "enter the number:7\n",
            "enter the number:9\n",
            "enter the number:66\n",
            "enter the number:54\n",
            "enter the number:66\n",
            "{'greater than 50': ['99', '66', '54', '66'], 'less than 50': ['7', '8', '7', '9']}\n"
          ]
        }
      ]
    }
  ]
}