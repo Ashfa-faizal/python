{
  "nbformat": 4,
  "nbformat_minor": 0,
  "metadata": {
    "colab": {
      "provenance": []
    },
    "kernelspec": {
      "name": "python3",
      "display_name": "Python 3"
    },
    "language_info": {
      "name": "python"
    }
  },
  "cells": [
    {
      "cell_type": "markdown",
      "source": [
        "# lambda function / anonymous functions.\n",
        "\n",
        "* in 2 major ways that most of lambda function used\n",
        "1. inside of list comprehension\n",
        "2. built in function (filter , map"
      ],
      "metadata": {
        "id": "I-Tlgzd6zzfo"
      }
    },
    {
      "cell_type": "code",
      "execution_count": null,
      "metadata": {
        "id": "fJCJQcTBzryY"
      },
      "outputs": [],
      "source": [
        "mul_two = lambda x: x*2"
      ]
    },
    {
      "cell_type": "code",
      "source": [
        "mul_two(4)"
      ],
      "metadata": {
        "colab": {
          "base_uri": "https://localhost:8080/"
        },
        "id": "2YHz9RVtFDdH",
        "outputId": "a65f3e38-3cdb-4b17-9c88-f0dc2f420646"
      },
      "execution_count": null,
      "outputs": [
        {
          "output_type": "execute_result",
          "data": {
            "text/plain": [
              "8"
            ]
          },
          "metadata": {},
          "execution_count": 3
        }
      ]
    },
    {
      "cell_type": "code",
      "source": [
        "(lambda x: x*2)(3)"
      ],
      "metadata": {
        "colab": {
          "base_uri": "https://localhost:8080/"
        },
        "id": "0Xb4MMzTFdX8",
        "outputId": "f28692d8-84d3-44f3-bcaa-0bf62b156056"
      },
      "execution_count": null,
      "outputs": [
        {
          "output_type": "execute_result",
          "data": {
            "text/plain": [
              "6"
            ]
          },
          "metadata": {},
          "execution_count": 4
        }
      ]
    },
    {
      "cell_type": "code",
      "source": [
        "#to provide multiple argument to this function\n",
        "(lambda x , y: x*2 + y)(3,4)"
      ],
      "metadata": {
        "colab": {
          "base_uri": "https://localhost:8080/"
        },
        "id": "8svoViqGF1Az",
        "outputId": "504684f5-9c06-40e4-b275-9c660387761b"
      },
      "execution_count": null,
      "outputs": [
        {
          "output_type": "execute_result",
          "data": {
            "text/plain": [
              "10"
            ]
          },
          "metadata": {},
          "execution_count": 5
        }
      ]
    },
    {
      "cell_type": "code",
      "source": [
        "data_salaries = [95000, 100000, 85000, 97000, 140000]\n",
        "\n",
        "def calculate_salary(base_salaries, bonus_rate = .1):\n",
        "  total_salary = base_salaries * (1 + bonus_rate)      # for these 2 step we can write \"return base_salaries*(1+bonus_rate)\"\n",
        "  return total_salary\n",
        "\n",
        "total_salary_list = [calculate_salary (salary) for salary in data_salaries]   #in here we are passing salary to calculate salary\n",
        "\n",
        "total_salary_list"
      ],
      "metadata": {
        "id": "sg_e5MJzGQCn",
        "colab": {
          "base_uri": "https://localhost:8080/"
        },
        "outputId": "6fb37474-8831-40f6-89fc-5fb382ce1bb3"
      },
      "execution_count": null,
      "outputs": [
        {
          "output_type": "execute_result",
          "data": {
            "text/plain": [
              "[104500.00000000001,\n",
              " 110000.00000000001,\n",
              " 93500.00000000001,\n",
              " 106700.00000000001,\n",
              " 154000.0]"
            ]
          },
          "metadata": {},
          "execution_count": 21
        }
      ]
    },
    {
      "cell_type": "code",
      "source": [
        "#def calculate_salary(base_salaries, bonus_rate = .1):\n",
        " #  return base_salaries * (1 + bonus_rate)\n",
        "\n",
        "total_salary_list = [(lambda x: x)(salary) for salary in data_salaries]\n",
        "total_salary_list"
      ],
      "metadata": {
        "colab": {
          "base_uri": "https://localhost:8080/"
        },
        "id": "UILqli6BITht",
        "outputId": "294d990b-8cfc-4789-e9a8-4d82d35c03d1"
      },
      "execution_count": null,
      "outputs": [
        {
          "output_type": "execute_result",
          "data": {
            "text/plain": [
              "[95000, 100000, 85000, 97000, 140000]"
            ]
          },
          "metadata": {},
          "execution_count": 24
        }
      ]
    },
    {
      "cell_type": "code",
      "source": [
        "#with lambda\n",
        "\n",
        "total_salary_list = [(lambda x: x*1.1)(salary) for salary in data_salaries]    # 1.1 = (1+bonus_rate)\n",
        "total_salary_list"
      ],
      "metadata": {
        "id": "tOIZgwamJuDG",
        "colab": {
          "base_uri": "https://localhost:8080/"
        },
        "outputId": "14738199-2be6-4529-bd36-cc70aad5bc80"
      },
      "execution_count": null,
      "outputs": [
        {
          "output_type": "execute_result",
          "data": {
            "text/plain": [
              "[104500.00000000001,\n",
              " 110000.00000000001,\n",
              " 93500.00000000001,\n",
              " 106700.00000000001,\n",
              " 154000.0]"
            ]
          },
          "metadata": {},
          "execution_count": 26
        }
      ]
    },
    {
      "cell_type": "code",
      "source": [
        "#technically\n",
        "\n",
        "total_salary_list = [salary * 1.1 for salary in data_salaries]\n",
        "total_salary_list"
      ],
      "metadata": {
        "colab": {
          "base_uri": "https://localhost:8080/"
        },
        "id": "g7L_LT4UQE3y",
        "outputId": "2e59f533-58c2-4cc0-9465-73568725e313"
      },
      "execution_count": null,
      "outputs": [
        {
          "output_type": "execute_result",
          "data": {
            "text/plain": [
              "[104500.00000000001,\n",
              " 110000.00000000001,\n",
              " 93500.00000000001,\n",
              " 106700.00000000001,\n",
              " 154000.0]"
            ]
          },
          "metadata": {},
          "execution_count": 27
        }
      ]
    },
    {
      "cell_type": "markdown",
      "source": [
        "#data filtering example"
      ],
      "metadata": {
        "id": "mUjZlb3LY1dH"
      }
    },
    {
      "cell_type": "code",
      "source": [
        "jobs_data = [\n",
        "    {'job_title': 'Data Scientist',  'job_skills': ['Python', 'Machine Learning'], 'remote': True},\n",
        "    {'job_title': 'Data Analyst',  'job_skills': ['Excel', 'SQL'], 'remote': False},\n",
        "    {'job_title': 'Machine Learning Engineer', 'job_skills': ['Python', 'TensorFlow', 'Keras'], 'remote': True},\n",
        "    {'job_title': 'Software Developer', 'job_skills': ['Java', 'C++'], 'remote': True},\n",
        "    {'job_title': 'Data Scientist', 'job_skills': ['R', 'Statistics'], 'remote': False}\n",
        "]"
      ],
      "metadata": {
        "id": "xrPLYOMHRAYA"
      },
      "execution_count": null,
      "outputs": []
    },
    {
      "cell_type": "code",
      "source": [
        "# let's filter the data that have python and remote = true"
      ],
      "metadata": {
        "id": "DGBywKLVY8PU"
      },
      "execution_count": null,
      "outputs": []
    },
    {
      "cell_type": "code",
      "source": [
        "help(filter)"
      ],
      "metadata": {
        "colab": {
          "base_uri": "https://localhost:8080/"
        },
        "id": "po0lISOAY76P",
        "outputId": "e5fbdfbe-c319-4da0-ffd3-1124c14eeec6"
      },
      "execution_count": null,
      "outputs": [
        {
          "output_type": "stream",
          "name": "stdout",
          "text": [
            "Help on class filter in module builtins:\n",
            "\n",
            "class filter(object)\n",
            " |  filter(function or None, iterable) --> filter object\n",
            " |  \n",
            " |  Return an iterator yielding those items of iterable for which function(item)\n",
            " |  is true. If function is None, return the items that are true.\n",
            " |  \n",
            " |  Methods defined here:\n",
            " |  \n",
            " |  __getattribute__(self, name, /)\n",
            " |      Return getattr(self, name).\n",
            " |  \n",
            " |  __iter__(self, /)\n",
            " |      Implement iter(self).\n",
            " |  \n",
            " |  __next__(self, /)\n",
            " |      Implement next(self).\n",
            " |  \n",
            " |  __reduce__(...)\n",
            " |      Return state information for pickling.\n",
            " |  \n",
            " |  ----------------------------------------------------------------------\n",
            " |  Static methods defined here:\n",
            " |  \n",
            " |  __new__(*args, **kwargs)\n",
            " |      Create and return a new object.  See help(type) for accurate signature.\n",
            "\n"
          ]
        }
      ]
    },
    {
      "cell_type": "code",
      "source": [
        "# filtery remote is = true\n",
        "list(filter(lambda job: job['remote'],jobs_data))   #in filter function it's only return function is true."
      ],
      "metadata": {
        "colab": {
          "base_uri": "https://localhost:8080/"
        },
        "id": "dloifUrQZ23D",
        "outputId": "3c5b0bda-ebc0-4a7a-d779-112589f6acc9"
      },
      "execution_count": null,
      "outputs": [
        {
          "output_type": "execute_result",
          "data": {
            "text/plain": [
              "[{'job_title': 'Data Scientist',\n",
              "  'job_skills': ['Python', 'Machine Learning'],\n",
              "  'remote': True},\n",
              " {'job_title': 'Machine Learning Engineer',\n",
              "  'job_skills': ['Python', 'TensorFlow', 'Keras'],\n",
              "  'remote': True},\n",
              " {'job_title': 'Software Developer',\n",
              "  'job_skills': ['Java', 'C++'],\n",
              "  'remote': True}]"
            ]
          },
          "metadata": {},
          "execution_count": 41
        }
      ]
    },
    {
      "cell_type": "code",
      "source": [
        "list(filter(lambda job: job['remote'] and \"Python\" in job['job_skills'], jobs_data))"
      ],
      "metadata": {
        "colab": {
          "base_uri": "https://localhost:8080/"
        },
        "id": "V6OEKx7oZ2qz",
        "outputId": "09ad846f-9315-4060-ad99-dd6b23a04c23"
      },
      "execution_count": null,
      "outputs": [
        {
          "output_type": "execute_result",
          "data": {
            "text/plain": [
              "[{'job_title': 'Data Scientist',\n",
              "  'job_skills': ['Python', 'Machine Learning'],\n",
              "  'remote': True},\n",
              " {'job_title': 'Machine Learning Engineer',\n",
              "  'job_skills': ['Python', 'TensorFlow', 'Keras'],\n",
              "  'remote': True}]"
            ]
          },
          "metadata": {},
          "execution_count": 42
        }
      ]
    },
    {
      "cell_type": "code",
      "source": [],
      "metadata": {
        "id": "jT_6E7EGZ2eE"
      },
      "execution_count": null,
      "outputs": []
    },
    {
      "cell_type": "code",
      "source": [
        "# my way( using only list comprehention)"
      ],
      "metadata": {
        "id": "NWsoDwXqR28L"
      },
      "execution_count": null,
      "outputs": []
    },
    {
      "cell_type": "code",
      "source": [
        "suitable_job = [job for job in jobs_data if 'Python' in job['job_skills'] and job['remote'] == True]\n",
        "suitable_job"
      ],
      "metadata": {
        "colab": {
          "base_uri": "https://localhost:8080/"
        },
        "id": "Fb3Zq8dLR4I9",
        "outputId": "ea772248-f9f5-4627-b735-d2d48d28f70b"
      },
      "execution_count": null,
      "outputs": [
        {
          "output_type": "execute_result",
          "data": {
            "text/plain": [
              "[{'job_title': 'Data Scientist',\n",
              "  'job_skills': ['Python', 'Machine Learning'],\n",
              "  'remote': True},\n",
              " {'job_title': 'Machine Learning Engineer',\n",
              "  'job_skills': ['Python', 'TensorFlow', 'Keras'],\n",
              "  'remote': True}]"
            ]
          },
          "metadata": {},
          "execution_count": 34
        }
      ]
    },
    {
      "cell_type": "code",
      "source": [
        "is_even = lambda x: x % 2 == 0\n",
        "\n",
        "# Test the lambda function\n",
        "print(is_even(9))  # Output: True\n"
      ],
      "metadata": {
        "colab": {
          "base_uri": "https://localhost:8080/"
        },
        "id": "7f0qpfxuStOf",
        "outputId": "6ddc0e18-3941-41a2-bf06-319c7aee0567"
      },
      "execution_count": null,
      "outputs": [
        {
          "output_type": "stream",
          "name": "stdout",
          "text": [
            "False\n"
          ]
        }
      ]
    },
    {
      "cell_type": "code",
      "source": [
        "(lambda x: x * 4 == 12)(3)"
      ],
      "metadata": {
        "colab": {
          "base_uri": "https://localhost:8080/"
        },
        "id": "c6vr06-VeFw3",
        "outputId": "6735d8bf-ee16-4b99-dd57-35520156f70a"
      },
      "execution_count": null,
      "outputs": [
        {
          "output_type": "execute_result",
          "data": {
            "text/plain": [
              "True"
            ]
          },
          "metadata": {},
          "execution_count": 47
        }
      ]
    },
    {
      "cell_type": "code",
      "source": [
        "(lambda x: x*x)(5)     #for squire u can use x**2"
      ],
      "metadata": {
        "colab": {
          "base_uri": "https://localhost:8080/"
        },
        "id": "akQhzwJderJU",
        "outputId": "ab858897-0986-4fee-dd37-d20fd6423955"
      },
      "execution_count": null,
      "outputs": [
        {
          "output_type": "execute_result",
          "data": {
            "text/plain": [
              "25"
            ]
          },
          "metadata": {},
          "execution_count": 48
        }
      ]
    },
    {
      "cell_type": "code",
      "source": [
        "numbers = [-4, 0, 3, 9, -2, 5]\n",
        "positive_numbers = list(filter(lambda x: x>0 ,numbers))\n",
        "positive_numbers"
      ],
      "metadata": {
        "colab": {
          "base_uri": "https://localhost:8080/"
        },
        "id": "59sxOsfOfLNA",
        "outputId": "dff61cf5-03b5-497b-e4f7-5772df117d6b"
      },
      "execution_count": null,
      "outputs": [
        {
          "output_type": "execute_result",
          "data": {
            "text/plain": [
              "[3, 9, 5]"
            ]
          },
          "metadata": {},
          "execution_count": 52
        }
      ]
    },
    {
      "cell_type": "code",
      "source": [
        "people = [(\"Alice\", 30), (\"Bob\", 25), (\"Charlie\", 35)]\n",
        "\n",
        "sorted(people, key= lambda x: x[1], reverse = True)    #x[1] means index is 1 it mean by age]\n",
        "                                                        #reverse = true it's default by decending order"
      ],
      "metadata": {
        "colab": {
          "base_uri": "https://localhost:8080/"
        },
        "id": "xmWdilGDfwEW",
        "outputId": "dfa4d501-e95d-4902-d80d-466b3f7ca37a"
      },
      "execution_count": null,
      "outputs": [
        {
          "output_type": "execute_result",
          "data": {
            "text/plain": [
              "[('Charlie', 35), ('Alice', 30), ('Bob', 25)]"
            ]
          },
          "metadata": {},
          "execution_count": 55
        }
      ]
    },
    {
      "cell_type": "code",
      "source": [],
      "metadata": {
        "id": "6RoaZ_wHh_bv"
      },
      "execution_count": null,
      "outputs": []
    }
  ]
}